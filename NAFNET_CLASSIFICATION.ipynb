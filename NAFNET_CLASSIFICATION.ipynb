{
  "nbformat": 4,
  "nbformat_minor": 0,
  "metadata": {
    "colab": {
      "provenance": []
    },
    "kernelspec": {
      "name": "python3",
      "display_name": "Python 3"
    },
    "language_info": {
      "name": "python"
    }
  },
  "cells": [
    {
      "cell_type": "code",
      "execution_count": null,
      "metadata": {
        "id": "97dZ_UWB3oUG"
      },
      "outputs": [],
      "source": [
        "import torch\n",
        "import torch.nn as nn\n",
        "import torch.nn.functional as F"
      ]
    },
    {
      "cell_type": "code",
      "source": [
        "class SimpleGate(nn.Module):\n",
        "    def forward(self, x):\n",
        "        x1, x2 = x.chunk(2, dim=1)\n",
        "        return x1 * x2"
      ],
      "metadata": {
        "id": "Q5ALHC4g3piv"
      },
      "execution_count": null,
      "outputs": []
    },
    {
      "cell_type": "code",
      "source": [
        "class LayerNorm2d(nn.Module):\n",
        "    def __init__(self, features, eps=1e-6):\n",
        "        super().__init__()\n",
        "        self.gamma = nn.Parameter(torch.ones(features, 1, 1))\n",
        "        self.beta = nn.Parameter(torch.zeros(features, 1, 1))\n",
        "        self.eps = eps\n",
        "\n",
        "    def forward(self, x):\n",
        "        mean = x.mean([1, 2, 3], keepdim=True)\n",
        "        std = x.std([1, 2, 3], keepdim=True)\n",
        "        return self.gamma * (x - mean) / (std + self.eps) + self.beta"
      ],
      "metadata": {
        "id": "Dej3Xzxu5A4f"
      },
      "execution_count": null,
      "outputs": []
    },
    {
      "cell_type": "code",
      "source": [
        "class NAFBlock(nn.Module):\n",
        "    def __init__(self, c, DW_Expand=2, FFN_Expand=2, drop_out_rate=0.):\n",
        "        super().__init__()\n",
        "        dw_channel = c * DW_Expand\n",
        "        self.conv1 = nn.Conv2d(in_channels=c, out_channels=dw_channel, kernel_size=1, padding=0, stride=1, groups=1, bias=True)\n",
        "        self.conv2 = nn.Conv2d(in_channels=dw_channel, out_channels=dw_channel, kernel_size=3, padding=1, stride=1, groups=dw_channel,\n",
        "                               bias=True)\n",
        "        self.conv3 = nn.Conv2d(in_channels=dw_channel // 2, out_channels=c, kernel_size=1, padding=0, stride=1, groups=1, bias=True)\n",
        "        \n",
        "        # Simplified Channel Attention\n",
        "        self.sca = nn.Sequential(\n",
        "            nn.AdaptiveAvgPool2d(1),\n",
        "            nn.Conv2d(in_channels=dw_channel // 2, out_channels=dw_channel // 2, kernel_size=1, padding=0, stride=1,\n",
        "                      groups=1, bias=True),\n",
        "        )\n",
        "\n",
        "        # SimpleGate\n",
        "        self.sg = SimpleGate()\n",
        "\n",
        "        ffn_channel = FFN_Expand * c\n",
        "        self.conv4 = nn.Conv2d(in_channels=c, out_channels=ffn_channel, kernel_size=1, padding=0, stride=1, groups=1, bias=True)\n",
        "        self.conv5 = nn.Conv2d(in_channels=ffn_channel // 2, out_channels=c, kernel_size=1, padding=0, stride=1, groups=1, bias=True)\n",
        "\n",
        "        self.norm1 = LayerNorm2d(c)\n",
        "        self.norm2 = LayerNorm2d(c)\n",
        "\n",
        "        self.dropout1 = nn.Dropout(drop_out_rate) if drop_out_rate > 0. else nn.Identity()\n",
        "        self.dropout2 = nn.Dropout(drop_out_rate) if drop_out_rate > 0. else nn.Identity()\n",
        "\n",
        "        self.beta = nn.Parameter(torch.zeros((1, c, 1, 1)), requires_grad=True)\n",
        "        self.gamma = nn.Parameter(torch.zeros((1, c, 1, 1)), requires_grad=True)\n",
        "\n",
        "    def forward(self, inp):\n",
        "        x = inp\n",
        "\n",
        "        x = self.norm1(x)\n",
        "\n",
        "        x = self.conv1(x)\n",
        "        x = self.conv2(x)\n",
        "        x = self.sg(x)\n",
        "        x = x * self.sca(x)\n",
        "        x = self.conv3(x)\n",
        "\n",
        "        x = self.dropout1(x)\n",
        "\n",
        "        y = inp + x * self.beta\n",
        "\n",
        "        x = self.conv4(self.norm2(y))\n",
        "        x = self.sg(x)\n",
        "        x = self.conv5(x)\n",
        "\n",
        "        x = self.dropout2(x)\n",
        "\n",
        "        return y + x * self.gamma"
      ],
      "metadata": {
        "id": "WDhGPdJh3sxU"
      },
      "execution_count": null,
      "outputs": []
    },
    {
      "cell_type": "code",
      "source": [
        "import torch.nn.functional as F\n",
        "\n",
        "class NAFNetClassification(nn.Module):\n",
        "\n",
        "    def __init__(self, img_channel=3, width=16, middle_blk_num=1, enc_blk_nums=[], dec_blk_nums=[], num_classes=10):\n",
        "        super().__init__()\n",
        "\n",
        "        self.intro = nn.Conv2d(in_channels=img_channel, out_channels=width, kernel_size=3, padding=1, stride=1, groups=1,\n",
        "                              bias=True)\n",
        "\n",
        "        self.encoders = nn.ModuleList()\n",
        "        self.decoders = nn.ModuleList()\n",
        "        self.middle_blks = nn.ModuleList()\n",
        "        self.ups = nn.ModuleList()\n",
        "        self.downs = nn.ModuleList()\n",
        "\n",
        "        chan = width\n",
        "        for num in enc_blk_nums:\n",
        "            self.encoders.append(\n",
        "                nn.Sequential(\n",
        "                    *[NAFBlock(chan) for _ in range(num)]\n",
        "                )\n",
        "            )\n",
        "            self.downs.append(\n",
        "                nn.Conv2d(chan, 2*chan, 2, 2)\n",
        "            )\n",
        "            chan = chan * 2\n",
        "\n",
        "        self.middle_blks = \\\n",
        "            nn.Sequential(\n",
        "                *[NAFBlock(chan) for _ in range(middle_blk_num)]\n",
        "            )\n",
        "\n",
        "        for num in dec_blk_nums:\n",
        "            self.ups.append(\n",
        "                nn.Sequential(\n",
        "                    nn.Conv2d(chan, chan * 2, 1, bias=False),\n",
        "                    nn.PixelShuffle(2)\n",
        "                )\n",
        "            )\n",
        "            chan = chan // 2\n",
        "            self.decoders.append(\n",
        "                nn.Sequential(\n",
        "                    *[NAFBlock(chan) for _ in range(num)]\n",
        "                )\n",
        "            )\n",
        "\n",
        "        self.fc = nn.Linear(chan, num_classes)\n",
        "\n",
        "        self.padder_size = 2 ** len(self.encoders)\n",
        "\n",
        "    def forward(self, inp):\n",
        "        B, C, H, W = inp.shape\n",
        "        inp = self.check_image_size(inp)\n",
        "\n",
        "        x = self.intro(inp)\n",
        "\n",
        "        encs = []\n",
        "\n",
        "        for encoder, down in zip(self.encoders, self.downs):\n",
        "            x = encoder(x)\n",
        "            encs.append(x)\n",
        "            x = down(x)\n",
        "\n",
        "        x = self.middle_blks(x)\n",
        "\n",
        "        for decoder, up, enc_skip in zip(self.decoders, self.ups, encs[::-1]):\n",
        "            x = up(x)\n",
        "            x = x + enc_skip\n",
        "            x = decoder(x)\n",
        "\n",
        "        x = F.adaptive_avg_pool2d(x, 1)\n",
        "        x = x.view(x.size(0), -1)\n",
        "        x = self.fc(x)\n",
        "\n",
        "        return x\n",
        "\n",
        "    def check_image_size(self, x):\n",
        "        _, _, h, w = x.size()\n",
        "        mod_pad_h = (self.padder_size - h % self.padder_size) % self.padder_size\n",
        "        mod_pad_w = (self.padder_size - w % self.padder_size) % self.padder_size\n",
        "        x = F.pad(x, (0, mod_pad_w, 0, mod_pad_h), mode='reflect')\n",
        "        return x\n"
      ],
      "metadata": {
        "id": "uBR_tClp3xIS"
      },
      "execution_count": null,
      "outputs": []
    },
    {
      "cell_type": "code",
      "source": [
        "import torch\n",
        "import torch.nn as nn\n",
        "import torch.optim as optim\n",
        "import torchvision\n",
        "import torchvision.transforms as transforms\n",
        "from tqdm import tqdm"
      ],
      "metadata": {
        "id": "P211_Hcs34_O"
      },
      "execution_count": null,
      "outputs": []
    },
    {
      "cell_type": "code",
      "source": [
        "device = torch.device(\"cuda\" if torch.cuda.is_available() else \"cpu\")"
      ],
      "metadata": {
        "id": "MGKRfgdR4o2j"
      },
      "execution_count": null,
      "outputs": []
    },
    {
      "cell_type": "code",
      "source": [
        "model = NAFNetClassification()\n",
        "model.to(device)"
      ],
      "metadata": {
        "colab": {
          "base_uri": "https://localhost:8080/"
        },
        "id": "uraj_ZfQ4rlV",
        "outputId": "e42e9f6a-7c4f-4346-b7fa-82607693168c"
      },
      "execution_count": null,
      "outputs": [
        {
          "output_type": "execute_result",
          "data": {
            "text/plain": [
              "NAFNetClassification(\n",
              "  (intro): Conv2d(3, 16, kernel_size=(3, 3), stride=(1, 1), padding=(1, 1))\n",
              "  (encoders): ModuleList()\n",
              "  (decoders): ModuleList()\n",
              "  (middle_blks): Sequential(\n",
              "    (0): NAFBlock(\n",
              "      (conv1): Conv2d(16, 32, kernel_size=(1, 1), stride=(1, 1))\n",
              "      (conv2): Conv2d(32, 32, kernel_size=(3, 3), stride=(1, 1), padding=(1, 1), groups=32)\n",
              "      (conv3): Conv2d(16, 16, kernel_size=(1, 1), stride=(1, 1))\n",
              "      (sca): Sequential(\n",
              "        (0): AdaptiveAvgPool2d(output_size=1)\n",
              "        (1): Conv2d(16, 16, kernel_size=(1, 1), stride=(1, 1))\n",
              "      )\n",
              "      (sg): SimpleGate()\n",
              "      (conv4): Conv2d(16, 32, kernel_size=(1, 1), stride=(1, 1))\n",
              "      (conv5): Conv2d(16, 16, kernel_size=(1, 1), stride=(1, 1))\n",
              "      (norm1): LayerNorm2d()\n",
              "      (norm2): LayerNorm2d()\n",
              "      (dropout1): Identity()\n",
              "      (dropout2): Identity()\n",
              "    )\n",
              "  )\n",
              "  (ups): ModuleList()\n",
              "  (downs): ModuleList()\n",
              "  (fc): Linear(in_features=16, out_features=10, bias=True)\n",
              ")"
            ]
          },
          "metadata": {},
          "execution_count": 8
        }
      ]
    },
    {
      "cell_type": "code",
      "source": [
        "criterion = nn.CrossEntropyLoss()\n",
        "optimizer = optim.Adam(model.parameters())"
      ],
      "metadata": {
        "id": "G05kKCm94uuk"
      },
      "execution_count": null,
      "outputs": []
    },
    {
      "cell_type": "code",
      "source": [
        "transform_train = transforms.Compose([\n",
        "    transforms.RandomCrop(32, padding=4),\n",
        "    transforms.RandomHorizontalFlip(),\n",
        "    transforms.ToTensor(),\n",
        "    transforms.Normalize(mean=[0.5, 0.5, 0.5], std=[0.5, 0.5, 0.5])\n",
        "])\n",
        "\n",
        "transform_test = transforms.Compose([\n",
        "    transforms.ToTensor(),\n",
        "    transforms.Normalize(mean=[0.5, 0.5, 0.5], std=[0.5, 0.5, 0.5])\n",
        "])"
      ],
      "metadata": {
        "id": "PXZSIio45Vzt"
      },
      "execution_count": null,
      "outputs": []
    },
    {
      "cell_type": "code",
      "source": [
        "# Load the CIFAR-10 training and test datasets\n",
        "trainset = torchvision.datasets.CIFAR10(root='./data', train=True, download=True, transform=transform_train)\n",
        "trainloader = torch.utils.data.DataLoader(trainset, batch_size=64, shuffle=True, num_workers=2)\n",
        "\n",
        "testset = torchvision.datasets.CIFAR10(root='./data', train=False, download=True, transform=transform_test)\n",
        "testloader = torch.utils.data.DataLoader(testset, batch_size=64, shuffle=False, num_workers=2)\n"
      ],
      "metadata": {
        "colab": {
          "base_uri": "https://localhost:8080/"
        },
        "id": "1ZVtn0tl5aKt",
        "outputId": "7758a05c-8bc4-419e-d07a-b4b1e3729601"
      },
      "execution_count": null,
      "outputs": [
        {
          "output_type": "stream",
          "name": "stdout",
          "text": [
            "Downloading https://www.cs.toronto.edu/~kriz/cifar-10-python.tar.gz to ./data/cifar-10-python.tar.gz\n"
          ]
        },
        {
          "output_type": "stream",
          "name": "stderr",
          "text": [
            "100%|██████████| 170498071/170498071 [00:02<00:00, 81665160.53it/s]\n"
          ]
        },
        {
          "output_type": "stream",
          "name": "stdout",
          "text": [
            "Extracting ./data/cifar-10-python.tar.gz to ./data\n",
            "Files already downloaded and verified\n"
          ]
        }
      ]
    },
    {
      "cell_type": "code",
      "source": [
        "epochs = 50"
      ],
      "metadata": {
        "id": "u15Bc5gU5dP4"
      },
      "execution_count": null,
      "outputs": []
    },
    {
      "cell_type": "code",
      "source": [
        "import matplotlib.pyplot as plt\n",
        "\n",
        "# Initialize an empty list to store the epoch losses\n",
        "epoch_losses = []\n",
        "\n",
        "for epoch in range(epochs):\n",
        "    running_loss = 0.0\n",
        "    for i, data in enumerate(tqdm(trainloader, desc=f\"Epoch {epoch+1}\"), 0):\n",
        "        # Get the inputs and labels\n",
        "        inputs, labels = data\n",
        "        inputs, labels = inputs.to(device), labels.to(device)\n",
        "\n",
        "        # Zero the parameter gradients\n",
        "        optimizer.zero_grad()\n",
        "\n",
        "        # Forward + backward + optimize\n",
        "        outputs = model(inputs)\n",
        "        loss = criterion(outputs, labels)\n",
        "        loss.backward()\n",
        "        optimizer.step()\n",
        "\n",
        "        # Print statistics\n",
        "        running_loss += loss.item()\n",
        "        if i % 100 == 99:\n",
        "            print(f\"[Epoch {epoch+1}, Batch {i+1}] Loss: {running_loss/100:.3f}\")\n",
        "            running_loss = 0.0\n",
        "\n",
        "    # Calculate the average loss for the epoch\n",
        "    epoch_loss = running_loss / len(trainloader)\n",
        "    epoch_losses.append(epoch_loss)\n",
        "\n",
        "# Plot the training loss\n",
        "plt.plot(range(1, epochs+1), epoch_losses)\n",
        "plt.xlabel('Epoch')\n",
        "plt.ylabel('Training Loss')\n",
        "plt.title('Training Loss per Epoch')\n",
        "plt.show()\n"
      ],
      "metadata": {
        "colab": {
          "base_uri": "https://localhost:8080/",
          "height": 1000
        },
        "id": "GyZ57Pfc5nfs",
        "outputId": "cc596ac7-23fd-4436-fd3c-c45f7da5e689"
      },
      "execution_count": null,
      "outputs": [
        {
          "metadata": {
            "tags": null
          },
          "name": "stderr",
          "output_type": "stream",
          "text": [
            "Epoch 1:  13%|█▎        | 101/782 [00:25<01:55,  5.90it/s]"
          ]
        },
        {
          "metadata": {
            "tags": null
          },
          "name": "stdout",
          "output_type": "stream",
          "text": [
            "[Epoch 1, Batch 100] Loss: 2.279\n"
          ]
        },
        {
          "metadata": {
            "tags": null
          },
          "name": "stderr",
          "output_type": "stream",
          "text": [
            "Epoch 1:  26%|██▌       | 201/782 [00:44<01:41,  5.73it/s]"
          ]
        },
        {
          "metadata": {
            "tags": null
          },
          "name": "stdout",
          "output_type": "stream",
          "text": [
            "[Epoch 1, Batch 200] Loss: 2.084\n"
          ]
        },
        {
          "metadata": {
            "tags": null
          },
          "name": "stderr",
          "output_type": "stream",
          "text": [
            "Epoch 1:  38%|███▊      | 301/782 [01:02<01:24,  5.72it/s]"
          ]
        },
        {
          "metadata": {
            "tags": null
          },
          "name": "stdout",
          "output_type": "stream",
          "text": [
            "[Epoch 1, Batch 300] Loss: 2.009\n"
          ]
        },
        {
          "metadata": {
            "tags": null
          },
          "name": "stderr",
          "output_type": "stream",
          "text": [
            "Epoch 1:  51%|█████▏    | 401/782 [01:22<01:06,  5.70it/s]"
          ]
        },
        {
          "metadata": {
            "tags": null
          },
          "name": "stdout",
          "output_type": "stream",
          "text": [
            "[Epoch 1, Batch 400] Loss: 1.981\n"
          ]
        },
        {
          "metadata": {
            "tags": null
          },
          "name": "stderr",
          "output_type": "stream",
          "text": [
            "Epoch 1:  64%|██████▍   | 501/782 [01:40<00:47,  5.88it/s]"
          ]
        },
        {
          "metadata": {
            "tags": null
          },
          "name": "stdout",
          "output_type": "stream",
          "text": [
            "[Epoch 1, Batch 500] Loss: 1.951\n"
          ]
        },
        {
          "metadata": {
            "tags": null
          },
          "name": "stderr",
          "output_type": "stream",
          "text": [
            "Epoch 1:  77%|███████▋  | 600/782 [01:58<00:35,  5.11it/s]"
          ]
        },
        {
          "metadata": {
            "tags": null
          },
          "name": "stdout",
          "output_type": "stream",
          "text": [
            "[Epoch 1, Batch 600] Loss: 1.939\n"
          ]
        },
        {
          "metadata": {
            "tags": null
          },
          "name": "stderr",
          "output_type": "stream",
          "text": [
            "Epoch 1:  90%|████████▉ | 701/782 [02:16<00:13,  5.84it/s]"
          ]
        },
        {
          "metadata": {
            "tags": null
          },
          "name": "stdout",
          "output_type": "stream",
          "text": [
            "[Epoch 1, Batch 700] Loss: 1.908\n"
          ]
        },
        {
          "metadata": {
            "tags": null
          },
          "name": "stderr",
          "output_type": "stream",
          "text": [
            "Epoch 1: 100%|██████████| 782/782 [02:31<00:00,  5.15it/s]\n",
            "Epoch 2:  13%|█▎        | 100/782 [00:18<02:30,  4.52it/s]"
          ]
        },
        {
          "metadata": {
            "tags": null
          },
          "name": "stdout",
          "output_type": "stream",
          "text": [
            "[Epoch 2, Batch 100] Loss: 1.884\n"
          ]
        },
        {
          "metadata": {
            "tags": null
          },
          "name": "stderr",
          "output_type": "stream",
          "text": [
            "Epoch 2:  26%|██▌       | 201/782 [00:37<01:41,  5.74it/s]"
          ]
        },
        {
          "metadata": {
            "tags": null
          },
          "name": "stdout",
          "output_type": "stream",
          "text": [
            "[Epoch 2, Batch 200] Loss: 1.885\n"
          ]
        },
        {
          "metadata": {
            "tags": null
          },
          "name": "stderr",
          "output_type": "stream",
          "text": [
            "Epoch 2:  38%|███▊      | 300/782 [00:56<01:31,  5.26it/s]"
          ]
        },
        {
          "metadata": {
            "tags": null
          },
          "name": "stdout",
          "output_type": "stream",
          "text": [
            "[Epoch 2, Batch 300] Loss: 1.870\n"
          ]
        },
        {
          "metadata": {
            "tags": null
          },
          "name": "stderr",
          "output_type": "stream",
          "text": [
            "Epoch 2:  51%|█████▏    | 401/782 [01:15<01:08,  5.59it/s]"
          ]
        },
        {
          "metadata": {
            "tags": null
          },
          "name": "stdout",
          "output_type": "stream",
          "text": [
            "[Epoch 2, Batch 400] Loss: 1.859\n"
          ]
        },
        {
          "metadata": {
            "tags": null
          },
          "name": "stderr",
          "output_type": "stream",
          "text": [
            "Epoch 2:  64%|██████▍   | 501/782 [01:33<00:48,  5.83it/s]"
          ]
        },
        {
          "metadata": {
            "tags": null
          },
          "name": "stdout",
          "output_type": "stream",
          "text": [
            "[Epoch 2, Batch 500] Loss: 1.830\n"
          ]
        },
        {
          "metadata": {
            "tags": null
          },
          "name": "stderr",
          "output_type": "stream",
          "text": [
            "Epoch 2:  77%|███████▋  | 601/782 [01:52<00:31,  5.68it/s]"
          ]
        },
        {
          "metadata": {
            "tags": null
          },
          "name": "stdout",
          "output_type": "stream",
          "text": [
            "[Epoch 2, Batch 600] Loss: 1.845\n"
          ]
        },
        {
          "metadata": {
            "tags": null
          },
          "name": "stderr",
          "output_type": "stream",
          "text": [
            "Epoch 2:  90%|████████▉ | 701/782 [02:10<00:14,  5.71it/s]"
          ]
        },
        {
          "metadata": {
            "tags": null
          },
          "name": "stdout",
          "output_type": "stream",
          "text": [
            "[Epoch 2, Batch 700] Loss: 1.819\n"
          ]
        },
        {
          "metadata": {
            "tags": null
          },
          "name": "stderr",
          "output_type": "stream",
          "text": [
            "Epoch 2: 100%|██████████| 782/782 [02:24<00:00,  5.40it/s]\n",
            "Epoch 3:  13%|█▎        | 101/782 [00:19<02:03,  5.50it/s]"
          ]
        },
        {
          "metadata": {
            "tags": null
          },
          "name": "stdout",
          "output_type": "stream",
          "text": [
            "[Epoch 3, Batch 100] Loss: 1.794\n"
          ]
        },
        {
          "metadata": {
            "tags": null
          },
          "name": "stderr",
          "output_type": "stream",
          "text": [
            "Epoch 3:  26%|██▌       | 201/782 [00:38<01:41,  5.75it/s]"
          ]
        },
        {
          "metadata": {
            "tags": null
          },
          "name": "stdout",
          "output_type": "stream",
          "text": [
            "[Epoch 3, Batch 200] Loss: 1.790\n"
          ]
        },
        {
          "metadata": {
            "tags": null
          },
          "name": "stderr",
          "output_type": "stream",
          "text": [
            "Epoch 3:  38%|███▊      | 300/782 [00:56<01:45,  4.55it/s]"
          ]
        },
        {
          "metadata": {
            "tags": null
          },
          "name": "stdout",
          "output_type": "stream",
          "text": [
            "[Epoch 3, Batch 300] Loss: 1.790\n"
          ]
        },
        {
          "metadata": {
            "tags": null
          },
          "name": "stderr",
          "output_type": "stream",
          "text": [
            "Epoch 3:  51%|█████▏    | 401/782 [01:14<01:06,  5.76it/s]"
          ]
        },
        {
          "metadata": {
            "tags": null
          },
          "name": "stdout",
          "output_type": "stream",
          "text": [
            "[Epoch 3, Batch 400] Loss: 1.783\n"
          ]
        },
        {
          "metadata": {
            "tags": null
          },
          "name": "stderr",
          "output_type": "stream",
          "text": [
            "Epoch 3:  64%|██████▍   | 501/782 [01:32<00:48,  5.74it/s]"
          ]
        },
        {
          "metadata": {
            "tags": null
          },
          "name": "stdout",
          "output_type": "stream",
          "text": [
            "[Epoch 3, Batch 500] Loss: 1.760\n"
          ]
        },
        {
          "metadata": {
            "tags": null
          },
          "name": "stderr",
          "output_type": "stream",
          "text": [
            "Epoch 3:  77%|███████▋  | 601/782 [01:51<00:31,  5.74it/s]"
          ]
        },
        {
          "metadata": {
            "tags": null
          },
          "name": "stdout",
          "output_type": "stream",
          "text": [
            "[Epoch 3, Batch 600] Loss: 1.757\n"
          ]
        },
        {
          "metadata": {
            "tags": null
          },
          "name": "stderr",
          "output_type": "stream",
          "text": [
            "Epoch 3:  90%|████████▉ | 701/782 [02:09<00:13,  6.11it/s]"
          ]
        },
        {
          "metadata": {
            "tags": null
          },
          "name": "stdout",
          "output_type": "stream",
          "text": [
            "[Epoch 3, Batch 700] Loss: 1.766\n"
          ]
        },
        {
          "metadata": {
            "tags": null
          },
          "name": "stderr",
          "output_type": "stream",
          "text": [
            "Epoch 3: 100%|██████████| 782/782 [02:24<00:00,  5.43it/s]\n",
            "Epoch 4:  13%|█▎        | 101/782 [00:21<01:59,  5.70it/s]"
          ]
        },
        {
          "metadata": {
            "tags": null
          },
          "name": "stdout",
          "output_type": "stream",
          "text": [
            "[Epoch 4, Batch 100] Loss: 1.741\n"
          ]
        },
        {
          "metadata": {
            "tags": null
          },
          "name": "stderr",
          "output_type": "stream",
          "text": [
            "Epoch 4:  26%|██▌       | 201/782 [00:39<01:38,  5.88it/s]"
          ]
        },
        {
          "metadata": {
            "tags": null
          },
          "name": "stdout",
          "output_type": "stream",
          "text": [
            "[Epoch 4, Batch 200] Loss: 1.740\n"
          ]
        },
        {
          "metadata": {
            "tags": null
          },
          "name": "stderr",
          "output_type": "stream",
          "text": [
            "Epoch 4:  38%|███▊      | 301/782 [00:58<01:25,  5.63it/s]"
          ]
        },
        {
          "metadata": {
            "tags": null
          },
          "name": "stdout",
          "output_type": "stream",
          "text": [
            "[Epoch 4, Batch 300] Loss: 1.742\n"
          ]
        },
        {
          "metadata": {
            "tags": null
          },
          "name": "stderr",
          "output_type": "stream",
          "text": [
            "Epoch 4:  51%|█████▏    | 401/782 [01:16<01:05,  5.86it/s]"
          ]
        },
        {
          "metadata": {
            "tags": null
          },
          "name": "stdout",
          "output_type": "stream",
          "text": [
            "[Epoch 4, Batch 400] Loss: 1.727\n"
          ]
        },
        {
          "metadata": {
            "tags": null
          },
          "name": "stderr",
          "output_type": "stream",
          "text": [
            "Epoch 4:  64%|██████▍   | 500/782 [01:35<01:08,  4.10it/s]"
          ]
        },
        {
          "metadata": {
            "tags": null
          },
          "name": "stdout",
          "output_type": "stream",
          "text": [
            "[Epoch 4, Batch 500] Loss: 1.720\n"
          ]
        },
        {
          "metadata": {
            "tags": null
          },
          "name": "stderr",
          "output_type": "stream",
          "text": [
            "Epoch 4:  77%|███████▋  | 601/782 [01:54<00:33,  5.41it/s]"
          ]
        },
        {
          "metadata": {
            "tags": null
          },
          "name": "stdout",
          "output_type": "stream",
          "text": [
            "[Epoch 4, Batch 600] Loss: 1.706\n"
          ]
        },
        {
          "metadata": {
            "tags": null
          },
          "name": "stderr",
          "output_type": "stream",
          "text": [
            "Epoch 4:  90%|████████▉ | 701/782 [02:15<00:19,  4.25it/s]"
          ]
        },
        {
          "metadata": {
            "tags": null
          },
          "name": "stdout",
          "output_type": "stream",
          "text": [
            "[Epoch 4, Batch 700] Loss: 1.712\n"
          ]
        },
        {
          "metadata": {
            "tags": null
          },
          "name": "stderr",
          "output_type": "stream",
          "text": [
            "Epoch 4: 100%|██████████| 782/782 [02:31<00:00,  5.16it/s]\n",
            "Epoch 5:  13%|█▎        | 100/782 [00:19<02:04,  5.46it/s]"
          ]
        },
        {
          "metadata": {
            "tags": null
          },
          "name": "stdout",
          "output_type": "stream",
          "text": [
            "[Epoch 5, Batch 100] Loss: 1.700\n"
          ]
        },
        {
          "metadata": {
            "tags": null
          },
          "name": "stderr",
          "output_type": "stream",
          "text": [
            "Epoch 5:  26%|██▌       | 201/782 [00:39<01:44,  5.58it/s]"
          ]
        },
        {
          "metadata": {
            "tags": null
          },
          "name": "stdout",
          "output_type": "stream",
          "text": [
            "[Epoch 5, Batch 200] Loss: 1.707\n"
          ]
        },
        {
          "metadata": {
            "tags": null
          },
          "name": "stderr",
          "output_type": "stream",
          "text": [
            "Epoch 5:  38%|███▊      | 300/782 [00:59<01:52,  4.28it/s]"
          ]
        },
        {
          "metadata": {
            "tags": null
          },
          "name": "stdout",
          "output_type": "stream",
          "text": [
            "[Epoch 5, Batch 300] Loss: 1.701\n"
          ]
        },
        {
          "metadata": {
            "tags": null
          },
          "name": "stderr",
          "output_type": "stream",
          "text": [
            "Epoch 5:  51%|█████▏    | 401/782 [01:19<01:10,  5.39it/s]"
          ]
        },
        {
          "metadata": {
            "tags": null
          },
          "name": "stdout",
          "output_type": "stream",
          "text": [
            "[Epoch 5, Batch 400] Loss: 1.684\n"
          ]
        },
        {
          "metadata": {
            "tags": null
          },
          "name": "stderr",
          "output_type": "stream",
          "text": [
            "Epoch 5:  64%|██████▍   | 501/782 [01:38<00:50,  5.53it/s]"
          ]
        },
        {
          "metadata": {
            "tags": null
          },
          "name": "stdout",
          "output_type": "stream",
          "text": [
            "[Epoch 5, Batch 500] Loss: 1.678\n"
          ]
        },
        {
          "metadata": {
            "tags": null
          },
          "name": "stderr",
          "output_type": "stream",
          "text": [
            "Epoch 5:  77%|███████▋  | 601/782 [01:57<00:32,  5.51it/s]"
          ]
        },
        {
          "metadata": {
            "tags": null
          },
          "name": "stdout",
          "output_type": "stream",
          "text": [
            "[Epoch 5, Batch 600] Loss: 1.689\n"
          ]
        },
        {
          "metadata": {
            "tags": null
          },
          "name": "stderr",
          "output_type": "stream",
          "text": [
            "Epoch 5:  90%|████████▉ | 701/782 [02:16<00:14,  5.57it/s]"
          ]
        },
        {
          "metadata": {
            "tags": null
          },
          "name": "stdout",
          "output_type": "stream",
          "text": [
            "[Epoch 5, Batch 700] Loss: 1.691\n"
          ]
        },
        {
          "metadata": {
            "tags": null
          },
          "name": "stderr",
          "output_type": "stream",
          "text": [
            "Epoch 5: 100%|██████████| 782/782 [02:30<00:00,  5.21it/s]\n",
            "Epoch 6:  13%|█▎        | 101/782 [00:19<01:59,  5.71it/s]"
          ]
        },
        {
          "metadata": {
            "tags": null
          },
          "name": "stdout",
          "output_type": "stream",
          "text": [
            "[Epoch 6, Batch 100] Loss: 1.681\n"
          ]
        },
        {
          "metadata": {
            "tags": null
          },
          "name": "stderr",
          "output_type": "stream",
          "text": [
            "Epoch 6:  26%|██▌       | 201/782 [00:38<01:42,  5.68it/s]"
          ]
        },
        {
          "metadata": {
            "tags": null
          },
          "name": "stdout",
          "output_type": "stream",
          "text": [
            "[Epoch 6, Batch 200] Loss: 1.681\n"
          ]
        },
        {
          "metadata": {
            "tags": null
          },
          "name": "stderr",
          "output_type": "stream",
          "text": [
            "Epoch 6:  38%|███▊      | 301/782 [00:58<01:29,  5.38it/s]"
          ]
        },
        {
          "metadata": {
            "tags": null
          },
          "name": "stdout",
          "output_type": "stream",
          "text": [
            "[Epoch 6, Batch 300] Loss: 1.685\n"
          ]
        },
        {
          "metadata": {
            "tags": null
          },
          "name": "stderr",
          "output_type": "stream",
          "text": [
            "Epoch 6:  51%|█████▏    | 401/782 [01:17<01:07,  5.63it/s]"
          ]
        },
        {
          "metadata": {
            "tags": null
          },
          "name": "stdout",
          "output_type": "stream",
          "text": [
            "[Epoch 6, Batch 400] Loss: 1.655\n"
          ]
        },
        {
          "metadata": {
            "tags": null
          },
          "name": "stderr",
          "output_type": "stream",
          "text": [
            "Epoch 6:  64%|██████▍   | 501/782 [01:36<00:51,  5.42it/s]"
          ]
        },
        {
          "metadata": {
            "tags": null
          },
          "name": "stdout",
          "output_type": "stream",
          "text": [
            "[Epoch 6, Batch 500] Loss: 1.676\n"
          ]
        },
        {
          "metadata": {
            "tags": null
          },
          "name": "stderr",
          "output_type": "stream",
          "text": [
            "Epoch 6:  77%|███████▋  | 601/782 [01:55<00:33,  5.47it/s]"
          ]
        },
        {
          "metadata": {
            "tags": null
          },
          "name": "stdout",
          "output_type": "stream",
          "text": [
            "[Epoch 6, Batch 600] Loss: 1.649\n"
          ]
        },
        {
          "metadata": {
            "tags": null
          },
          "name": "stderr",
          "output_type": "stream",
          "text": [
            "Epoch 6:  90%|████████▉ | 701/782 [02:15<00:14,  5.64it/s]"
          ]
        },
        {
          "metadata": {
            "tags": null
          },
          "name": "stdout",
          "output_type": "stream",
          "text": [
            "[Epoch 6, Batch 700] Loss: 1.645\n"
          ]
        },
        {
          "metadata": {
            "tags": null
          },
          "name": "stderr",
          "output_type": "stream",
          "text": [
            "Epoch 6: 100%|██████████| 782/782 [02:30<00:00,  5.19it/s]\n",
            "Epoch 7:  13%|█▎        | 100/782 [00:19<02:29,  4.55it/s]"
          ]
        },
        {
          "metadata": {
            "tags": null
          },
          "name": "stdout",
          "output_type": "stream",
          "text": [
            "[Epoch 7, Batch 100] Loss: 1.654\n"
          ]
        },
        {
          "metadata": {
            "tags": null
          },
          "name": "stderr",
          "output_type": "stream",
          "text": [
            "Epoch 7:  26%|██▌       | 201/782 [00:38<01:41,  5.73it/s]"
          ]
        },
        {
          "metadata": {
            "tags": null
          },
          "name": "stdout",
          "output_type": "stream",
          "text": [
            "[Epoch 7, Batch 200] Loss: 1.657\n"
          ]
        },
        {
          "metadata": {
            "tags": null
          },
          "name": "stderr",
          "output_type": "stream",
          "text": [
            "Epoch 7:  38%|███▊      | 301/782 [00:57<01:26,  5.53it/s]"
          ]
        },
        {
          "metadata": {
            "tags": null
          },
          "name": "stdout",
          "output_type": "stream",
          "text": [
            "[Epoch 7, Batch 300] Loss: 1.659\n"
          ]
        },
        {
          "metadata": {
            "tags": null
          },
          "name": "stderr",
          "output_type": "stream",
          "text": [
            "Epoch 7:  51%|█████▏    | 401/782 [01:16<01:10,  5.43it/s]"
          ]
        },
        {
          "metadata": {
            "tags": null
          },
          "name": "stdout",
          "output_type": "stream",
          "text": [
            "[Epoch 7, Batch 400] Loss: 1.647\n"
          ]
        },
        {
          "metadata": {
            "tags": null
          },
          "name": "stderr",
          "output_type": "stream",
          "text": [
            "Epoch 7:  64%|██████▍   | 501/782 [01:35<00:51,  5.46it/s]"
          ]
        },
        {
          "metadata": {
            "tags": null
          },
          "name": "stdout",
          "output_type": "stream",
          "text": [
            "[Epoch 7, Batch 500] Loss: 1.650\n"
          ]
        },
        {
          "metadata": {
            "tags": null
          },
          "name": "stderr",
          "output_type": "stream",
          "text": [
            "Epoch 7:  77%|███████▋  | 601/782 [01:56<00:33,  5.48it/s]"
          ]
        },
        {
          "metadata": {
            "tags": null
          },
          "name": "stdout",
          "output_type": "stream",
          "text": [
            "[Epoch 7, Batch 600] Loss: 1.643\n"
          ]
        },
        {
          "metadata": {
            "tags": null
          },
          "name": "stderr",
          "output_type": "stream",
          "text": [
            "Epoch 7:  90%|████████▉ | 701/782 [02:15<00:14,  5.43it/s]"
          ]
        },
        {
          "metadata": {
            "tags": null
          },
          "name": "stdout",
          "output_type": "stream",
          "text": [
            "[Epoch 7, Batch 700] Loss: 1.625\n"
          ]
        },
        {
          "metadata": {
            "tags": null
          },
          "name": "stderr",
          "output_type": "stream",
          "text": [
            "Epoch 7: 100%|██████████| 782/782 [02:30<00:00,  5.18it/s]\n",
            "Epoch 8:  13%|█▎        | 100/782 [00:19<02:15,  5.03it/s]"
          ]
        },
        {
          "metadata": {
            "tags": null
          },
          "name": "stdout",
          "output_type": "stream",
          "text": [
            "[Epoch 8, Batch 100] Loss: 1.635\n"
          ]
        },
        {
          "metadata": {
            "tags": null
          },
          "name": "stderr",
          "output_type": "stream",
          "text": [
            "Epoch 8:  26%|██▌       | 200/782 [00:40<02:06,  4.60it/s]"
          ]
        },
        {
          "metadata": {
            "tags": null
          },
          "name": "stdout",
          "output_type": "stream",
          "text": [
            "[Epoch 8, Batch 200] Loss: 1.639\n"
          ]
        },
        {
          "metadata": {
            "tags": null
          },
          "name": "stderr",
          "output_type": "stream",
          "text": [
            "Epoch 8:  38%|███▊      | 301/782 [00:59<01:27,  5.51it/s]"
          ]
        },
        {
          "metadata": {
            "tags": null
          },
          "name": "stdout",
          "output_type": "stream",
          "text": [
            "[Epoch 8, Batch 300] Loss: 1.616\n"
          ]
        },
        {
          "metadata": {
            "tags": null
          },
          "name": "stderr",
          "output_type": "stream",
          "text": [
            "Epoch 8:  51%|█████     | 400/782 [01:18<01:26,  4.41it/s]"
          ]
        },
        {
          "metadata": {
            "tags": null
          },
          "name": "stdout",
          "output_type": "stream",
          "text": [
            "[Epoch 8, Batch 400] Loss: 1.631\n"
          ]
        },
        {
          "metadata": {
            "tags": null
          },
          "name": "stderr",
          "output_type": "stream",
          "text": [
            "Epoch 8:  64%|██████▍   | 501/782 [01:37<00:49,  5.67it/s]"
          ]
        },
        {
          "metadata": {
            "tags": null
          },
          "name": "stdout",
          "output_type": "stream",
          "text": [
            "[Epoch 8, Batch 500] Loss: 1.609\n"
          ]
        },
        {
          "metadata": {
            "tags": null
          },
          "name": "stderr",
          "output_type": "stream",
          "text": [
            "Epoch 8:  77%|███████▋  | 600/782 [01:57<00:41,  4.36it/s]"
          ]
        },
        {
          "metadata": {
            "tags": null
          },
          "name": "stdout",
          "output_type": "stream",
          "text": [
            "[Epoch 8, Batch 600] Loss: 1.619\n"
          ]
        },
        {
          "metadata": {
            "tags": null
          },
          "name": "stderr",
          "output_type": "stream",
          "text": [
            "Epoch 8:  90%|████████▉ | 701/782 [02:16<00:15,  5.26it/s]"
          ]
        },
        {
          "metadata": {
            "tags": null
          },
          "name": "stdout",
          "output_type": "stream",
          "text": [
            "[Epoch 8, Batch 700] Loss: 1.618\n"
          ]
        },
        {
          "metadata": {
            "tags": null
          },
          "name": "stderr",
          "output_type": "stream",
          "text": [
            "Epoch 8: 100%|██████████| 782/782 [02:32<00:00,  5.12it/s]\n",
            "Epoch 9:  13%|█▎        | 101/782 [00:20<02:02,  5.57it/s]"
          ]
        },
        {
          "metadata": {
            "tags": null
          },
          "name": "stdout",
          "output_type": "stream",
          "text": [
            "[Epoch 9, Batch 100] Loss: 1.603\n"
          ]
        },
        {
          "metadata": {
            "tags": null
          },
          "name": "stderr",
          "output_type": "stream",
          "text": [
            "Epoch 9:  26%|██▌       | 201/782 [00:39<01:47,  5.42it/s]"
          ]
        },
        {
          "metadata": {
            "tags": null
          },
          "name": "stdout",
          "output_type": "stream",
          "text": [
            "[Epoch 9, Batch 200] Loss: 1.634\n"
          ]
        },
        {
          "metadata": {
            "tags": null
          },
          "name": "stderr",
          "output_type": "stream",
          "text": [
            "Epoch 9:  38%|███▊      | 301/782 [00:59<01:28,  5.41it/s]"
          ]
        },
        {
          "metadata": {
            "tags": null
          },
          "name": "stdout",
          "output_type": "stream",
          "text": [
            "[Epoch 9, Batch 300] Loss: 1.597\n"
          ]
        },
        {
          "metadata": {
            "tags": null
          },
          "name": "stderr",
          "output_type": "stream",
          "text": [
            "Epoch 9:  51%|█████▏    | 401/782 [01:18<01:09,  5.47it/s]"
          ]
        },
        {
          "metadata": {
            "tags": null
          },
          "name": "stdout",
          "output_type": "stream",
          "text": [
            "[Epoch 9, Batch 400] Loss: 1.619\n"
          ]
        },
        {
          "metadata": {
            "tags": null
          },
          "name": "stderr",
          "output_type": "stream",
          "text": [
            "Epoch 9:  64%|██████▍   | 501/782 [01:37<00:50,  5.53it/s]"
          ]
        },
        {
          "metadata": {
            "tags": null
          },
          "name": "stdout",
          "output_type": "stream",
          "text": [
            "[Epoch 9, Batch 500] Loss: 1.612\n"
          ]
        },
        {
          "metadata": {
            "tags": null
          },
          "name": "stderr",
          "output_type": "stream",
          "text": [
            "Epoch 9:  77%|███████▋  | 601/782 [01:56<00:33,  5.38it/s]"
          ]
        },
        {
          "metadata": {
            "tags": null
          },
          "name": "stdout",
          "output_type": "stream",
          "text": [
            "[Epoch 9, Batch 600] Loss: 1.600\n"
          ]
        },
        {
          "metadata": {
            "tags": null
          },
          "name": "stderr",
          "output_type": "stream",
          "text": [
            "Epoch 9:  90%|████████▉ | 701/782 [02:16<00:15,  5.26it/s]"
          ]
        },
        {
          "metadata": {
            "tags": null
          },
          "name": "stdout",
          "output_type": "stream",
          "text": [
            "[Epoch 9, Batch 700] Loss: 1.597\n"
          ]
        },
        {
          "metadata": {
            "tags": null
          },
          "name": "stderr",
          "output_type": "stream",
          "text": [
            "Epoch 9: 100%|██████████| 782/782 [02:32<00:00,  5.12it/s]\n",
            "Epoch 10:  13%|█▎        | 100/782 [00:19<02:47,  4.07it/s]"
          ]
        },
        {
          "metadata": {
            "tags": null
          },
          "name": "stdout",
          "output_type": "stream",
          "text": [
            "[Epoch 10, Batch 100] Loss: 1.604\n"
          ]
        },
        {
          "metadata": {
            "tags": null
          },
          "name": "stderr",
          "output_type": "stream",
          "text": [
            "Epoch 10:  26%|██▌       | 201/782 [00:39<01:46,  5.47it/s]"
          ]
        },
        {
          "metadata": {
            "tags": null
          },
          "name": "stdout",
          "output_type": "stream",
          "text": [
            "[Epoch 10, Batch 200] Loss: 1.587\n"
          ]
        },
        {
          "metadata": {
            "tags": null
          },
          "name": "stderr",
          "output_type": "stream",
          "text": [
            "Epoch 10:  38%|███▊      | 300/782 [00:59<01:55,  4.19it/s]"
          ]
        },
        {
          "metadata": {
            "tags": null
          },
          "name": "stdout",
          "output_type": "stream",
          "text": [
            "[Epoch 10, Batch 300] Loss: 1.606\n"
          ]
        },
        {
          "metadata": {
            "tags": null
          },
          "name": "stderr",
          "output_type": "stream",
          "text": [
            "Epoch 10:  51%|█████▏    | 401/782 [01:18<01:08,  5.58it/s]"
          ]
        },
        {
          "metadata": {
            "tags": null
          },
          "name": "stdout",
          "output_type": "stream",
          "text": [
            "[Epoch 10, Batch 400] Loss: 1.601\n"
          ]
        },
        {
          "metadata": {
            "tags": null
          },
          "name": "stderr",
          "output_type": "stream",
          "text": [
            "Epoch 10:  64%|██████▍   | 500/782 [01:37<01:10,  3.98it/s]"
          ]
        },
        {
          "metadata": {
            "tags": null
          },
          "name": "stdout",
          "output_type": "stream",
          "text": [
            "[Epoch 10, Batch 500] Loss: 1.569\n"
          ]
        },
        {
          "metadata": {
            "tags": null
          },
          "name": "stderr",
          "output_type": "stream",
          "text": [
            "Epoch 10:  77%|███████▋  | 601/782 [01:56<00:32,  5.57it/s]"
          ]
        },
        {
          "metadata": {
            "tags": null
          },
          "name": "stdout",
          "output_type": "stream",
          "text": [
            "[Epoch 10, Batch 600] Loss: 1.600\n"
          ]
        },
        {
          "metadata": {
            "tags": null
          },
          "name": "stderr",
          "output_type": "stream",
          "text": [
            "Epoch 10:  90%|████████▉ | 700/782 [02:15<00:17,  4.80it/s]"
          ]
        },
        {
          "metadata": {
            "tags": null
          },
          "name": "stdout",
          "output_type": "stream",
          "text": [
            "[Epoch 10, Batch 700] Loss: 1.576\n"
          ]
        },
        {
          "metadata": {
            "tags": null
          },
          "name": "stderr",
          "output_type": "stream",
          "text": [
            "Epoch 10: 100%|██████████| 782/782 [02:31<00:00,  5.16it/s]\n",
            "Epoch 11:  13%|█▎        | 101/782 [00:19<02:03,  5.52it/s]"
          ]
        },
        {
          "metadata": {
            "tags": null
          },
          "name": "stdout",
          "output_type": "stream",
          "text": [
            "[Epoch 11, Batch 100] Loss: 1.574\n"
          ]
        },
        {
          "metadata": {
            "tags": null
          },
          "name": "stderr",
          "output_type": "stream",
          "text": [
            "Epoch 11:  26%|██▌       | 201/782 [00:38<01:57,  4.92it/s]"
          ]
        },
        {
          "metadata": {
            "tags": null
          },
          "name": "stdout",
          "output_type": "stream",
          "text": [
            "[Epoch 11, Batch 200] Loss: 1.575\n"
          ]
        },
        {
          "metadata": {
            "tags": null
          },
          "name": "stderr",
          "output_type": "stream",
          "text": [
            "Epoch 11:  38%|███▊      | 301/782 [00:57<01:25,  5.63it/s]"
          ]
        },
        {
          "metadata": {
            "tags": null
          },
          "name": "stdout",
          "output_type": "stream",
          "text": [
            "[Epoch 11, Batch 300] Loss: 1.577\n"
          ]
        },
        {
          "metadata": {
            "tags": null
          },
          "name": "stderr",
          "output_type": "stream",
          "text": [
            "Epoch 11:  51%|█████     | 400/782 [01:16<01:32,  4.12it/s]"
          ]
        },
        {
          "metadata": {
            "tags": null
          },
          "name": "stdout",
          "output_type": "stream",
          "text": [
            "[Epoch 11, Batch 400] Loss: 1.575\n"
          ]
        },
        {
          "metadata": {
            "tags": null
          },
          "name": "stderr",
          "output_type": "stream",
          "text": [
            "Epoch 11:  64%|██████▍   | 501/782 [01:35<00:51,  5.45it/s]"
          ]
        },
        {
          "metadata": {
            "tags": null
          },
          "name": "stdout",
          "output_type": "stream",
          "text": [
            "[Epoch 11, Batch 500] Loss: 1.587\n"
          ]
        },
        {
          "metadata": {
            "tags": null
          },
          "name": "stderr",
          "output_type": "stream",
          "text": [
            "Epoch 11:  77%|███████▋  | 600/782 [01:53<00:36,  4.97it/s]"
          ]
        },
        {
          "metadata": {
            "tags": null
          },
          "name": "stdout",
          "output_type": "stream",
          "text": [
            "[Epoch 11, Batch 600] Loss: 1.592\n"
          ]
        },
        {
          "metadata": {
            "tags": null
          },
          "name": "stderr",
          "output_type": "stream",
          "text": [
            "Epoch 11:  90%|████████▉ | 701/782 [02:13<00:14,  5.55it/s]"
          ]
        },
        {
          "metadata": {
            "tags": null
          },
          "name": "stdout",
          "output_type": "stream",
          "text": [
            "[Epoch 11, Batch 700] Loss: 1.554\n"
          ]
        },
        {
          "metadata": {
            "tags": null
          },
          "name": "stderr",
          "output_type": "stream",
          "text": [
            "Epoch 11: 100%|██████████| 782/782 [02:28<00:00,  5.27it/s]\n",
            "Epoch 12:  13%|█▎        | 100/782 [00:19<02:41,  4.23it/s]"
          ]
        },
        {
          "metadata": {
            "tags": null
          },
          "name": "stdout",
          "output_type": "stream",
          "text": [
            "[Epoch 12, Batch 100] Loss: 1.559\n"
          ]
        },
        {
          "metadata": {
            "tags": null
          },
          "name": "stderr",
          "output_type": "stream",
          "text": [
            "Epoch 12:  26%|██▌       | 201/782 [00:38<01:49,  5.32it/s]"
          ]
        },
        {
          "metadata": {
            "tags": null
          },
          "name": "stdout",
          "output_type": "stream",
          "text": [
            "[Epoch 12, Batch 200] Loss: 1.557\n"
          ]
        },
        {
          "metadata": {
            "tags": null
          },
          "name": "stderr",
          "output_type": "stream",
          "text": [
            "Epoch 12:  38%|███▊      | 300/782 [00:58<01:48,  4.44it/s]"
          ]
        },
        {
          "metadata": {
            "tags": null
          },
          "name": "stdout",
          "output_type": "stream",
          "text": [
            "[Epoch 12, Batch 300] Loss: 1.567\n"
          ]
        },
        {
          "metadata": {
            "tags": null
          },
          "name": "stderr",
          "output_type": "stream",
          "text": [
            "Epoch 12:  51%|█████▏    | 401/782 [01:17<01:10,  5.37it/s]"
          ]
        },
        {
          "metadata": {
            "tags": null
          },
          "name": "stdout",
          "output_type": "stream",
          "text": [
            "[Epoch 12, Batch 400] Loss: 1.543\n"
          ]
        },
        {
          "metadata": {
            "tags": null
          },
          "name": "stderr",
          "output_type": "stream",
          "text": [
            "Epoch 12:  64%|██████▍   | 500/782 [01:36<01:04,  4.39it/s]"
          ]
        },
        {
          "metadata": {
            "tags": null
          },
          "name": "stdout",
          "output_type": "stream",
          "text": [
            "[Epoch 12, Batch 500] Loss: 1.542\n"
          ]
        },
        {
          "metadata": {
            "tags": null
          },
          "name": "stderr",
          "output_type": "stream",
          "text": [
            "Epoch 12:  77%|███████▋  | 601/782 [01:55<00:34,  5.31it/s]"
          ]
        },
        {
          "metadata": {
            "tags": null
          },
          "name": "stdout",
          "output_type": "stream",
          "text": [
            "[Epoch 12, Batch 600] Loss: 1.558\n"
          ]
        },
        {
          "metadata": {
            "tags": null
          },
          "name": "stderr",
          "output_type": "stream",
          "text": [
            "Epoch 12:  90%|████████▉ | 700/782 [02:14<00:19,  4.29it/s]"
          ]
        },
        {
          "metadata": {
            "tags": null
          },
          "name": "stdout",
          "output_type": "stream",
          "text": [
            "[Epoch 12, Batch 700] Loss: 1.517\n"
          ]
        },
        {
          "metadata": {
            "tags": null
          },
          "name": "stderr",
          "output_type": "stream",
          "text": [
            "Epoch 12: 100%|██████████| 782/782 [02:30<00:00,  5.19it/s]\n",
            "Epoch 13:  13%|█▎        | 101/782 [00:19<02:04,  5.49it/s]"
          ]
        },
        {
          "metadata": {
            "tags": null
          },
          "name": "stdout",
          "output_type": "stream",
          "text": [
            "[Epoch 13, Batch 100] Loss: 1.552\n"
          ]
        },
        {
          "metadata": {
            "tags": null
          },
          "name": "stderr",
          "output_type": "stream",
          "text": [
            "Epoch 13:  26%|██▌       | 201/782 [00:39<01:51,  5.23it/s]"
          ]
        },
        {
          "metadata": {
            "tags": null
          },
          "name": "stdout",
          "output_type": "stream",
          "text": [
            "[Epoch 13, Batch 200] Loss: 1.549\n"
          ]
        },
        {
          "metadata": {
            "tags": null
          },
          "name": "stderr",
          "output_type": "stream",
          "text": [
            "Epoch 13:  38%|███▊      | 301/782 [00:57<01:30,  5.34it/s]"
          ]
        },
        {
          "metadata": {
            "tags": null
          },
          "name": "stdout",
          "output_type": "stream",
          "text": [
            "[Epoch 13, Batch 300] Loss: 1.542\n"
          ]
        },
        {
          "metadata": {
            "tags": null
          },
          "name": "stderr",
          "output_type": "stream",
          "text": [
            "Epoch 13:  51%|█████▏    | 401/782 [01:17<01:19,  4.82it/s]"
          ]
        },
        {
          "metadata": {
            "tags": null
          },
          "name": "stdout",
          "output_type": "stream",
          "text": [
            "[Epoch 13, Batch 400] Loss: 1.534\n"
          ]
        },
        {
          "metadata": {
            "tags": null
          },
          "name": "stderr",
          "output_type": "stream",
          "text": [
            "Epoch 13:  64%|██████▍   | 501/782 [01:35<00:50,  5.60it/s]"
          ]
        },
        {
          "metadata": {
            "tags": null
          },
          "name": "stdout",
          "output_type": "stream",
          "text": [
            "[Epoch 13, Batch 500] Loss: 1.508\n"
          ]
        },
        {
          "metadata": {
            "tags": null
          },
          "name": "stderr",
          "output_type": "stream",
          "text": [
            "Epoch 13:  77%|███████▋  | 600/782 [01:54<00:39,  4.58it/s]"
          ]
        },
        {
          "metadata": {
            "tags": null
          },
          "name": "stdout",
          "output_type": "stream",
          "text": [
            "[Epoch 13, Batch 600] Loss: 1.532\n"
          ]
        },
        {
          "metadata": {
            "tags": null
          },
          "name": "stderr",
          "output_type": "stream",
          "text": [
            "Epoch 13:  90%|████████▉ | 701/782 [02:13<00:14,  5.50it/s]"
          ]
        },
        {
          "metadata": {
            "tags": null
          },
          "name": "stdout",
          "output_type": "stream",
          "text": [
            "[Epoch 13, Batch 700] Loss: 1.524\n"
          ]
        },
        {
          "metadata": {
            "tags": null
          },
          "name": "stderr",
          "output_type": "stream",
          "text": [
            "Epoch 13: 100%|██████████| 782/782 [02:29<00:00,  5.24it/s]\n",
            "Epoch 14:  13%|█▎        | 101/782 [00:18<02:02,  5.56it/s]"
          ]
        },
        {
          "metadata": {
            "tags": null
          },
          "name": "stdout",
          "output_type": "stream",
          "text": [
            "[Epoch 14, Batch 100] Loss: 1.553\n"
          ]
        },
        {
          "metadata": {
            "tags": null
          },
          "name": "stderr",
          "output_type": "stream",
          "text": [
            "Epoch 14:  26%|██▌       | 201/782 [00:36<01:37,  5.94it/s]"
          ]
        },
        {
          "metadata": {
            "tags": null
          },
          "name": "stdout",
          "output_type": "stream",
          "text": [
            "[Epoch 14, Batch 200] Loss: 1.515\n"
          ]
        },
        {
          "metadata": {
            "tags": null
          },
          "name": "stderr",
          "output_type": "stream",
          "text": [
            "Epoch 14:  38%|███▊      | 300/782 [00:54<01:31,  5.28it/s]"
          ]
        },
        {
          "metadata": {
            "tags": null
          },
          "name": "stdout",
          "output_type": "stream",
          "text": [
            "[Epoch 14, Batch 300] Loss: 1.520\n"
          ]
        },
        {
          "metadata": {
            "tags": null
          },
          "name": "stderr",
          "output_type": "stream",
          "text": [
            "Epoch 14:  51%|█████▏    | 401/782 [01:13<01:09,  5.48it/s]"
          ]
        },
        {
          "metadata": {
            "tags": null
          },
          "name": "stdout",
          "output_type": "stream",
          "text": [
            "[Epoch 14, Batch 400] Loss: 1.514\n"
          ]
        },
        {
          "metadata": {
            "tags": null
          },
          "name": "stderr",
          "output_type": "stream",
          "text": [
            "Epoch 14:  64%|██████▍   | 501/782 [01:32<00:51,  5.49it/s]"
          ]
        },
        {
          "metadata": {
            "tags": null
          },
          "name": "stdout",
          "output_type": "stream",
          "text": [
            "[Epoch 14, Batch 500] Loss: 1.526\n"
          ]
        },
        {
          "metadata": {
            "tags": null
          },
          "name": "stderr",
          "output_type": "stream",
          "text": [
            "Epoch 14:  77%|███████▋  | 601/782 [01:51<00:33,  5.43it/s]"
          ]
        },
        {
          "metadata": {
            "tags": null
          },
          "name": "stdout",
          "output_type": "stream",
          "text": [
            "[Epoch 14, Batch 600] Loss: 1.496\n"
          ]
        },
        {
          "metadata": {
            "tags": null
          },
          "name": "stderr",
          "output_type": "stream",
          "text": [
            "Epoch 14:  90%|████████▉ | 701/782 [02:10<00:14,  5.47it/s]"
          ]
        },
        {
          "metadata": {
            "tags": null
          },
          "name": "stdout",
          "output_type": "stream",
          "text": [
            "[Epoch 14, Batch 700] Loss: 1.496\n"
          ]
        },
        {
          "metadata": {
            "tags": null
          },
          "name": "stderr",
          "output_type": "stream",
          "text": [
            "Epoch 14: 100%|██████████| 782/782 [02:26<00:00,  5.35it/s]\n",
            "Epoch 15:  13%|█▎        | 101/782 [00:19<02:04,  5.46it/s]"
          ]
        },
        {
          "metadata": {
            "tags": null
          },
          "name": "stdout",
          "output_type": "stream",
          "text": [
            "[Epoch 15, Batch 100] Loss: 1.508\n"
          ]
        },
        {
          "metadata": {
            "tags": null
          },
          "name": "stderr",
          "output_type": "stream",
          "text": [
            "Epoch 15:  26%|██▌       | 200/782 [00:39<02:19,  4.19it/s]"
          ]
        },
        {
          "metadata": {
            "tags": null
          },
          "name": "stdout",
          "output_type": "stream",
          "text": [
            "[Epoch 15, Batch 200] Loss: 1.525\n"
          ]
        },
        {
          "metadata": {
            "tags": null
          },
          "name": "stderr",
          "output_type": "stream",
          "text": [
            "Epoch 15:  38%|███▊      | 301/782 [00:58<01:25,  5.60it/s]"
          ]
        },
        {
          "metadata": {
            "tags": null
          },
          "name": "stdout",
          "output_type": "stream",
          "text": [
            "[Epoch 15, Batch 300] Loss: 1.485\n"
          ]
        },
        {
          "metadata": {
            "tags": null
          },
          "name": "stderr",
          "output_type": "stream",
          "text": [
            "Epoch 15:  51%|█████     | 400/782 [01:18<01:34,  4.04it/s]"
          ]
        },
        {
          "metadata": {
            "tags": null
          },
          "name": "stdout",
          "output_type": "stream",
          "text": [
            "[Epoch 15, Batch 400] Loss: 1.491\n"
          ]
        },
        {
          "metadata": {
            "tags": null
          },
          "name": "stderr",
          "output_type": "stream",
          "text": [
            "Epoch 15:  64%|██████▍   | 501/782 [01:37<00:50,  5.51it/s]"
          ]
        },
        {
          "metadata": {
            "tags": null
          },
          "name": "stdout",
          "output_type": "stream",
          "text": [
            "[Epoch 15, Batch 500] Loss: 1.504\n"
          ]
        },
        {
          "metadata": {
            "tags": null
          },
          "name": "stderr",
          "output_type": "stream",
          "text": [
            "Epoch 15:  77%|███████▋  | 600/782 [01:57<00:42,  4.30it/s]"
          ]
        },
        {
          "metadata": {
            "tags": null
          },
          "name": "stdout",
          "output_type": "stream",
          "text": [
            "[Epoch 15, Batch 600] Loss: 1.495\n"
          ]
        },
        {
          "metadata": {
            "tags": null
          },
          "name": "stderr",
          "output_type": "stream",
          "text": [
            "Epoch 15:  90%|████████▉ | 701/782 [02:16<00:14,  5.53it/s]"
          ]
        },
        {
          "metadata": {
            "tags": null
          },
          "name": "stdout",
          "output_type": "stream",
          "text": [
            "[Epoch 15, Batch 700] Loss: 1.502\n"
          ]
        },
        {
          "metadata": {
            "tags": null
          },
          "name": "stderr",
          "output_type": "stream",
          "text": [
            "Epoch 15: 100%|██████████| 782/782 [02:31<00:00,  5.16it/s]\n",
            "Epoch 16:  13%|█▎        | 101/782 [00:20<02:01,  5.62it/s]"
          ]
        },
        {
          "metadata": {
            "tags": null
          },
          "name": "stdout",
          "output_type": "stream",
          "text": [
            "[Epoch 16, Batch 100] Loss: 1.497\n"
          ]
        },
        {
          "metadata": {
            "tags": null
          },
          "name": "stderr",
          "output_type": "stream",
          "text": [
            "Epoch 16:  26%|██▌       | 201/782 [00:38<01:45,  5.50it/s]"
          ]
        },
        {
          "metadata": {
            "tags": null
          },
          "name": "stdout",
          "output_type": "stream",
          "text": [
            "[Epoch 16, Batch 200] Loss: 1.485\n"
          ]
        },
        {
          "metadata": {
            "tags": null
          },
          "name": "stderr",
          "output_type": "stream",
          "text": [
            "Epoch 16:  38%|███▊      | 301/782 [00:58<01:34,  5.09it/s]"
          ]
        },
        {
          "metadata": {
            "tags": null
          },
          "name": "stdout",
          "output_type": "stream",
          "text": [
            "[Epoch 16, Batch 300] Loss: 1.501\n"
          ]
        },
        {
          "metadata": {
            "tags": null
          },
          "name": "stderr",
          "output_type": "stream",
          "text": [
            "Epoch 16:  51%|█████▏    | 401/782 [01:17<01:09,  5.51it/s]"
          ]
        },
        {
          "metadata": {
            "tags": null
          },
          "name": "stdout",
          "output_type": "stream",
          "text": [
            "[Epoch 16, Batch 400] Loss: 1.487\n"
          ]
        },
        {
          "metadata": {
            "tags": null
          },
          "name": "stderr",
          "output_type": "stream",
          "text": [
            "Epoch 16:  64%|██████▍   | 501/782 [01:36<01:01,  4.58it/s]"
          ]
        },
        {
          "metadata": {
            "tags": null
          },
          "name": "stdout",
          "output_type": "stream",
          "text": [
            "[Epoch 16, Batch 500] Loss: 1.500\n"
          ]
        },
        {
          "metadata": {
            "tags": null
          },
          "name": "stderr",
          "output_type": "stream",
          "text": [
            "Epoch 16:  77%|███████▋  | 601/782 [01:55<00:31,  5.79it/s]"
          ]
        },
        {
          "metadata": {
            "tags": null
          },
          "name": "stdout",
          "output_type": "stream",
          "text": [
            "[Epoch 16, Batch 600] Loss: 1.502\n"
          ]
        },
        {
          "metadata": {
            "tags": null
          },
          "name": "stderr",
          "output_type": "stream",
          "text": [
            "Epoch 16:  90%|████████▉ | 700/782 [02:15<00:20,  3.92it/s]"
          ]
        },
        {
          "metadata": {
            "tags": null
          },
          "name": "stdout",
          "output_type": "stream",
          "text": [
            "[Epoch 16, Batch 700] Loss: 1.476\n"
          ]
        },
        {
          "metadata": {
            "tags": null
          },
          "name": "stderr",
          "output_type": "stream",
          "text": [
            "Epoch 16: 100%|██████████| 782/782 [02:30<00:00,  5.18it/s]\n",
            "Epoch 17:  13%|█▎        | 101/782 [00:20<02:04,  5.46it/s]"
          ]
        },
        {
          "metadata": {
            "tags": null
          },
          "name": "stdout",
          "output_type": "stream",
          "text": [
            "[Epoch 17, Batch 100] Loss: 1.450\n"
          ]
        },
        {
          "metadata": {
            "tags": null
          },
          "name": "stderr",
          "output_type": "stream",
          "text": [
            "Epoch 17:  26%|██▌       | 201/782 [00:40<01:47,  5.41it/s]"
          ]
        },
        {
          "metadata": {
            "tags": null
          },
          "name": "stdout",
          "output_type": "stream",
          "text": [
            "[Epoch 17, Batch 200] Loss: 1.480\n"
          ]
        },
        {
          "metadata": {
            "tags": null
          },
          "name": "stderr",
          "output_type": "stream",
          "text": [
            "Epoch 17:  38%|███▊      | 300/782 [00:59<01:28,  5.42it/s]"
          ]
        },
        {
          "metadata": {
            "tags": null
          },
          "name": "stdout",
          "output_type": "stream",
          "text": [
            "[Epoch 17, Batch 300] Loss: 1.466\n"
          ]
        },
        {
          "metadata": {
            "tags": null
          },
          "name": "stderr",
          "output_type": "stream",
          "text": [
            "Epoch 17:  51%|█████▏    | 401/782 [01:19<01:07,  5.67it/s]"
          ]
        },
        {
          "metadata": {
            "tags": null
          },
          "name": "stdout",
          "output_type": "stream",
          "text": [
            "[Epoch 17, Batch 400] Loss: 1.474\n"
          ]
        },
        {
          "metadata": {
            "tags": null
          },
          "name": "stderr",
          "output_type": "stream",
          "text": [
            "Epoch 17:  64%|██████▍   | 500/782 [01:38<00:51,  5.51it/s]"
          ]
        },
        {
          "metadata": {
            "tags": null
          },
          "name": "stdout",
          "output_type": "stream",
          "text": [
            "[Epoch 17, Batch 500] Loss: 1.504\n"
          ]
        },
        {
          "metadata": {
            "tags": null
          },
          "name": "stderr",
          "output_type": "stream",
          "text": [
            "Epoch 17:  77%|███████▋  | 601/782 [01:58<00:34,  5.24it/s]"
          ]
        },
        {
          "metadata": {
            "tags": null
          },
          "name": "stdout",
          "output_type": "stream",
          "text": [
            "[Epoch 17, Batch 600] Loss: 1.480\n"
          ]
        },
        {
          "metadata": {
            "tags": null
          },
          "name": "stderr",
          "output_type": "stream",
          "text": [
            "Epoch 17:  90%|████████▉ | 701/782 [02:17<00:15,  5.37it/s]"
          ]
        },
        {
          "metadata": {
            "tags": null
          },
          "name": "stdout",
          "output_type": "stream",
          "text": [
            "[Epoch 17, Batch 700] Loss: 1.492\n"
          ]
        },
        {
          "metadata": {
            "tags": null
          },
          "name": "stderr",
          "output_type": "stream",
          "text": [
            "Epoch 17: 100%|██████████| 782/782 [02:33<00:00,  5.09it/s]\n",
            "Epoch 18:  13%|█▎        | 101/782 [00:19<02:03,  5.51it/s]"
          ]
        },
        {
          "metadata": {
            "tags": null
          },
          "name": "stdout",
          "output_type": "stream",
          "text": [
            "[Epoch 18, Batch 100] Loss: 1.482\n"
          ]
        },
        {
          "metadata": {
            "tags": null
          },
          "name": "stderr",
          "output_type": "stream",
          "text": [
            "Epoch 18:  26%|██▌       | 200/782 [00:37<02:14,  4.32it/s]"
          ]
        },
        {
          "metadata": {
            "tags": null
          },
          "name": "stdout",
          "output_type": "stream",
          "text": [
            "[Epoch 18, Batch 200] Loss: 1.459\n"
          ]
        },
        {
          "metadata": {
            "tags": null
          },
          "name": "stderr",
          "output_type": "stream",
          "text": [
            "Epoch 18:  38%|███▊      | 301/782 [00:56<01:27,  5.49it/s]"
          ]
        },
        {
          "metadata": {
            "tags": null
          },
          "name": "stdout",
          "output_type": "stream",
          "text": [
            "[Epoch 18, Batch 300] Loss: 1.457\n"
          ]
        },
        {
          "metadata": {
            "tags": null
          },
          "name": "stderr",
          "output_type": "stream",
          "text": [
            "Epoch 18:  51%|█████     | 400/782 [01:15<01:21,  4.67it/s]"
          ]
        },
        {
          "metadata": {
            "tags": null
          },
          "name": "stdout",
          "output_type": "stream",
          "text": [
            "[Epoch 18, Batch 400] Loss: 1.486\n"
          ]
        },
        {
          "metadata": {
            "tags": null
          },
          "name": "stderr",
          "output_type": "stream",
          "text": [
            "Epoch 18:  64%|██████▍   | 501/782 [01:34<00:49,  5.64it/s]"
          ]
        },
        {
          "metadata": {
            "tags": null
          },
          "name": "stdout",
          "output_type": "stream",
          "text": [
            "[Epoch 18, Batch 500] Loss: 1.481\n"
          ]
        },
        {
          "metadata": {
            "tags": null
          },
          "name": "stderr",
          "output_type": "stream",
          "text": [
            "Epoch 18:  77%|███████▋  | 601/782 [01:53<00:32,  5.57it/s]"
          ]
        },
        {
          "metadata": {
            "tags": null
          },
          "name": "stdout",
          "output_type": "stream",
          "text": [
            "[Epoch 18, Batch 600] Loss: 1.458\n"
          ]
        },
        {
          "metadata": {
            "tags": null
          },
          "name": "stderr",
          "output_type": "stream",
          "text": [
            "Epoch 18:  90%|████████▉ | 701/782 [02:13<00:14,  5.46it/s]"
          ]
        },
        {
          "metadata": {
            "tags": null
          },
          "name": "stdout",
          "output_type": "stream",
          "text": [
            "[Epoch 18, Batch 700] Loss: 1.466\n"
          ]
        },
        {
          "metadata": {
            "tags": null
          },
          "name": "stderr",
          "output_type": "stream",
          "text": [
            "Epoch 18: 100%|██████████| 782/782 [02:28<00:00,  5.26it/s]\n",
            "Epoch 19:  13%|█▎        | 101/782 [00:20<02:32,  4.47it/s]"
          ]
        },
        {
          "metadata": {
            "tags": null
          },
          "name": "stdout",
          "output_type": "stream",
          "text": [
            "[Epoch 19, Batch 100] Loss: 1.471\n"
          ]
        },
        {
          "metadata": {
            "tags": null
          },
          "name": "stderr",
          "output_type": "stream",
          "text": [
            "Epoch 19:  26%|██▌       | 201/782 [00:38<01:43,  5.60it/s]"
          ]
        },
        {
          "metadata": {
            "tags": null
          },
          "name": "stdout",
          "output_type": "stream",
          "text": [
            "[Epoch 19, Batch 200] Loss: 1.462\n"
          ]
        },
        {
          "metadata": {
            "tags": null
          },
          "name": "stderr",
          "output_type": "stream",
          "text": [
            "Epoch 19:  38%|███▊      | 300/782 [00:58<01:57,  4.11it/s]"
          ]
        },
        {
          "metadata": {
            "tags": null
          },
          "name": "stdout",
          "output_type": "stream",
          "text": [
            "[Epoch 19, Batch 300] Loss: 1.451\n"
          ]
        },
        {
          "metadata": {
            "tags": null
          },
          "name": "stderr",
          "output_type": "stream",
          "text": [
            "Epoch 19:  51%|█████▏    | 401/782 [01:17<01:09,  5.49it/s]"
          ]
        },
        {
          "metadata": {
            "tags": null
          },
          "name": "stdout",
          "output_type": "stream",
          "text": [
            "[Epoch 19, Batch 400] Loss: 1.447\n"
          ]
        },
        {
          "metadata": {
            "tags": null
          },
          "name": "stderr",
          "output_type": "stream",
          "text": [
            "Epoch 19:  64%|██████▍   | 500/782 [01:36<01:07,  4.18it/s]"
          ]
        },
        {
          "metadata": {
            "tags": null
          },
          "name": "stdout",
          "output_type": "stream",
          "text": [
            "[Epoch 19, Batch 500] Loss: 1.444\n"
          ]
        },
        {
          "metadata": {
            "tags": null
          },
          "name": "stderr",
          "output_type": "stream",
          "text": [
            "Epoch 19:  77%|███████▋  | 601/782 [01:55<00:31,  5.70it/s]"
          ]
        },
        {
          "metadata": {
            "tags": null
          },
          "name": "stdout",
          "output_type": "stream",
          "text": [
            "[Epoch 19, Batch 600] Loss: 1.442\n"
          ]
        },
        {
          "metadata": {
            "tags": null
          },
          "name": "stderr",
          "output_type": "stream",
          "text": [
            "Epoch 19:  90%|████████▉ | 700/782 [02:13<00:15,  5.45it/s]"
          ]
        },
        {
          "metadata": {
            "tags": null
          },
          "name": "stdout",
          "output_type": "stream",
          "text": [
            "[Epoch 19, Batch 700] Loss: 1.463\n"
          ]
        },
        {
          "metadata": {
            "tags": null
          },
          "name": "stderr",
          "output_type": "stream",
          "text": [
            "Epoch 19: 100%|██████████| 782/782 [02:29<00:00,  5.23it/s]\n",
            "Epoch 20:  13%|█▎        | 101/782 [00:19<02:06,  5.40it/s]"
          ]
        },
        {
          "metadata": {
            "tags": null
          },
          "name": "stdout",
          "output_type": "stream",
          "text": [
            "[Epoch 20, Batch 100] Loss: 1.444\n"
          ]
        },
        {
          "metadata": {
            "tags": null
          },
          "name": "stderr",
          "output_type": "stream",
          "text": [
            "Epoch 20:  26%|██▌       | 200/782 [00:38<02:19,  4.18it/s]"
          ]
        },
        {
          "metadata": {
            "tags": null
          },
          "name": "stdout",
          "output_type": "stream",
          "text": [
            "[Epoch 20, Batch 200] Loss: 1.430\n"
          ]
        },
        {
          "metadata": {
            "tags": null
          },
          "name": "stderr",
          "output_type": "stream",
          "text": [
            "Epoch 20:  38%|███▊      | 301/782 [00:56<01:27,  5.49it/s]"
          ]
        },
        {
          "metadata": {
            "tags": null
          },
          "name": "stdout",
          "output_type": "stream",
          "text": [
            "[Epoch 20, Batch 300] Loss: 1.450\n"
          ]
        },
        {
          "metadata": {
            "tags": null
          },
          "name": "stderr",
          "output_type": "stream",
          "text": [
            "Epoch 20:  51%|█████     | 400/782 [01:15<01:12,  5.28it/s]"
          ]
        },
        {
          "metadata": {
            "tags": null
          },
          "name": "stdout",
          "output_type": "stream",
          "text": [
            "[Epoch 20, Batch 400] Loss: 1.458\n"
          ]
        },
        {
          "metadata": {
            "tags": null
          },
          "name": "stderr",
          "output_type": "stream",
          "text": [
            "Epoch 20:  64%|██████▍   | 501/782 [01:34<00:50,  5.53it/s]"
          ]
        },
        {
          "metadata": {
            "tags": null
          },
          "name": "stdout",
          "output_type": "stream",
          "text": [
            "[Epoch 20, Batch 500] Loss: 1.449\n"
          ]
        },
        {
          "metadata": {
            "tags": null
          },
          "name": "stderr",
          "output_type": "stream",
          "text": [
            "Epoch 20:  77%|███████▋  | 601/782 [01:52<00:32,  5.64it/s]"
          ]
        },
        {
          "metadata": {
            "tags": null
          },
          "name": "stdout",
          "output_type": "stream",
          "text": [
            "[Epoch 20, Batch 600] Loss: 1.453\n"
          ]
        },
        {
          "metadata": {
            "tags": null
          },
          "name": "stderr",
          "output_type": "stream",
          "text": [
            "Epoch 20:  90%|████████▉ | 701/782 [02:12<00:14,  5.69it/s]"
          ]
        },
        {
          "metadata": {
            "tags": null
          },
          "name": "stdout",
          "output_type": "stream",
          "text": [
            "[Epoch 20, Batch 700] Loss: 1.444\n"
          ]
        },
        {
          "metadata": {
            "tags": null
          },
          "name": "stderr",
          "output_type": "stream",
          "text": [
            "Epoch 20: 100%|██████████| 782/782 [02:27<00:00,  5.31it/s]\n",
            "Epoch 21:  13%|█▎        | 100/782 [00:19<02:29,  4.55it/s]"
          ]
        },
        {
          "metadata": {
            "tags": null
          },
          "name": "stdout",
          "output_type": "stream",
          "text": [
            "[Epoch 21, Batch 100] Loss: 1.419\n"
          ]
        },
        {
          "metadata": {
            "tags": null
          },
          "name": "stderr",
          "output_type": "stream",
          "text": [
            "Epoch 21:  26%|██▌       | 201/782 [00:38<01:43,  5.62it/s]"
          ]
        },
        {
          "metadata": {
            "tags": null
          },
          "name": "stdout",
          "output_type": "stream",
          "text": [
            "[Epoch 21, Batch 200] Loss: 1.462\n"
          ]
        },
        {
          "output_type": "stream",
          "name": "stderr",
          "text": [
            "Epoch 21:  38%|███▊      | 300/782 [00:57<01:25,  5.64it/s]"
          ]
        },
        {
          "output_type": "stream",
          "name": "stdout",
          "text": [
            "[Epoch 21, Batch 300] Loss: 1.445\n"
          ]
        },
        {
          "output_type": "stream",
          "name": "stderr",
          "text": [
            "Epoch 21:  51%|█████▏    | 401/782 [01:16<01:11,  5.35it/s]"
          ]
        },
        {
          "output_type": "stream",
          "name": "stdout",
          "text": [
            "[Epoch 21, Batch 400] Loss: 1.444\n"
          ]
        },
        {
          "output_type": "stream",
          "name": "stderr",
          "text": [
            "Epoch 21:  64%|██████▍   | 501/782 [01:35<01:02,  4.50it/s]"
          ]
        },
        {
          "output_type": "stream",
          "name": "stdout",
          "text": [
            "[Epoch 21, Batch 500] Loss: 1.431\n"
          ]
        },
        {
          "output_type": "stream",
          "name": "stderr",
          "text": [
            "Epoch 21:  77%|███████▋  | 601/782 [01:55<00:33,  5.41it/s]"
          ]
        },
        {
          "output_type": "stream",
          "name": "stdout",
          "text": [
            "[Epoch 21, Batch 600] Loss: 1.476\n"
          ]
        },
        {
          "output_type": "stream",
          "name": "stderr",
          "text": [
            "Epoch 21:  90%|████████▉ | 701/782 [02:15<00:14,  5.65it/s]"
          ]
        },
        {
          "output_type": "stream",
          "name": "stdout",
          "text": [
            "[Epoch 21, Batch 700] Loss: 1.428\n"
          ]
        },
        {
          "output_type": "stream",
          "name": "stderr",
          "text": [
            "Epoch 21: 100%|██████████| 782/782 [02:30<00:00,  5.18it/s]\n",
            "Epoch 22:  13%|█▎        | 101/782 [00:20<02:02,  5.54it/s]"
          ]
        },
        {
          "output_type": "stream",
          "name": "stdout",
          "text": [
            "[Epoch 22, Batch 100] Loss: 1.418\n"
          ]
        },
        {
          "output_type": "stream",
          "name": "stderr",
          "text": [
            "Epoch 22:  26%|██▌       | 201/782 [00:39<01:44,  5.55it/s]"
          ]
        },
        {
          "output_type": "stream",
          "name": "stdout",
          "text": [
            "[Epoch 22, Batch 200] Loss: 1.437\n"
          ]
        },
        {
          "output_type": "stream",
          "name": "stderr",
          "text": [
            "Epoch 22:  38%|███▊      | 301/782 [00:57<01:23,  5.75it/s]"
          ]
        },
        {
          "output_type": "stream",
          "name": "stdout",
          "text": [
            "[Epoch 22, Batch 300] Loss: 1.437\n"
          ]
        },
        {
          "output_type": "stream",
          "name": "stderr",
          "text": [
            "Epoch 22:  51%|█████     | 400/782 [01:16<01:25,  4.49it/s]"
          ]
        },
        {
          "output_type": "stream",
          "name": "stdout",
          "text": [
            "[Epoch 22, Batch 400] Loss: 1.423\n"
          ]
        },
        {
          "output_type": "stream",
          "name": "stderr",
          "text": [
            "Epoch 22:  64%|██████▍   | 501/782 [01:35<00:50,  5.52it/s]"
          ]
        },
        {
          "output_type": "stream",
          "name": "stdout",
          "text": [
            "[Epoch 22, Batch 500] Loss: 1.417\n"
          ]
        },
        {
          "output_type": "stream",
          "name": "stderr",
          "text": [
            "Epoch 22:  77%|███████▋  | 601/782 [01:55<00:33,  5.33it/s]"
          ]
        },
        {
          "output_type": "stream",
          "name": "stdout",
          "text": [
            "[Epoch 22, Batch 600] Loss: 1.411\n"
          ]
        },
        {
          "output_type": "stream",
          "name": "stderr",
          "text": [
            "Epoch 22:  90%|████████▉ | 701/782 [02:14<00:14,  5.41it/s]"
          ]
        },
        {
          "output_type": "stream",
          "name": "stdout",
          "text": [
            "[Epoch 22, Batch 700] Loss: 1.415\n"
          ]
        },
        {
          "output_type": "stream",
          "name": "stderr",
          "text": [
            "Epoch 22: 100%|██████████| 782/782 [02:29<00:00,  5.22it/s]\n",
            "Epoch 23:  13%|█▎        | 101/782 [00:19<02:05,  5.45it/s]"
          ]
        },
        {
          "output_type": "stream",
          "name": "stdout",
          "text": [
            "[Epoch 23, Batch 100] Loss: 1.425\n"
          ]
        },
        {
          "output_type": "stream",
          "name": "stderr",
          "text": [
            "Epoch 23:  26%|██▌       | 201/782 [00:38<01:47,  5.42it/s]"
          ]
        },
        {
          "output_type": "stream",
          "name": "stdout",
          "text": [
            "[Epoch 23, Batch 200] Loss: 1.417\n"
          ]
        },
        {
          "output_type": "stream",
          "name": "stderr",
          "text": [
            "Epoch 23:  38%|███▊      | 301/782 [00:56<01:28,  5.46it/s]"
          ]
        },
        {
          "output_type": "stream",
          "name": "stdout",
          "text": [
            "[Epoch 23, Batch 300] Loss: 1.427\n"
          ]
        },
        {
          "output_type": "stream",
          "name": "stderr",
          "text": [
            "Epoch 23:  51%|█████▏    | 401/782 [01:15<01:08,  5.58it/s]"
          ]
        },
        {
          "output_type": "stream",
          "name": "stdout",
          "text": [
            "[Epoch 23, Batch 400] Loss: 1.431\n"
          ]
        },
        {
          "output_type": "stream",
          "name": "stderr",
          "text": [
            "Epoch 23:  64%|██████▍   | 501/782 [01:34<00:50,  5.59it/s]"
          ]
        },
        {
          "output_type": "stream",
          "name": "stdout",
          "text": [
            "[Epoch 23, Batch 500] Loss: 1.434\n"
          ]
        },
        {
          "output_type": "stream",
          "name": "stderr",
          "text": [
            "Epoch 23:  77%|███████▋  | 601/782 [01:53<00:33,  5.37it/s]"
          ]
        },
        {
          "output_type": "stream",
          "name": "stdout",
          "text": [
            "[Epoch 23, Batch 600] Loss: 1.430\n"
          ]
        },
        {
          "output_type": "stream",
          "name": "stderr",
          "text": [
            "Epoch 23:  90%|████████▉ | 700/782 [02:11<00:16,  4.82it/s]"
          ]
        },
        {
          "output_type": "stream",
          "name": "stdout",
          "text": [
            "[Epoch 23, Batch 700] Loss: 1.401\n"
          ]
        },
        {
          "output_type": "stream",
          "name": "stderr",
          "text": [
            "Epoch 23: 100%|██████████| 782/782 [02:27<00:00,  5.31it/s]\n",
            "Epoch 24:  13%|█▎        | 101/782 [00:18<02:01,  5.61it/s]"
          ]
        },
        {
          "output_type": "stream",
          "name": "stdout",
          "text": [
            "[Epoch 24, Batch 100] Loss: 1.412\n"
          ]
        },
        {
          "output_type": "stream",
          "name": "stderr",
          "text": [
            "Epoch 24:  26%|██▌       | 201/782 [00:38<01:43,  5.59it/s]"
          ]
        },
        {
          "output_type": "stream",
          "name": "stdout",
          "text": [
            "[Epoch 24, Batch 200] Loss: 1.417\n"
          ]
        },
        {
          "output_type": "stream",
          "name": "stderr",
          "text": [
            "Epoch 24:  38%|███▊      | 301/782 [00:56<01:23,  5.76it/s]"
          ]
        },
        {
          "output_type": "stream",
          "name": "stdout",
          "text": [
            "[Epoch 24, Batch 300] Loss: 1.397\n"
          ]
        },
        {
          "output_type": "stream",
          "name": "stderr",
          "text": [
            "Epoch 24:  51%|█████▏    | 401/782 [01:14<01:04,  5.94it/s]"
          ]
        },
        {
          "output_type": "stream",
          "name": "stdout",
          "text": [
            "[Epoch 24, Batch 400] Loss: 1.436\n"
          ]
        },
        {
          "output_type": "stream",
          "name": "stderr",
          "text": [
            "Epoch 24:  64%|██████▍   | 501/782 [01:31<00:50,  5.54it/s]"
          ]
        },
        {
          "output_type": "stream",
          "name": "stdout",
          "text": [
            "[Epoch 24, Batch 500] Loss: 1.415\n"
          ]
        },
        {
          "output_type": "stream",
          "name": "stderr",
          "text": [
            "Epoch 24:  77%|███████▋  | 601/782 [01:50<00:31,  5.66it/s]"
          ]
        },
        {
          "output_type": "stream",
          "name": "stdout",
          "text": [
            "[Epoch 24, Batch 600] Loss: 1.427\n"
          ]
        },
        {
          "output_type": "stream",
          "name": "stderr",
          "text": [
            "Epoch 24:  90%|████████▉ | 701/782 [02:08<00:14,  5.68it/s]"
          ]
        },
        {
          "output_type": "stream",
          "name": "stdout",
          "text": [
            "[Epoch 24, Batch 700] Loss: 1.415\n"
          ]
        },
        {
          "output_type": "stream",
          "name": "stderr",
          "text": [
            "Epoch 24: 100%|██████████| 782/782 [02:23<00:00,  5.46it/s]\n",
            "Epoch 25:  13%|█▎        | 101/782 [00:18<01:59,  5.69it/s]"
          ]
        },
        {
          "output_type": "stream",
          "name": "stdout",
          "text": [
            "[Epoch 25, Batch 100] Loss: 1.399\n"
          ]
        },
        {
          "output_type": "stream",
          "name": "stderr",
          "text": [
            "Epoch 25:  26%|██▌       | 201/782 [00:37<01:47,  5.38it/s]"
          ]
        },
        {
          "output_type": "stream",
          "name": "stdout",
          "text": [
            "[Epoch 25, Batch 200] Loss: 1.374\n"
          ]
        },
        {
          "output_type": "stream",
          "name": "stderr",
          "text": [
            "Epoch 25:  38%|███▊      | 301/782 [00:55<01:21,  5.87it/s]"
          ]
        },
        {
          "output_type": "stream",
          "name": "stdout",
          "text": [
            "[Epoch 25, Batch 300] Loss: 1.410\n"
          ]
        },
        {
          "output_type": "stream",
          "name": "stderr",
          "text": [
            "Epoch 25:  51%|█████▏    | 401/782 [01:13<01:07,  5.66it/s]"
          ]
        },
        {
          "output_type": "stream",
          "name": "stdout",
          "text": [
            "[Epoch 25, Batch 400] Loss: 1.407\n"
          ]
        },
        {
          "output_type": "stream",
          "name": "stderr",
          "text": [
            "Epoch 25:  64%|██████▍   | 501/782 [01:32<00:49,  5.69it/s]"
          ]
        },
        {
          "output_type": "stream",
          "name": "stdout",
          "text": [
            "[Epoch 25, Batch 500] Loss: 1.411\n"
          ]
        },
        {
          "output_type": "stream",
          "name": "stderr",
          "text": [
            "Epoch 25:  77%|███████▋  | 601/782 [01:50<00:30,  5.85it/s]"
          ]
        },
        {
          "output_type": "stream",
          "name": "stdout",
          "text": [
            "[Epoch 25, Batch 600] Loss: 1.392\n"
          ]
        },
        {
          "output_type": "stream",
          "name": "stderr",
          "text": [
            "Epoch 25:  90%|████████▉ | 701/782 [02:08<00:14,  5.78it/s]"
          ]
        },
        {
          "output_type": "stream",
          "name": "stdout",
          "text": [
            "[Epoch 25, Batch 700] Loss: 1.430\n"
          ]
        },
        {
          "output_type": "stream",
          "name": "stderr",
          "text": [
            "Epoch 25: 100%|██████████| 782/782 [02:22<00:00,  5.48it/s]\n",
            "Epoch 26:  13%|█▎        | 101/782 [00:18<01:58,  5.76it/s]"
          ]
        },
        {
          "output_type": "stream",
          "name": "stdout",
          "text": [
            "[Epoch 26, Batch 100] Loss: 1.390\n"
          ]
        },
        {
          "output_type": "stream",
          "name": "stderr",
          "text": [
            "Epoch 26:  26%|██▌       | 201/782 [00:35<01:37,  5.97it/s]"
          ]
        },
        {
          "output_type": "stream",
          "name": "stdout",
          "text": [
            "[Epoch 26, Batch 200] Loss: 1.401\n"
          ]
        },
        {
          "output_type": "stream",
          "name": "stderr",
          "text": [
            "Epoch 26:  38%|███▊      | 301/782 [00:53<01:20,  6.00it/s]"
          ]
        },
        {
          "output_type": "stream",
          "name": "stdout",
          "text": [
            "[Epoch 26, Batch 300] Loss: 1.409\n"
          ]
        },
        {
          "output_type": "stream",
          "name": "stderr",
          "text": [
            "Epoch 26:  51%|█████▏    | 401/782 [01:10<01:02,  6.10it/s]"
          ]
        },
        {
          "output_type": "stream",
          "name": "stdout",
          "text": [
            "[Epoch 26, Batch 400] Loss: 1.420\n"
          ]
        },
        {
          "output_type": "stream",
          "name": "stderr",
          "text": [
            "Epoch 26:  64%|██████▍   | 501/782 [01:28<00:46,  6.04it/s]"
          ]
        },
        {
          "output_type": "stream",
          "name": "stdout",
          "text": [
            "[Epoch 26, Batch 500] Loss: 1.408\n"
          ]
        },
        {
          "output_type": "stream",
          "name": "stderr",
          "text": [
            "Epoch 26:  77%|███████▋  | 601/782 [01:46<00:32,  5.59it/s]"
          ]
        },
        {
          "output_type": "stream",
          "name": "stdout",
          "text": [
            "[Epoch 26, Batch 600] Loss: 1.382\n"
          ]
        },
        {
          "output_type": "stream",
          "name": "stderr",
          "text": [
            "Epoch 26:  90%|████████▉ | 701/782 [02:04<00:13,  6.12it/s]"
          ]
        },
        {
          "output_type": "stream",
          "name": "stdout",
          "text": [
            "[Epoch 26, Batch 700] Loss: 1.400\n"
          ]
        },
        {
          "output_type": "stream",
          "name": "stderr",
          "text": [
            "Epoch 26: 100%|██████████| 782/782 [02:18<00:00,  5.66it/s]\n",
            "Epoch 27:  13%|█▎        | 101/782 [00:17<01:52,  6.04it/s]"
          ]
        },
        {
          "output_type": "stream",
          "name": "stdout",
          "text": [
            "[Epoch 27, Batch 100] Loss: 1.410\n"
          ]
        },
        {
          "output_type": "stream",
          "name": "stderr",
          "text": [
            "Epoch 27:  26%|██▌       | 201/782 [00:35<01:37,  5.97it/s]"
          ]
        },
        {
          "output_type": "stream",
          "name": "stdout",
          "text": [
            "[Epoch 27, Batch 200] Loss: 1.378\n"
          ]
        },
        {
          "output_type": "stream",
          "name": "stderr",
          "text": [
            "Epoch 27:  38%|███▊      | 301/782 [00:52<01:27,  5.51it/s]"
          ]
        },
        {
          "output_type": "stream",
          "name": "stdout",
          "text": [
            "[Epoch 27, Batch 300] Loss: 1.385\n"
          ]
        },
        {
          "output_type": "stream",
          "name": "stderr",
          "text": [
            "Epoch 27:  51%|█████▏    | 401/782 [01:11<01:08,  5.54it/s]"
          ]
        },
        {
          "output_type": "stream",
          "name": "stdout",
          "text": [
            "[Epoch 27, Batch 400] Loss: 1.403\n"
          ]
        },
        {
          "output_type": "stream",
          "name": "stderr",
          "text": [
            "Epoch 27:  64%|██████▍   | 500/782 [01:30<01:01,  4.60it/s]"
          ]
        },
        {
          "output_type": "stream",
          "name": "stdout",
          "text": [
            "[Epoch 27, Batch 500] Loss: 1.409\n"
          ]
        },
        {
          "output_type": "stream",
          "name": "stderr",
          "text": [
            "Epoch 27:  77%|███████▋  | 601/782 [01:50<00:33,  5.40it/s]"
          ]
        },
        {
          "output_type": "stream",
          "name": "stdout",
          "text": [
            "[Epoch 27, Batch 600] Loss: 1.386\n"
          ]
        },
        {
          "output_type": "stream",
          "name": "stderr",
          "text": [
            "Epoch 27:  90%|████████▉ | 701/782 [02:09<00:16,  4.88it/s]"
          ]
        },
        {
          "output_type": "stream",
          "name": "stdout",
          "text": [
            "[Epoch 27, Batch 700] Loss: 1.385\n"
          ]
        },
        {
          "output_type": "stream",
          "name": "stderr",
          "text": [
            "Epoch 27: 100%|██████████| 782/782 [02:23<00:00,  5.44it/s]\n",
            "Epoch 28:  13%|█▎        | 101/782 [00:18<02:01,  5.61it/s]"
          ]
        },
        {
          "output_type": "stream",
          "name": "stdout",
          "text": [
            "[Epoch 28, Batch 100] Loss: 1.409\n"
          ]
        },
        {
          "output_type": "stream",
          "name": "stderr",
          "text": [
            "Epoch 28:  26%|██▌       | 201/782 [00:37<01:42,  5.69it/s]"
          ]
        },
        {
          "output_type": "stream",
          "name": "stdout",
          "text": [
            "[Epoch 28, Batch 200] Loss: 1.401\n"
          ]
        },
        {
          "output_type": "stream",
          "name": "stderr",
          "text": [
            "Epoch 28:  38%|███▊      | 300/782 [00:55<01:30,  5.30it/s]"
          ]
        },
        {
          "output_type": "stream",
          "name": "stdout",
          "text": [
            "[Epoch 28, Batch 300] Loss: 1.380\n"
          ]
        },
        {
          "output_type": "stream",
          "name": "stderr",
          "text": [
            "Epoch 28:  51%|█████▏    | 401/782 [01:13<01:06,  5.75it/s]"
          ]
        },
        {
          "output_type": "stream",
          "name": "stdout",
          "text": [
            "[Epoch 28, Batch 400] Loss: 1.396\n"
          ]
        },
        {
          "output_type": "stream",
          "name": "stderr",
          "text": [
            "Epoch 28:  64%|██████▍   | 500/782 [01:32<01:01,  4.57it/s]"
          ]
        },
        {
          "output_type": "stream",
          "name": "stdout",
          "text": [
            "[Epoch 28, Batch 500] Loss: 1.393\n"
          ]
        },
        {
          "output_type": "stream",
          "name": "stderr",
          "text": [
            "Epoch 28:  77%|███████▋  | 601/782 [01:50<00:30,  5.94it/s]"
          ]
        },
        {
          "output_type": "stream",
          "name": "stdout",
          "text": [
            "[Epoch 28, Batch 600] Loss: 1.372\n"
          ]
        },
        {
          "output_type": "stream",
          "name": "stderr",
          "text": [
            "Epoch 28:  90%|████████▉ | 701/782 [02:07<00:14,  5.61it/s]"
          ]
        },
        {
          "output_type": "stream",
          "name": "stdout",
          "text": [
            "[Epoch 28, Batch 700] Loss: 1.365\n"
          ]
        },
        {
          "output_type": "stream",
          "name": "stderr",
          "text": [
            "Epoch 28: 100%|██████████| 782/782 [02:22<00:00,  5.50it/s]\n",
            "Epoch 29:  13%|█▎        | 101/782 [00:17<01:52,  6.03it/s]"
          ]
        },
        {
          "output_type": "stream",
          "name": "stdout",
          "text": [
            "[Epoch 29, Batch 100] Loss: 1.395\n"
          ]
        },
        {
          "output_type": "stream",
          "name": "stderr",
          "text": [
            "Epoch 29:  26%|██▌       | 200/782 [00:35<02:06,  4.59it/s]"
          ]
        },
        {
          "output_type": "stream",
          "name": "stdout",
          "text": [
            "[Epoch 29, Batch 200] Loss: 1.358\n"
          ]
        },
        {
          "output_type": "stream",
          "name": "stderr",
          "text": [
            "Epoch 29:  38%|███▊      | 301/782 [00:53<01:22,  5.85it/s]"
          ]
        },
        {
          "output_type": "stream",
          "name": "stdout",
          "text": [
            "[Epoch 29, Batch 300] Loss: 1.376\n"
          ]
        },
        {
          "output_type": "stream",
          "name": "stderr",
          "text": [
            "Epoch 29:  51%|█████     | 400/782 [01:10<01:21,  4.69it/s]"
          ]
        },
        {
          "output_type": "stream",
          "name": "stdout",
          "text": [
            "[Epoch 29, Batch 400] Loss: 1.393\n"
          ]
        },
        {
          "output_type": "stream",
          "name": "stderr",
          "text": [
            "Epoch 29:  64%|██████▍   | 501/782 [01:28<00:47,  5.88it/s]"
          ]
        },
        {
          "output_type": "stream",
          "name": "stdout",
          "text": [
            "[Epoch 29, Batch 500] Loss: 1.369\n"
          ]
        },
        {
          "output_type": "stream",
          "name": "stderr",
          "text": [
            "Epoch 29:  77%|███████▋  | 600/782 [01:45<00:33,  5.37it/s]"
          ]
        },
        {
          "output_type": "stream",
          "name": "stdout",
          "text": [
            "[Epoch 29, Batch 600] Loss: 1.391\n"
          ]
        },
        {
          "output_type": "stream",
          "name": "stderr",
          "text": [
            "Epoch 29:  90%|████████▉ | 701/782 [02:03<00:13,  6.04it/s]"
          ]
        },
        {
          "output_type": "stream",
          "name": "stdout",
          "text": [
            "[Epoch 29, Batch 700] Loss: 1.386\n"
          ]
        },
        {
          "output_type": "stream",
          "name": "stderr",
          "text": [
            "Epoch 29: 100%|██████████| 782/782 [02:17<00:00,  5.67it/s]\n",
            "Epoch 30:  13%|█▎        | 101/782 [00:18<02:29,  4.55it/s]"
          ]
        },
        {
          "output_type": "stream",
          "name": "stdout",
          "text": [
            "[Epoch 30, Batch 100] Loss: 1.356\n"
          ]
        },
        {
          "output_type": "stream",
          "name": "stderr",
          "text": [
            "Epoch 30:  26%|██▌       | 201/782 [00:36<01:41,  5.73it/s]"
          ]
        },
        {
          "output_type": "stream",
          "name": "stdout",
          "text": [
            "[Epoch 30, Batch 200] Loss: 1.377\n"
          ]
        },
        {
          "output_type": "stream",
          "name": "stderr",
          "text": [
            "Epoch 30:  38%|███▊      | 301/782 [00:55<01:29,  5.39it/s]"
          ]
        },
        {
          "output_type": "stream",
          "name": "stdout",
          "text": [
            "[Epoch 30, Batch 300] Loss: 1.355\n"
          ]
        },
        {
          "output_type": "stream",
          "name": "stderr",
          "text": [
            "Epoch 30:  51%|█████▏    | 401/782 [01:13<01:07,  5.66it/s]"
          ]
        },
        {
          "output_type": "stream",
          "name": "stdout",
          "text": [
            "[Epoch 30, Batch 400] Loss: 1.394\n"
          ]
        },
        {
          "output_type": "stream",
          "name": "stderr",
          "text": [
            "Epoch 30:  64%|██████▍   | 501/782 [01:32<00:48,  5.76it/s]"
          ]
        },
        {
          "output_type": "stream",
          "name": "stdout",
          "text": [
            "[Epoch 30, Batch 500] Loss: 1.384\n"
          ]
        },
        {
          "output_type": "stream",
          "name": "stderr",
          "text": [
            "Epoch 30:  77%|███████▋  | 601/782 [01:50<00:31,  5.73it/s]"
          ]
        },
        {
          "output_type": "stream",
          "name": "stdout",
          "text": [
            "[Epoch 30, Batch 600] Loss: 1.364\n"
          ]
        },
        {
          "output_type": "stream",
          "name": "stderr",
          "text": [
            "Epoch 30:  90%|████████▉ | 701/782 [02:09<00:14,  5.60it/s]"
          ]
        },
        {
          "output_type": "stream",
          "name": "stdout",
          "text": [
            "[Epoch 30, Batch 700] Loss: 1.388\n"
          ]
        },
        {
          "output_type": "stream",
          "name": "stderr",
          "text": [
            "Epoch 30: 100%|██████████| 782/782 [02:23<00:00,  5.44it/s]\n",
            "Epoch 31:  13%|█▎        | 100/782 [00:18<02:41,  4.21it/s]"
          ]
        },
        {
          "output_type": "stream",
          "name": "stdout",
          "text": [
            "[Epoch 31, Batch 100] Loss: 1.374\n"
          ]
        },
        {
          "output_type": "stream",
          "name": "stderr",
          "text": [
            "Epoch 31:  26%|██▌       | 201/782 [00:37<01:43,  5.63it/s]"
          ]
        },
        {
          "output_type": "stream",
          "name": "stdout",
          "text": [
            "[Epoch 31, Batch 200] Loss: 1.358\n"
          ]
        },
        {
          "output_type": "stream",
          "name": "stderr",
          "text": [
            "Epoch 31:  38%|███▊      | 301/782 [00:55<01:32,  5.20it/s]"
          ]
        },
        {
          "output_type": "stream",
          "name": "stdout",
          "text": [
            "[Epoch 31, Batch 300] Loss: 1.379\n"
          ]
        },
        {
          "output_type": "stream",
          "name": "stderr",
          "text": [
            "Epoch 31:  51%|█████▏    | 401/782 [01:14<01:07,  5.62it/s]"
          ]
        },
        {
          "output_type": "stream",
          "name": "stdout",
          "text": [
            "[Epoch 31, Batch 400] Loss: 1.356\n"
          ]
        },
        {
          "output_type": "stream",
          "name": "stderr",
          "text": [
            "Epoch 31:  64%|██████▍   | 501/782 [01:32<00:47,  5.89it/s]"
          ]
        },
        {
          "output_type": "stream",
          "name": "stdout",
          "text": [
            "[Epoch 31, Batch 500] Loss: 1.374\n"
          ]
        },
        {
          "output_type": "stream",
          "name": "stderr",
          "text": [
            "Epoch 31:  77%|███████▋  | 601/782 [01:50<00:30,  5.84it/s]"
          ]
        },
        {
          "output_type": "stream",
          "name": "stdout",
          "text": [
            "[Epoch 31, Batch 600] Loss: 1.362\n"
          ]
        },
        {
          "output_type": "stream",
          "name": "stderr",
          "text": [
            "Epoch 31:  90%|████████▉ | 701/782 [02:08<00:14,  5.46it/s]"
          ]
        },
        {
          "output_type": "stream",
          "name": "stdout",
          "text": [
            "[Epoch 31, Batch 700] Loss: 1.388\n"
          ]
        },
        {
          "output_type": "stream",
          "name": "stderr",
          "text": [
            "Epoch 31: 100%|██████████| 782/782 [02:23<00:00,  5.47it/s]\n",
            "Epoch 32:  13%|█▎        | 100/782 [00:18<02:08,  5.30it/s]"
          ]
        },
        {
          "output_type": "stream",
          "name": "stdout",
          "text": [
            "[Epoch 32, Batch 100] Loss: 1.383\n"
          ]
        },
        {
          "output_type": "stream",
          "name": "stderr",
          "text": [
            "Epoch 32:  26%|██▌       | 201/782 [00:36<01:38,  5.93it/s]"
          ]
        },
        {
          "output_type": "stream",
          "name": "stdout",
          "text": [
            "[Epoch 32, Batch 200] Loss: 1.375\n"
          ]
        },
        {
          "output_type": "stream",
          "name": "stderr",
          "text": [
            "Epoch 32:  38%|███▊      | 301/782 [00:54<01:25,  5.60it/s]"
          ]
        },
        {
          "output_type": "stream",
          "name": "stdout",
          "text": [
            "[Epoch 32, Batch 300] Loss: 1.354\n"
          ]
        },
        {
          "output_type": "stream",
          "name": "stderr",
          "text": [
            "Epoch 32:  51%|█████▏    | 401/782 [01:12<01:05,  5.82it/s]"
          ]
        },
        {
          "output_type": "stream",
          "name": "stdout",
          "text": [
            "[Epoch 32, Batch 400] Loss: 1.370\n"
          ]
        },
        {
          "output_type": "stream",
          "name": "stderr",
          "text": [
            "Epoch 32:  64%|██████▍   | 501/782 [01:30<00:48,  5.80it/s]"
          ]
        },
        {
          "output_type": "stream",
          "name": "stdout",
          "text": [
            "[Epoch 32, Batch 500] Loss: 1.366\n"
          ]
        },
        {
          "output_type": "stream",
          "name": "stderr",
          "text": [
            "Epoch 32:  77%|███████▋  | 601/782 [01:48<00:30,  5.95it/s]"
          ]
        },
        {
          "output_type": "stream",
          "name": "stdout",
          "text": [
            "[Epoch 32, Batch 600] Loss: 1.361\n"
          ]
        },
        {
          "output_type": "stream",
          "name": "stderr",
          "text": [
            "Epoch 32:  90%|████████▉ | 701/782 [02:05<00:13,  5.95it/s]"
          ]
        },
        {
          "output_type": "stream",
          "name": "stdout",
          "text": [
            "[Epoch 32, Batch 700] Loss: 1.358\n"
          ]
        },
        {
          "output_type": "stream",
          "name": "stderr",
          "text": [
            "Epoch 32: 100%|██████████| 782/782 [02:20<00:00,  5.56it/s]\n",
            "Epoch 33:  13%|█▎        | 101/782 [00:18<01:49,  6.19it/s]"
          ]
        },
        {
          "output_type": "stream",
          "name": "stdout",
          "text": [
            "[Epoch 33, Batch 100] Loss: 1.339\n"
          ]
        },
        {
          "output_type": "stream",
          "name": "stderr",
          "text": [
            "Epoch 33:  26%|██▌       | 201/782 [00:37<01:48,  5.34it/s]"
          ]
        },
        {
          "output_type": "stream",
          "name": "stdout",
          "text": [
            "[Epoch 33, Batch 200] Loss: 1.349\n"
          ]
        },
        {
          "output_type": "stream",
          "name": "stderr",
          "text": [
            "Epoch 33:  38%|███▊      | 301/782 [00:56<01:26,  5.59it/s]"
          ]
        },
        {
          "output_type": "stream",
          "name": "stdout",
          "text": [
            "[Epoch 33, Batch 300] Loss: 1.377\n"
          ]
        },
        {
          "output_type": "stream",
          "name": "stderr",
          "text": [
            "Epoch 33:  51%|█████▏    | 401/782 [01:15<01:12,  5.23it/s]"
          ]
        },
        {
          "output_type": "stream",
          "name": "stdout",
          "text": [
            "[Epoch 33, Batch 400] Loss: 1.378\n"
          ]
        },
        {
          "output_type": "stream",
          "name": "stderr",
          "text": [
            "Epoch 33:  64%|██████▍   | 501/782 [01:33<00:50,  5.60it/s]"
          ]
        },
        {
          "output_type": "stream",
          "name": "stdout",
          "text": [
            "[Epoch 33, Batch 500] Loss: 1.374\n"
          ]
        },
        {
          "output_type": "stream",
          "name": "stderr",
          "text": [
            "Epoch 33:  77%|███████▋  | 601/782 [01:52<00:33,  5.47it/s]"
          ]
        },
        {
          "output_type": "stream",
          "name": "stdout",
          "text": [
            "[Epoch 33, Batch 600] Loss: 1.361\n"
          ]
        },
        {
          "output_type": "stream",
          "name": "stderr",
          "text": [
            "Epoch 33:  90%|████████▉ | 701/782 [02:10<00:14,  5.67it/s]"
          ]
        },
        {
          "output_type": "stream",
          "name": "stdout",
          "text": [
            "[Epoch 33, Batch 700] Loss: 1.355\n"
          ]
        },
        {
          "output_type": "stream",
          "name": "stderr",
          "text": [
            "Epoch 33: 100%|██████████| 782/782 [02:26<00:00,  5.35it/s]\n",
            "Epoch 34:  13%|█▎        | 101/782 [00:18<01:59,  5.70it/s]"
          ]
        },
        {
          "output_type": "stream",
          "name": "stdout",
          "text": [
            "[Epoch 34, Batch 100] Loss: 1.366\n"
          ]
        },
        {
          "output_type": "stream",
          "name": "stderr",
          "text": [
            "Epoch 34:  26%|██▌       | 201/782 [00:37<01:45,  5.53it/s]"
          ]
        },
        {
          "output_type": "stream",
          "name": "stdout",
          "text": [
            "[Epoch 34, Batch 200] Loss: 1.357\n"
          ]
        },
        {
          "output_type": "stream",
          "name": "stderr",
          "text": [
            "Epoch 34:  38%|███▊      | 301/782 [00:56<01:25,  5.61it/s]"
          ]
        },
        {
          "output_type": "stream",
          "name": "stdout",
          "text": [
            "[Epoch 34, Batch 300] Loss: 1.363\n"
          ]
        },
        {
          "output_type": "stream",
          "name": "stderr",
          "text": [
            "Epoch 34:  51%|█████▏    | 401/782 [01:15<01:03,  5.97it/s]"
          ]
        },
        {
          "output_type": "stream",
          "name": "stdout",
          "text": [
            "[Epoch 34, Batch 400] Loss: 1.351\n"
          ]
        },
        {
          "output_type": "stream",
          "name": "stderr",
          "text": [
            "Epoch 34:  64%|██████▍   | 501/782 [01:32<00:47,  5.97it/s]"
          ]
        },
        {
          "output_type": "stream",
          "name": "stdout",
          "text": [
            "[Epoch 34, Batch 500] Loss: 1.360\n"
          ]
        },
        {
          "output_type": "stream",
          "name": "stderr",
          "text": [
            "Epoch 34:  77%|███████▋  | 601/782 [01:50<00:31,  5.75it/s]"
          ]
        },
        {
          "output_type": "stream",
          "name": "stdout",
          "text": [
            "[Epoch 34, Batch 600] Loss: 1.365\n"
          ]
        },
        {
          "output_type": "stream",
          "name": "stderr",
          "text": [
            "Epoch 34:  90%|████████▉ | 701/782 [02:08<00:13,  5.87it/s]"
          ]
        },
        {
          "output_type": "stream",
          "name": "stdout",
          "text": [
            "[Epoch 34, Batch 700] Loss: 1.381\n"
          ]
        },
        {
          "output_type": "stream",
          "name": "stderr",
          "text": [
            "Epoch 34: 100%|██████████| 782/782 [02:23<00:00,  5.47it/s]\n",
            "Epoch 35:  13%|█▎        | 101/782 [00:18<02:06,  5.40it/s]"
          ]
        },
        {
          "output_type": "stream",
          "name": "stdout",
          "text": [
            "[Epoch 35, Batch 100] Loss: 1.356\n"
          ]
        },
        {
          "output_type": "stream",
          "name": "stderr",
          "text": [
            "Epoch 35:  26%|██▌       | 201/782 [00:36<01:55,  5.04it/s]"
          ]
        },
        {
          "output_type": "stream",
          "name": "stdout",
          "text": [
            "[Epoch 35, Batch 200] Loss: 1.373\n"
          ]
        },
        {
          "output_type": "stream",
          "name": "stderr",
          "text": [
            "Epoch 35:  38%|███▊      | 301/782 [00:54<01:20,  5.95it/s]"
          ]
        },
        {
          "output_type": "stream",
          "name": "stdout",
          "text": [
            "[Epoch 35, Batch 300] Loss: 1.347\n"
          ]
        },
        {
          "output_type": "stream",
          "name": "stderr",
          "text": [
            "Epoch 35:  51%|█████     | 400/782 [01:12<01:21,  4.71it/s]"
          ]
        },
        {
          "output_type": "stream",
          "name": "stdout",
          "text": [
            "[Epoch 35, Batch 400] Loss: 1.364\n"
          ]
        },
        {
          "output_type": "stream",
          "name": "stderr",
          "text": [
            "Epoch 35:  64%|██████▍   | 501/782 [01:29<00:48,  5.85it/s]"
          ]
        },
        {
          "output_type": "stream",
          "name": "stdout",
          "text": [
            "[Epoch 35, Batch 500] Loss: 1.356\n"
          ]
        },
        {
          "output_type": "stream",
          "name": "stderr",
          "text": [
            "Epoch 35:  77%|███████▋  | 600/782 [01:47<00:37,  4.86it/s]"
          ]
        },
        {
          "output_type": "stream",
          "name": "stdout",
          "text": [
            "[Epoch 35, Batch 600] Loss: 1.346\n"
          ]
        },
        {
          "output_type": "stream",
          "name": "stderr",
          "text": [
            "Epoch 35:  90%|████████▉ | 701/782 [02:06<00:14,  5.57it/s]"
          ]
        },
        {
          "output_type": "stream",
          "name": "stdout",
          "text": [
            "[Epoch 35, Batch 700] Loss: 1.364\n"
          ]
        },
        {
          "output_type": "stream",
          "name": "stderr",
          "text": [
            "Epoch 35: 100%|██████████| 782/782 [02:21<00:00,  5.54it/s]\n",
            "Epoch 36:  13%|█▎        | 101/782 [00:19<02:00,  5.65it/s]"
          ]
        },
        {
          "output_type": "stream",
          "name": "stdout",
          "text": [
            "[Epoch 36, Batch 100] Loss: 1.354\n"
          ]
        },
        {
          "output_type": "stream",
          "name": "stderr",
          "text": [
            "Epoch 36:  26%|██▌       | 201/782 [00:37<01:44,  5.56it/s]"
          ]
        },
        {
          "output_type": "stream",
          "name": "stdout",
          "text": [
            "[Epoch 36, Batch 200] Loss: 1.369\n"
          ]
        },
        {
          "output_type": "stream",
          "name": "stderr",
          "text": [
            "Epoch 36:  38%|███▊      | 301/782 [00:56<01:24,  5.70it/s]"
          ]
        },
        {
          "output_type": "stream",
          "name": "stdout",
          "text": [
            "[Epoch 36, Batch 300] Loss: 1.357\n"
          ]
        },
        {
          "output_type": "stream",
          "name": "stderr",
          "text": [
            "Epoch 36:  51%|█████     | 400/782 [01:15<01:27,  4.34it/s]"
          ]
        },
        {
          "output_type": "stream",
          "name": "stdout",
          "text": [
            "[Epoch 36, Batch 400] Loss: 1.330\n"
          ]
        },
        {
          "output_type": "stream",
          "name": "stderr",
          "text": [
            "Epoch 36:  64%|██████▍   | 501/782 [01:33<00:49,  5.70it/s]"
          ]
        },
        {
          "output_type": "stream",
          "name": "stdout",
          "text": [
            "[Epoch 36, Batch 500] Loss: 1.334\n"
          ]
        },
        {
          "output_type": "stream",
          "name": "stderr",
          "text": [
            "Epoch 36:  77%|███████▋  | 601/782 [01:52<00:37,  4.82it/s]"
          ]
        },
        {
          "output_type": "stream",
          "name": "stdout",
          "text": [
            "[Epoch 36, Batch 600] Loss: 1.346\n"
          ]
        },
        {
          "output_type": "stream",
          "name": "stderr",
          "text": [
            "Epoch 36:  90%|████████▉ | 701/782 [02:10<00:14,  5.59it/s]"
          ]
        },
        {
          "output_type": "stream",
          "name": "stdout",
          "text": [
            "[Epoch 36, Batch 700] Loss: 1.335\n"
          ]
        },
        {
          "output_type": "stream",
          "name": "stderr",
          "text": [
            "Epoch 36: 100%|██████████| 782/782 [02:25<00:00,  5.37it/s]\n",
            "Epoch 37:  13%|█▎        | 101/782 [00:19<01:59,  5.69it/s]"
          ]
        },
        {
          "output_type": "stream",
          "name": "stdout",
          "text": [
            "[Epoch 37, Batch 100] Loss: 1.342\n"
          ]
        },
        {
          "output_type": "stream",
          "name": "stderr",
          "text": [
            "Epoch 37:  26%|██▌       | 200/782 [00:37<01:45,  5.50it/s]"
          ]
        },
        {
          "output_type": "stream",
          "name": "stdout",
          "text": [
            "[Epoch 37, Batch 200] Loss: 1.363\n"
          ]
        },
        {
          "output_type": "stream",
          "name": "stderr",
          "text": [
            "Epoch 37:  38%|███▊      | 301/782 [00:54<01:22,  5.85it/s]"
          ]
        },
        {
          "output_type": "stream",
          "name": "stdout",
          "text": [
            "[Epoch 37, Batch 300] Loss: 1.335\n"
          ]
        },
        {
          "output_type": "stream",
          "name": "stderr",
          "text": [
            "Epoch 37:  51%|█████     | 400/782 [01:13<01:20,  4.77it/s]"
          ]
        },
        {
          "output_type": "stream",
          "name": "stdout",
          "text": [
            "[Epoch 37, Batch 400] Loss: 1.361\n"
          ]
        },
        {
          "output_type": "stream",
          "name": "stderr",
          "text": [
            "Epoch 37:  64%|██████▍   | 501/782 [01:32<00:49,  5.64it/s]"
          ]
        },
        {
          "output_type": "stream",
          "name": "stdout",
          "text": [
            "[Epoch 37, Batch 500] Loss: 1.339\n"
          ]
        },
        {
          "output_type": "stream",
          "name": "stderr",
          "text": [
            "Epoch 37:  77%|███████▋  | 601/782 [01:52<00:34,  5.26it/s]"
          ]
        },
        {
          "output_type": "stream",
          "name": "stdout",
          "text": [
            "[Epoch 37, Batch 600] Loss: 1.345\n"
          ]
        },
        {
          "output_type": "stream",
          "name": "stderr",
          "text": [
            "Epoch 37:  90%|████████▉ | 701/782 [02:11<00:15,  5.28it/s]"
          ]
        },
        {
          "output_type": "stream",
          "name": "stdout",
          "text": [
            "[Epoch 37, Batch 700] Loss: 1.362\n"
          ]
        },
        {
          "output_type": "stream",
          "name": "stderr",
          "text": [
            "Epoch 37: 100%|██████████| 782/782 [02:27<00:00,  5.31it/s]\n",
            "Epoch 38:  13%|█▎        | 101/782 [00:18<02:02,  5.58it/s]"
          ]
        },
        {
          "output_type": "stream",
          "name": "stdout",
          "text": [
            "[Epoch 38, Batch 100] Loss: 1.339\n"
          ]
        },
        {
          "output_type": "stream",
          "name": "stderr",
          "text": [
            "Epoch 38:  26%|██▌       | 201/782 [00:37<01:43,  5.59it/s]"
          ]
        },
        {
          "output_type": "stream",
          "name": "stdout",
          "text": [
            "[Epoch 38, Batch 200] Loss: 1.331\n"
          ]
        },
        {
          "output_type": "stream",
          "name": "stderr",
          "text": [
            "Epoch 38:  38%|███▊      | 300/782 [00:55<01:29,  5.39it/s]"
          ]
        },
        {
          "output_type": "stream",
          "name": "stdout",
          "text": [
            "[Epoch 38, Batch 300] Loss: 1.339\n"
          ]
        },
        {
          "output_type": "stream",
          "name": "stderr",
          "text": [
            "Epoch 38:  51%|█████▏    | 401/782 [01:14<01:07,  5.66it/s]"
          ]
        },
        {
          "output_type": "stream",
          "name": "stdout",
          "text": [
            "[Epoch 38, Batch 400] Loss: 1.338\n"
          ]
        },
        {
          "output_type": "stream",
          "name": "stderr",
          "text": [
            "Epoch 38:  64%|██████▍   | 501/782 [01:33<00:48,  5.77it/s]"
          ]
        },
        {
          "output_type": "stream",
          "name": "stdout",
          "text": [
            "[Epoch 38, Batch 500] Loss: 1.345\n"
          ]
        },
        {
          "output_type": "stream",
          "name": "stderr",
          "text": [
            "Epoch 38:  77%|███████▋  | 601/782 [01:51<00:32,  5.54it/s]"
          ]
        },
        {
          "output_type": "stream",
          "name": "stdout",
          "text": [
            "[Epoch 38, Batch 600] Loss: 1.345\n"
          ]
        },
        {
          "output_type": "stream",
          "name": "stderr",
          "text": [
            "Epoch 38:  90%|████████▉ | 701/782 [02:10<00:14,  5.57it/s]"
          ]
        },
        {
          "output_type": "stream",
          "name": "stdout",
          "text": [
            "[Epoch 38, Batch 700] Loss: 1.345\n"
          ]
        },
        {
          "output_type": "stream",
          "name": "stderr",
          "text": [
            "Epoch 38: 100%|██████████| 782/782 [02:25<00:00,  5.38it/s]\n",
            "Epoch 39:  13%|█▎        | 101/782 [00:18<02:03,  5.51it/s]"
          ]
        },
        {
          "output_type": "stream",
          "name": "stdout",
          "text": [
            "[Epoch 39, Batch 100] Loss: 1.328\n"
          ]
        },
        {
          "output_type": "stream",
          "name": "stderr",
          "text": [
            "Epoch 39:  26%|██▌       | 201/782 [00:37<01:44,  5.56it/s]"
          ]
        },
        {
          "output_type": "stream",
          "name": "stdout",
          "text": [
            "[Epoch 39, Batch 200] Loss: 1.328\n"
          ]
        },
        {
          "output_type": "stream",
          "name": "stderr",
          "text": [
            "Epoch 39:  38%|███▊      | 301/782 [00:55<01:27,  5.53it/s]"
          ]
        },
        {
          "output_type": "stream",
          "name": "stdout",
          "text": [
            "[Epoch 39, Batch 300] Loss: 1.355\n"
          ]
        },
        {
          "output_type": "stream",
          "name": "stderr",
          "text": [
            "Epoch 39:  51%|█████▏    | 401/782 [01:14<01:06,  5.76it/s]"
          ]
        },
        {
          "output_type": "stream",
          "name": "stdout",
          "text": [
            "[Epoch 39, Batch 400] Loss: 1.336\n"
          ]
        },
        {
          "output_type": "stream",
          "name": "stderr",
          "text": [
            "Epoch 39:  64%|██████▍   | 501/782 [01:32<00:50,  5.58it/s]"
          ]
        },
        {
          "output_type": "stream",
          "name": "stdout",
          "text": [
            "[Epoch 39, Batch 500] Loss: 1.352\n"
          ]
        },
        {
          "output_type": "stream",
          "name": "stderr",
          "text": [
            "Epoch 39:  77%|███████▋  | 601/782 [01:51<00:32,  5.64it/s]"
          ]
        },
        {
          "output_type": "stream",
          "name": "stdout",
          "text": [
            "[Epoch 39, Batch 600] Loss: 1.358\n"
          ]
        },
        {
          "output_type": "stream",
          "name": "stderr",
          "text": [
            "Epoch 39:  90%|████████▉ | 701/782 [02:09<00:14,  5.60it/s]"
          ]
        },
        {
          "output_type": "stream",
          "name": "stdout",
          "text": [
            "[Epoch 39, Batch 700] Loss: 1.317\n"
          ]
        },
        {
          "output_type": "stream",
          "name": "stderr",
          "text": [
            "Epoch 39: 100%|██████████| 782/782 [02:24<00:00,  5.39it/s]\n",
            "Epoch 40:  13%|█▎        | 101/782 [00:18<02:00,  5.64it/s]"
          ]
        },
        {
          "output_type": "stream",
          "name": "stdout",
          "text": [
            "[Epoch 40, Batch 100] Loss: 1.353\n"
          ]
        },
        {
          "output_type": "stream",
          "name": "stderr",
          "text": [
            "Epoch 40:  26%|██▌       | 201/782 [00:37<01:46,  5.43it/s]"
          ]
        },
        {
          "output_type": "stream",
          "name": "stdout",
          "text": [
            "[Epoch 40, Batch 200] Loss: 1.344\n"
          ]
        },
        {
          "output_type": "stream",
          "name": "stderr",
          "text": [
            "Epoch 40:  38%|███▊      | 301/782 [00:56<01:27,  5.49it/s]"
          ]
        },
        {
          "output_type": "stream",
          "name": "stdout",
          "text": [
            "[Epoch 40, Batch 300] Loss: 1.360\n"
          ]
        },
        {
          "output_type": "stream",
          "name": "stderr",
          "text": [
            "Epoch 40:  51%|█████▏    | 401/782 [01:15<01:08,  5.55it/s]"
          ]
        },
        {
          "output_type": "stream",
          "name": "stdout",
          "text": [
            "[Epoch 40, Batch 400] Loss: 1.336\n"
          ]
        },
        {
          "output_type": "stream",
          "name": "stderr",
          "text": [
            "Epoch 40:  64%|██████▍   | 500/782 [01:34<00:59,  4.76it/s]"
          ]
        },
        {
          "output_type": "stream",
          "name": "stdout",
          "text": [
            "[Epoch 40, Batch 500] Loss: 1.319\n"
          ]
        },
        {
          "output_type": "stream",
          "name": "stderr",
          "text": [
            "Epoch 40:  77%|███████▋  | 601/782 [01:53<00:32,  5.64it/s]"
          ]
        },
        {
          "output_type": "stream",
          "name": "stdout",
          "text": [
            "[Epoch 40, Batch 600] Loss: 1.319\n"
          ]
        },
        {
          "output_type": "stream",
          "name": "stderr",
          "text": [
            "Epoch 40:  90%|████████▉ | 700/782 [02:11<00:18,  4.43it/s]"
          ]
        },
        {
          "output_type": "stream",
          "name": "stdout",
          "text": [
            "[Epoch 40, Batch 700] Loss: 1.339\n"
          ]
        },
        {
          "output_type": "stream",
          "name": "stderr",
          "text": [
            "Epoch 40: 100%|██████████| 782/782 [02:26<00:00,  5.32it/s]\n",
            "Epoch 41:  13%|█▎        | 101/782 [00:18<02:01,  5.58it/s]"
          ]
        },
        {
          "output_type": "stream",
          "name": "stdout",
          "text": [
            "[Epoch 41, Batch 100] Loss: 1.333\n"
          ]
        },
        {
          "output_type": "stream",
          "name": "stderr",
          "text": [
            "Epoch 41:  26%|██▌       | 201/782 [00:37<01:44,  5.55it/s]"
          ]
        },
        {
          "output_type": "stream",
          "name": "stdout",
          "text": [
            "[Epoch 41, Batch 200] Loss: 1.346\n"
          ]
        },
        {
          "output_type": "stream",
          "name": "stderr",
          "text": [
            "Epoch 41:  38%|███▊      | 300/782 [00:55<01:29,  5.38it/s]"
          ]
        },
        {
          "output_type": "stream",
          "name": "stdout",
          "text": [
            "[Epoch 41, Batch 300] Loss: 1.355\n"
          ]
        },
        {
          "output_type": "stream",
          "name": "stderr",
          "text": [
            "Epoch 41:  51%|█████▏    | 401/782 [01:15<01:07,  5.61it/s]"
          ]
        },
        {
          "output_type": "stream",
          "name": "stdout",
          "text": [
            "[Epoch 41, Batch 400] Loss: 1.312\n"
          ]
        },
        {
          "output_type": "stream",
          "name": "stderr",
          "text": [
            "Epoch 41:  64%|██████▍   | 500/782 [01:33<01:03,  4.42it/s]"
          ]
        },
        {
          "output_type": "stream",
          "name": "stdout",
          "text": [
            "[Epoch 41, Batch 500] Loss: 1.348\n"
          ]
        },
        {
          "output_type": "stream",
          "name": "stderr",
          "text": [
            "Epoch 41:  77%|███████▋  | 601/782 [01:52<00:32,  5.60it/s]"
          ]
        },
        {
          "output_type": "stream",
          "name": "stdout",
          "text": [
            "[Epoch 41, Batch 600] Loss: 1.315\n"
          ]
        },
        {
          "output_type": "stream",
          "name": "stderr",
          "text": [
            "Epoch 41:  90%|████████▉ | 701/782 [02:10<00:15,  5.06it/s]"
          ]
        },
        {
          "output_type": "stream",
          "name": "stdout",
          "text": [
            "[Epoch 41, Batch 700] Loss: 1.330\n"
          ]
        },
        {
          "output_type": "stream",
          "name": "stderr",
          "text": [
            "Epoch 41: 100%|██████████| 782/782 [02:25<00:00,  5.38it/s]\n",
            "Epoch 42:  13%|█▎        | 101/782 [00:18<02:02,  5.56it/s]"
          ]
        },
        {
          "output_type": "stream",
          "name": "stdout",
          "text": [
            "[Epoch 42, Batch 100] Loss: 1.344\n"
          ]
        },
        {
          "output_type": "stream",
          "name": "stderr",
          "text": [
            "Epoch 42:  26%|██▌       | 201/782 [00:37<01:42,  5.69it/s]"
          ]
        },
        {
          "output_type": "stream",
          "name": "stdout",
          "text": [
            "[Epoch 42, Batch 200] Loss: 1.307\n"
          ]
        },
        {
          "output_type": "stream",
          "name": "stderr",
          "text": [
            "Epoch 42:  38%|███▊      | 300/782 [00:55<01:30,  5.32it/s]"
          ]
        },
        {
          "output_type": "stream",
          "name": "stdout",
          "text": [
            "[Epoch 42, Batch 300] Loss: 1.330\n"
          ]
        },
        {
          "output_type": "stream",
          "name": "stderr",
          "text": [
            "Epoch 42:  51%|█████▏    | 401/782 [01:14<01:06,  5.75it/s]"
          ]
        },
        {
          "output_type": "stream",
          "name": "stdout",
          "text": [
            "[Epoch 42, Batch 400] Loss: 1.329\n"
          ]
        },
        {
          "output_type": "stream",
          "name": "stderr",
          "text": [
            "Epoch 42:  64%|██████▍   | 500/782 [01:32<01:01,  4.56it/s]"
          ]
        },
        {
          "output_type": "stream",
          "name": "stdout",
          "text": [
            "[Epoch 42, Batch 500] Loss: 1.305\n"
          ]
        },
        {
          "output_type": "stream",
          "name": "stderr",
          "text": [
            "Epoch 42:  77%|███████▋  | 601/782 [01:51<00:32,  5.59it/s]"
          ]
        },
        {
          "output_type": "stream",
          "name": "stdout",
          "text": [
            "[Epoch 42, Batch 600] Loss: 1.345\n"
          ]
        },
        {
          "output_type": "stream",
          "name": "stderr",
          "text": [
            "Epoch 42:  90%|████████▉ | 701/782 [02:10<00:17,  4.64it/s]"
          ]
        },
        {
          "output_type": "stream",
          "name": "stdout",
          "text": [
            "[Epoch 42, Batch 700] Loss: 1.325\n"
          ]
        },
        {
          "output_type": "stream",
          "name": "stderr",
          "text": [
            "Epoch 42: 100%|██████████| 782/782 [02:25<00:00,  5.37it/s]\n",
            "Epoch 43:  13%|█▎        | 100/782 [00:18<02:01,  5.64it/s]"
          ]
        },
        {
          "output_type": "stream",
          "name": "stdout",
          "text": [
            "[Epoch 43, Batch 100] Loss: 1.341\n"
          ]
        },
        {
          "output_type": "stream",
          "name": "stderr",
          "text": [
            "Epoch 43:  26%|██▌       | 201/782 [00:37<01:42,  5.69it/s]"
          ]
        },
        {
          "output_type": "stream",
          "name": "stdout",
          "text": [
            "[Epoch 43, Batch 200] Loss: 1.315\n"
          ]
        },
        {
          "output_type": "stream",
          "name": "stderr",
          "text": [
            "Epoch 43:  38%|███▊      | 300/782 [00:56<01:47,  4.49it/s]"
          ]
        },
        {
          "output_type": "stream",
          "name": "stdout",
          "text": [
            "[Epoch 43, Batch 300] Loss: 1.336\n"
          ]
        },
        {
          "output_type": "stream",
          "name": "stderr",
          "text": [
            "Epoch 43:  51%|█████▏    | 401/782 [01:15<01:07,  5.63it/s]"
          ]
        },
        {
          "output_type": "stream",
          "name": "stdout",
          "text": [
            "[Epoch 43, Batch 400] Loss: 1.310\n"
          ]
        },
        {
          "output_type": "stream",
          "name": "stderr",
          "text": [
            "Epoch 43:  64%|██████▍   | 501/782 [01:33<00:56,  5.01it/s]"
          ]
        },
        {
          "output_type": "stream",
          "name": "stdout",
          "text": [
            "[Epoch 43, Batch 500] Loss: 1.312\n"
          ]
        },
        {
          "output_type": "stream",
          "name": "stderr",
          "text": [
            "Epoch 43:  77%|███████▋  | 601/782 [01:52<00:32,  5.59it/s]"
          ]
        },
        {
          "output_type": "stream",
          "name": "stdout",
          "text": [
            "[Epoch 43, Batch 600] Loss: 1.321\n"
          ]
        },
        {
          "output_type": "stream",
          "name": "stderr",
          "text": [
            "Epoch 43:  90%|████████▉ | 701/782 [02:10<00:14,  5.53it/s]"
          ]
        },
        {
          "output_type": "stream",
          "name": "stdout",
          "text": [
            "[Epoch 43, Batch 700] Loss: 1.346\n"
          ]
        },
        {
          "output_type": "stream",
          "name": "stderr",
          "text": [
            "Epoch 43: 100%|██████████| 782/782 [02:26<00:00,  5.36it/s]\n",
            "Epoch 44:  13%|█▎        | 100/782 [00:19<02:29,  4.55it/s]"
          ]
        },
        {
          "output_type": "stream",
          "name": "stdout",
          "text": [
            "[Epoch 44, Batch 100] Loss: 1.314\n"
          ]
        },
        {
          "output_type": "stream",
          "name": "stderr",
          "text": [
            "Epoch 44:  26%|██▌       | 201/782 [00:37<01:45,  5.51it/s]"
          ]
        },
        {
          "output_type": "stream",
          "name": "stdout",
          "text": [
            "[Epoch 44, Batch 200] Loss: 1.336\n"
          ]
        },
        {
          "output_type": "stream",
          "name": "stderr",
          "text": [
            "Epoch 44:  38%|███▊      | 301/782 [00:56<01:35,  5.02it/s]"
          ]
        },
        {
          "output_type": "stream",
          "name": "stdout",
          "text": [
            "[Epoch 44, Batch 300] Loss: 1.310\n"
          ]
        },
        {
          "output_type": "stream",
          "name": "stderr",
          "text": [
            "Epoch 44:  51%|█████▏    | 401/782 [01:15<01:08,  5.58it/s]"
          ]
        },
        {
          "output_type": "stream",
          "name": "stdout",
          "text": [
            "[Epoch 44, Batch 400] Loss: 1.339\n"
          ]
        },
        {
          "output_type": "stream",
          "name": "stderr",
          "text": [
            "Epoch 44:  64%|██████▍   | 501/782 [01:33<00:53,  5.25it/s]"
          ]
        },
        {
          "output_type": "stream",
          "name": "stdout",
          "text": [
            "[Epoch 44, Batch 500] Loss: 1.317\n"
          ]
        },
        {
          "output_type": "stream",
          "name": "stderr",
          "text": [
            "Epoch 44:  77%|███████▋  | 601/782 [01:51<00:31,  5.78it/s]"
          ]
        },
        {
          "output_type": "stream",
          "name": "stdout",
          "text": [
            "[Epoch 44, Batch 600] Loss: 1.324\n"
          ]
        },
        {
          "output_type": "stream",
          "name": "stderr",
          "text": [
            "Epoch 44:  90%|████████▉ | 701/782 [02:10<00:14,  5.57it/s]"
          ]
        },
        {
          "output_type": "stream",
          "name": "stdout",
          "text": [
            "[Epoch 44, Batch 700] Loss: 1.337\n"
          ]
        },
        {
          "output_type": "stream",
          "name": "stderr",
          "text": [
            "Epoch 44: 100%|██████████| 782/782 [02:24<00:00,  5.40it/s]\n",
            "Epoch 45:  13%|█▎        | 100/782 [00:18<02:38,  4.31it/s]"
          ]
        },
        {
          "output_type": "stream",
          "name": "stdout",
          "text": [
            "[Epoch 45, Batch 100] Loss: 1.319\n"
          ]
        },
        {
          "output_type": "stream",
          "name": "stderr",
          "text": [
            "Epoch 45:  26%|██▌       | 201/782 [00:37<01:40,  5.76it/s]"
          ]
        },
        {
          "output_type": "stream",
          "name": "stdout",
          "text": [
            "[Epoch 45, Batch 200] Loss: 1.311\n"
          ]
        },
        {
          "output_type": "stream",
          "name": "stderr",
          "text": [
            "Epoch 45:  38%|███▊      | 300/782 [00:55<01:47,  4.49it/s]"
          ]
        },
        {
          "output_type": "stream",
          "name": "stdout",
          "text": [
            "[Epoch 45, Batch 300] Loss: 1.343\n"
          ]
        },
        {
          "output_type": "stream",
          "name": "stderr",
          "text": [
            "Epoch 45:  51%|█████▏    | 401/782 [01:14<01:08,  5.55it/s]"
          ]
        },
        {
          "output_type": "stream",
          "name": "stdout",
          "text": [
            "[Epoch 45, Batch 400] Loss: 1.296\n"
          ]
        },
        {
          "output_type": "stream",
          "name": "stderr",
          "text": [
            "Epoch 45:  64%|██████▍   | 501/782 [01:33<00:53,  5.28it/s]"
          ]
        },
        {
          "output_type": "stream",
          "name": "stdout",
          "text": [
            "[Epoch 45, Batch 500] Loss: 1.333\n"
          ]
        },
        {
          "output_type": "stream",
          "name": "stderr",
          "text": [
            "Epoch 45:  77%|███████▋  | 601/782 [01:51<00:32,  5.56it/s]"
          ]
        },
        {
          "output_type": "stream",
          "name": "stdout",
          "text": [
            "[Epoch 45, Batch 600] Loss: 1.292\n"
          ]
        },
        {
          "output_type": "stream",
          "name": "stderr",
          "text": [
            "Epoch 45:  90%|████████▉ | 701/782 [02:09<00:14,  5.50it/s]"
          ]
        },
        {
          "output_type": "stream",
          "name": "stdout",
          "text": [
            "[Epoch 45, Batch 700] Loss: 1.303\n"
          ]
        },
        {
          "output_type": "stream",
          "name": "stderr",
          "text": [
            "Epoch 45: 100%|██████████| 782/782 [02:24<00:00,  5.41it/s]\n",
            "Epoch 46:  13%|█▎        | 100/782 [00:18<02:25,  4.67it/s]"
          ]
        },
        {
          "output_type": "stream",
          "name": "stdout",
          "text": [
            "[Epoch 46, Batch 100] Loss: 1.300\n"
          ]
        },
        {
          "output_type": "stream",
          "name": "stderr",
          "text": [
            "Epoch 46:  26%|██▌       | 201/782 [00:37<01:42,  5.67it/s]"
          ]
        },
        {
          "output_type": "stream",
          "name": "stdout",
          "text": [
            "[Epoch 46, Batch 200] Loss: 1.320\n"
          ]
        },
        {
          "output_type": "stream",
          "name": "stderr",
          "text": [
            "Epoch 46:  38%|███▊      | 300/782 [00:56<01:52,  4.28it/s]"
          ]
        },
        {
          "output_type": "stream",
          "name": "stdout",
          "text": [
            "[Epoch 46, Batch 300] Loss: 1.306\n"
          ]
        },
        {
          "output_type": "stream",
          "name": "stderr",
          "text": [
            "Epoch 46:  51%|█████▏    | 401/782 [01:14<01:07,  5.64it/s]"
          ]
        },
        {
          "output_type": "stream",
          "name": "stdout",
          "text": [
            "[Epoch 46, Batch 400] Loss: 1.321\n"
          ]
        },
        {
          "output_type": "stream",
          "name": "stderr",
          "text": [
            "Epoch 46:  64%|██████▍   | 501/782 [01:32<00:53,  5.24it/s]"
          ]
        },
        {
          "output_type": "stream",
          "name": "stdout",
          "text": [
            "[Epoch 46, Batch 500] Loss: 1.296\n"
          ]
        },
        {
          "output_type": "stream",
          "name": "stderr",
          "text": [
            "Epoch 46:  77%|███████▋  | 601/782 [01:51<00:32,  5.50it/s]"
          ]
        },
        {
          "output_type": "stream",
          "name": "stdout",
          "text": [
            "[Epoch 46, Batch 600] Loss: 1.318\n"
          ]
        },
        {
          "output_type": "stream",
          "name": "stderr",
          "text": [
            "Epoch 46:  90%|████████▉ | 701/782 [02:09<00:14,  5.43it/s]"
          ]
        },
        {
          "output_type": "stream",
          "name": "stdout",
          "text": [
            "[Epoch 46, Batch 700] Loss: 1.317\n"
          ]
        },
        {
          "output_type": "stream",
          "name": "stderr",
          "text": [
            "Epoch 46: 100%|██████████| 782/782 [02:24<00:00,  5.40it/s]\n",
            "Epoch 47:  13%|█▎        | 100/782 [00:18<02:21,  4.81it/s]"
          ]
        },
        {
          "output_type": "stream",
          "name": "stdout",
          "text": [
            "[Epoch 47, Batch 100] Loss: 1.320\n"
          ]
        },
        {
          "output_type": "stream",
          "name": "stderr",
          "text": [
            "Epoch 47:  26%|██▌       | 201/782 [00:37<01:42,  5.66it/s]"
          ]
        },
        {
          "output_type": "stream",
          "name": "stdout",
          "text": [
            "[Epoch 47, Batch 200] Loss: 1.312\n"
          ]
        },
        {
          "output_type": "stream",
          "name": "stderr",
          "text": [
            "Epoch 47:  38%|███▊      | 300/782 [00:55<01:49,  4.38it/s]"
          ]
        },
        {
          "output_type": "stream",
          "name": "stdout",
          "text": [
            "[Epoch 47, Batch 300] Loss: 1.316\n"
          ]
        },
        {
          "output_type": "stream",
          "name": "stderr",
          "text": [
            "Epoch 47:  51%|█████▏    | 401/782 [01:14<01:08,  5.56it/s]"
          ]
        },
        {
          "output_type": "stream",
          "name": "stdout",
          "text": [
            "[Epoch 47, Batch 400] Loss: 1.329\n"
          ]
        },
        {
          "output_type": "stream",
          "name": "stderr",
          "text": [
            "Epoch 47:  64%|██████▍   | 501/782 [01:33<00:55,  5.04it/s]"
          ]
        },
        {
          "output_type": "stream",
          "name": "stdout",
          "text": [
            "[Epoch 47, Batch 500] Loss: 1.302\n"
          ]
        },
        {
          "output_type": "stream",
          "name": "stderr",
          "text": [
            "Epoch 47:  77%|███████▋  | 601/782 [01:52<00:34,  5.30it/s]"
          ]
        },
        {
          "output_type": "stream",
          "name": "stdout",
          "text": [
            "[Epoch 47, Batch 600] Loss: 1.281\n"
          ]
        },
        {
          "output_type": "stream",
          "name": "stderr",
          "text": [
            "Epoch 47:  90%|████████▉ | 701/782 [02:12<00:15,  5.30it/s]"
          ]
        },
        {
          "output_type": "stream",
          "name": "stdout",
          "text": [
            "[Epoch 47, Batch 700] Loss: 1.289\n"
          ]
        },
        {
          "output_type": "stream",
          "name": "stderr",
          "text": [
            "Epoch 47: 100%|██████████| 782/782 [02:27<00:00,  5.32it/s]\n",
            "Epoch 48:  13%|█▎        | 101/782 [00:19<02:06,  5.39it/s]"
          ]
        },
        {
          "output_type": "stream",
          "name": "stdout",
          "text": [
            "[Epoch 48, Batch 100] Loss: 1.310\n"
          ]
        },
        {
          "output_type": "stream",
          "name": "stderr",
          "text": [
            "Epoch 48:  26%|██▌       | 201/782 [00:38<01:50,  5.27it/s]"
          ]
        },
        {
          "output_type": "stream",
          "name": "stdout",
          "text": [
            "[Epoch 48, Batch 200] Loss: 1.306\n"
          ]
        },
        {
          "output_type": "stream",
          "name": "stderr",
          "text": [
            "Epoch 48:  38%|███▊      | 300/782 [00:57<01:28,  5.43it/s]"
          ]
        },
        {
          "output_type": "stream",
          "name": "stdout",
          "text": [
            "[Epoch 48, Batch 300] Loss: 1.289\n"
          ]
        },
        {
          "output_type": "stream",
          "name": "stderr",
          "text": [
            "Epoch 48:  51%|█████     | 400/782 [01:18<01:34,  4.05it/s]"
          ]
        },
        {
          "output_type": "stream",
          "name": "stdout",
          "text": [
            "[Epoch 48, Batch 400] Loss: 1.317\n"
          ]
        },
        {
          "output_type": "stream",
          "name": "stderr",
          "text": [
            "Epoch 48:  64%|██████▍   | 501/782 [01:37<00:53,  5.28it/s]"
          ]
        },
        {
          "output_type": "stream",
          "name": "stdout",
          "text": [
            "[Epoch 48, Batch 500] Loss: 1.330\n"
          ]
        },
        {
          "output_type": "stream",
          "name": "stderr",
          "text": [
            "Epoch 48:  77%|███████▋  | 601/782 [01:57<00:31,  5.71it/s]"
          ]
        },
        {
          "output_type": "stream",
          "name": "stdout",
          "text": [
            "[Epoch 48, Batch 600] Loss: 1.314\n"
          ]
        },
        {
          "output_type": "stream",
          "name": "stderr",
          "text": [
            "Epoch 48:  90%|████████▉ | 701/782 [02:16<00:14,  5.62it/s]"
          ]
        },
        {
          "output_type": "stream",
          "name": "stdout",
          "text": [
            "[Epoch 48, Batch 700] Loss: 1.295\n"
          ]
        },
        {
          "output_type": "stream",
          "name": "stderr",
          "text": [
            "Epoch 48: 100%|██████████| 782/782 [02:31<00:00,  5.17it/s]\n",
            "Epoch 49:  13%|█▎        | 101/782 [00:19<02:07,  5.33it/s]"
          ]
        },
        {
          "output_type": "stream",
          "name": "stdout",
          "text": [
            "[Epoch 49, Batch 100] Loss: 1.297\n"
          ]
        },
        {
          "output_type": "stream",
          "name": "stderr",
          "text": [
            "Epoch 49:  26%|██▌       | 201/782 [00:38<01:50,  5.28it/s]"
          ]
        },
        {
          "output_type": "stream",
          "name": "stdout",
          "text": [
            "[Epoch 49, Batch 200] Loss: 1.300\n"
          ]
        },
        {
          "output_type": "stream",
          "name": "stderr",
          "text": [
            "Epoch 49:  38%|███▊      | 301/782 [00:57<01:30,  5.31it/s]"
          ]
        },
        {
          "output_type": "stream",
          "name": "stdout",
          "text": [
            "[Epoch 49, Batch 300] Loss: 1.302\n"
          ]
        },
        {
          "output_type": "stream",
          "name": "stderr",
          "text": [
            "Epoch 49:  51%|█████▏    | 401/782 [01:16<01:07,  5.67it/s]"
          ]
        },
        {
          "output_type": "stream",
          "name": "stdout",
          "text": [
            "[Epoch 49, Batch 400] Loss: 1.301\n"
          ]
        },
        {
          "output_type": "stream",
          "name": "stderr",
          "text": [
            "Epoch 49:  64%|██████▍   | 501/782 [01:35<00:53,  5.24it/s]"
          ]
        },
        {
          "output_type": "stream",
          "name": "stdout",
          "text": [
            "[Epoch 49, Batch 500] Loss: 1.312\n"
          ]
        },
        {
          "output_type": "stream",
          "name": "stderr",
          "text": [
            "Epoch 49:  77%|███████▋  | 601/782 [01:54<00:32,  5.57it/s]"
          ]
        },
        {
          "output_type": "stream",
          "name": "stdout",
          "text": [
            "[Epoch 49, Batch 600] Loss: 1.305\n"
          ]
        },
        {
          "output_type": "stream",
          "name": "stderr",
          "text": [
            "Epoch 49:  90%|████████▉ | 700/782 [02:13<00:17,  4.63it/s]"
          ]
        },
        {
          "output_type": "stream",
          "name": "stdout",
          "text": [
            "[Epoch 49, Batch 700] Loss: 1.316\n"
          ]
        },
        {
          "output_type": "stream",
          "name": "stderr",
          "text": [
            "Epoch 49: 100%|██████████| 782/782 [02:28<00:00,  5.25it/s]\n",
            "Epoch 50:  13%|█▎        | 101/782 [00:19<02:03,  5.52it/s]"
          ]
        },
        {
          "output_type": "stream",
          "name": "stdout",
          "text": [
            "[Epoch 50, Batch 100] Loss: 1.311\n"
          ]
        },
        {
          "output_type": "stream",
          "name": "stderr",
          "text": [
            "Epoch 50:  26%|██▌       | 201/782 [00:38<01:44,  5.58it/s]"
          ]
        },
        {
          "output_type": "stream",
          "name": "stdout",
          "text": [
            "[Epoch 50, Batch 200] Loss: 1.303\n"
          ]
        },
        {
          "output_type": "stream",
          "name": "stderr",
          "text": [
            "Epoch 50:  38%|███▊      | 300/782 [00:57<01:52,  4.28it/s]"
          ]
        },
        {
          "output_type": "stream",
          "name": "stdout",
          "text": [
            "[Epoch 50, Batch 300] Loss: 1.312\n"
          ]
        },
        {
          "output_type": "stream",
          "name": "stderr",
          "text": [
            "Epoch 50:  51%|█████▏    | 401/782 [01:16<01:08,  5.56it/s]"
          ]
        },
        {
          "output_type": "stream",
          "name": "stdout",
          "text": [
            "[Epoch 50, Batch 400] Loss: 1.310\n"
          ]
        },
        {
          "output_type": "stream",
          "name": "stderr",
          "text": [
            "Epoch 50:  64%|██████▍   | 501/782 [01:34<00:59,  4.71it/s]"
          ]
        },
        {
          "output_type": "stream",
          "name": "stdout",
          "text": [
            "[Epoch 50, Batch 500] Loss: 1.300\n"
          ]
        },
        {
          "output_type": "stream",
          "name": "stderr",
          "text": [
            "Epoch 50:  77%|███████▋  | 601/782 [01:53<00:32,  5.65it/s]"
          ]
        },
        {
          "output_type": "stream",
          "name": "stdout",
          "text": [
            "[Epoch 50, Batch 600] Loss: 1.281\n"
          ]
        },
        {
          "output_type": "stream",
          "name": "stderr",
          "text": [
            "Epoch 50:  90%|████████▉ | 701/782 [02:12<00:14,  5.69it/s]"
          ]
        },
        {
          "output_type": "stream",
          "name": "stdout",
          "text": [
            "[Epoch 50, Batch 700] Loss: 1.277\n"
          ]
        },
        {
          "output_type": "stream",
          "name": "stderr",
          "text": [
            "Epoch 50: 100%|██████████| 782/782 [02:27<00:00,  5.30it/s]\n"
          ]
        },
        {
          "output_type": "display_data",
          "data": {
            "text/plain": [
              "<Figure size 640x480 with 1 Axes>"
            ],
            "image/png": "[encoded data removed]"
          },
          "metadata": {}
        }
      ]
    },
    {
      "cell_type": "code",
      "source": [
        "correct = 0\n",
        "total = 0\n",
        "true_positives = 0\n",
        "false_positives = 0\n",
        "false_negatives = 0\n",
        "positive_label = 1  # Replace with the appropriate positive label for your task\n",
        "\n",
        "true_labels = []\n",
        "predicted_labels = []\n",
        "\n",
        "with torch.no_grad():\n",
        "    for data in tqdm(testloader, desc=\"Testing\"):\n",
        "        # Get the inputs and labels\n",
        "        inputs, labels = data\n",
        "        inputs, labels = inputs.to(device), labels.to(device)\n",
        "\n",
        "        # Predict the outputs\n",
        "        outputs = model(inputs)\n",
        "        _, predicted = torch.max(outputs.data, 1)\n",
        "\n",
        "        # Compute the accuracy\n",
        "        total += labels.size(0)\n",
        "        correct += (predicted == labels).sum().item()\n",
        "\n",
        "        # Compute true positives, false positives, and false negatives\n",
        "        true_positives += ((predicted == labels) & (predicted == positive_label)).sum().item()\n",
        "        false_positives += ((predicted != labels) & (predicted == positive_label)).sum().item()\n",
        "        false_negatives += ((predicted != labels) & (predicted != positive_label)).sum().item()\n",
        "\n",
        "        # Append true and predicted labels to the respective lists\n",
        "        true_labels.extend(labels.tolist())\n",
        "        predicted_labels.extend(predicted.tolist())\n",
        "\n",
        "accuracy = 100 * correct / total\n",
        "precision = true_positives / (true_positives + false_positives)\n",
        "recall = true_positives / (true_positives + false_negatives)\n",
        "\n",
        "print(f\"Accuracy on the test set: {accuracy:.2f}%\")\n",
        "\n",
        "# Print true and predicted labels\n",
        "print(\"True Labels:\", true_labels)\n",
        "print(\"Predicted Labels:\", predicted_labels)\n"
      ],
      "metadata": {
        "colab": {
          "base_uri": "https://localhost:8080/"
        },
        "id": "cKUeCZRq5o60",
        "outputId": "ca75c4cc-781c-435d-9b7a-05ff92319bb8"
      },
      "execution_count": null,
      "outputs": [
        {
          "output_type": "stream",
          "name": "stderr",
          "text": [
            "Testing: 100%|██████████| 157/157 [00:11<00:00, 13.74it/s]"
          ]
        },
        {
          "output_type": "stream",
          "name": "stdout",
          "text": [
            "Accuracy on the test set: 53.20%\n",
            "True Labels: [3, 8, 8, 0, 6, 6, 1, 6, 3, 1, 0, 9, 5, 7, 9, 8, 5, 7, 8, 6, 7, 0, 4, 9, 5, 2, 4, 0, 9, 6, 6, 5, 4, 5, 9, 2, 4, 1, 9, 5, 4, 6, 5, 6, 0, 9, 3, 9, 7, 6, 9, 8, 0, 3, 8, 8, 7, 7, 4, 6, 7, 3, 6, 3, 6, 2, 1, 2, 3, 7, 2, 6, 8, 8, 0, 2, 9, 3, 3, 8, 8, 1, 1, 7, 2, 5, 2, 7, 8, 9, 0, 3, 8, 6, 4, 6, 6, 0, 0, 7, 4, 5, 6, 3, 1, 1, 3, 6, 8, 7, 4, 0, 6, 2, 1, 3, 0, 4, 2, 7, 8, 3, 1, 2, 8, 0, 8, 3, 5, 2, 4, 1, 8, 9, 1, 2, 9, 7, 2, 9, 6, 5, 6, 3, 8, 7, 6, 2, 5, 2, 8, 9, 6, 0, 0, 5, 2, 9, 5, 4, 2, 1, 6, 6, 8, 4, 8, 4, 5, 0, 9, 9, 9, 8, 9, 9, 3, 7, 5, 0, 0, 5, 2, 2, 3, 8, 6, 3, 4, 0, 5, 8, 0, 1, 7, 2, 8, 8, 7, 8, 5, 1, 8, 7, 1, 3, 0, 5, 7, 9, 7, 4, 5, 9, 8, 0, 7, 9, 8, 2, 7, 6, 9, 4, 3, 9, 6, 4, 7, 6, 5, 1, 5, 8, 8, 0, 4, 0, 5, 5, 1, 1, 8, 9, 0, 3, 1, 9, 2, 2, 5, 3, 9, 9, 4, 0, 3, 0, 0, 9, 8, 1, 5, 7, 0, 8, 2, 4, 7, 0, 2, 3, 6, 3, 8, 5, 0, 3, 4, 3, 9, 0, 6, 1, 0, 9, 1, 0, 7, 9, 1, 2, 6, 9, 3, 4, 6, 0, 0, 6, 6, 6, 3, 2, 6, 1, 8, 2, 1, 6, 8, 6, 8, 0, 4, 0, 7, 7, 5, 5, 3, 5, 2, 3, 4, 1, 7, 5, 4, 6, 1, 9, 3, 6, 6, 9, 3, 8, 0, 7, 2, 6, 2, 5, 8, 5, 4, 6, 8, 9, 9, 1, 0, 2, 2, 7, 3, 2, 8, 0, 9, 5, 8, 1, 9, 4, 1, 3, 8, 1, 4, 7, 9, 4, 2, 7, 0, 7, 0, 6, 6, 9, 0, 9, 2, 8, 7, 2, 2, 5, 1, 2, 6, 2, 9, 6, 2, 3, 0, 3, 9, 8, 7, 8, 8, 4, 0, 1, 8, 2, 7, 9, 3, 6, 1, 9, 0, 7, 3, 7, 4, 5, 0, 0, 2, 9, 3, 4, 0, 6, 2, 5, 3, 7, 3, 7, 2, 5, 3, 1, 1, 4, 9, 9, 5, 7, 5, 0, 2, 2, 2, 9, 7, 3, 9, 4, 3, 5, 4, 6, 5, 6, 1, 4, 3, 4, 4, 3, 7, 8, 3, 7, 8, 0, 5, 7, 6, 0, 5, 4, 8, 6, 8, 5, 5, 9, 9, 9, 5, 0, 1, 0, 8, 1, 1, 8, 0, 2, 2, 0, 4, 6, 5, 4, 9, 4, 7, 9, 9, 4, 5, 6, 6, 1, 5, 3, 8, 9, 5, 8, 5, 7, 0, 7, 0, 5, 0, 0, 4, 6, 9, 0, 9, 5, 6, 6, 6, 2, 9, 0, 1, 7, 6, 7, 5, 9, 1, 6, 2, 5, 5, 5, 8, 5, 9, 4, 6, 4, 3, 2, 0, 7, 6, 2, 2, 3, 9, 7, 9, 2, 6, 7, 1, 3, 6, 6, 8, 9, 7, 5, 4, 0, 8, 4, 0, 9, 3, 4, 8, 9, 6, 9, 2, 6, 1, 4, 7, 3, 5, 3, 8, 5, 0, 2, 1, 6, 4, 3, 3, 9, 6, 9, 8, 8, 5, 8, 6, 6, 2, 1, 7, 7, 1, 2, 7, 9, 9, 4, 4, 1, 2, 5, 6, 8, 7, 6, 8, 3, 0, 5, 5, 3, 0, 7, 9, 1, 3, 4, 4, 5, 3, 9, 5, 6, 9, 2, 1, 1, 4, 1, 9, 4, 7, 6, 3, 8, 9, 0, 1, 3, 6, 3, 6, 3, 2, 0, 3, 1, 0, 5, 9, 6, 4, 8, 9, 6, 9, 6, 3, 0, 3, 2, 2, 7, 8, 3, 8, 2, 7, 5, 7, 2, 4, 8, 7, 4, 2, 9, 8, 8, 6, 8, 8, 7, 4, 3, 3, 8, 4, 9, 4, 8, 8, 1, 8, 2, 1, 3, 6, 5, 4, 2, 7, 9, 9, 4, 1, 4, 1, 3, 2, 7, 0, 7, 9, 7, 6, 6, 2, 5, 9, 2, 9, 1, 2, 2, 6, 8, 2, 1, 3, 6, 6, 0, 1, 2, 7, 0, 5, 4, 6, 1, 6, 4, 0, 2, 2, 6, 0, 5, 9, 1, 7, 6, 7, 0, 3, 9, 6, 8, 3, 0, 3, 4, 7, 7, 1, 4, 7, 2, 7, 1, 4, 7, 4, 4, 8, 4, 7, 7, 5, 3, 7, 2, 0, 8, 9, 5, 8, 3, 6, 2, 0, 8, 7, 3, 7, 6, 5, 3, 1, 3, 2, 2, 5, 4, 1, 2, 9, 2, 7, 0, 7, 2, 1, 3, 2, 0, 2, 4, 7, 9, 8, 9, 0, 7, 7, 0, 7, 8, 4, 6, 3, 3, 0, 1, 3, 7, 0, 1, 3, 1, 4, 2, 3, 8, 4, 2, 3, 7, 8, 4, 3, 0, 9, 0, 0, 1, 0, 4, 4, 6, 7, 6, 1, 1, 3, 7, 3, 5, 2, 6, 6, 5, 8, 7, 1, 6, 8, 8, 5, 3, 0, 4, 0, 1, 3, 8, 8, 0, 6, 9, 9, 9, 5, 5, 8, 6, 0, 0, 4, 2, 3, 2, 7, 2, 2, 5, 9, 8, 9, 1, 7, 4, 0, 3, 0, 1, 3, 8, 3, 9, 6, 1, 4, 7, 0, 3, 7, 8, 9, 1, 1, 6, 6, 6, 6, 9, 1, 9, 9, 4, 2, 1, 7, 0, 6, 8, 1, 9, 2, 9, 0, 4, 7, 8, 3, 1, 2, 0, 1, 5, 8, 4, 6, 3, 8, 1, 3, 8, 5, 0, 8, 4, 8, 1, 1, 8, 9, 6, 0, 8, 6, 1, 3, 4, 1, 6, 0, 5, 1, 1, 0, 0, 3, 5, 0, 0, 6, 6, 3, 3, 6, 3, 6, 6, 0, 7, 2, 2, 7, 5, 5, 2, 8, 5, 2, 1, 1, 4, 3, 2, 0, 3, 1, 5, 3, 7, 6, 8, 9, 1, 6, 4, 9, 3, 9, 0, 9, 6, 3, 6, 0, 7, 3, 8, 0, 0, 0, 6, 6, 6, 9, 2, 5, 4, 4, 6, 3, 6, 0, 8, 6, 0, 6, 2, 7, 5, 1, 2, 7, 8, 8, 0, 9, 4, 9, 7, 2, 0, 2, 8, 3, 8, 9, 1, 5, 5, 4, 7, 5, 3, 8, 3, 3, 6, 2, 8, 4, 3, 7, 1, 2, 4, 1, 6, 9, 0, 5, 8, 6, 1, 8, 6, 1, 4, 2, 6, 2, 7, 2, 2, 0, 8, 6, 9, 1, 7, 1, 8, 8, 0, 7, 3, 8, 0, 3, 4, 3, 7, 7, 9, 2, 3, 1, 9, 1, 9, 6, 3, 3, 3, 1, 0, 6, 1, 4, 1, 0, 0, 1, 1, 6, 5, 4, 6, 2, 0, 7, 9, 8, 7, 2, 0, 6, 8, 1, 4, 3, 7, 0, 6, 1, 8, 5, 7, 8, 4, 8, 3, 9, 9, 9, 8, 7, 6, 6, 3, 5, 1, 5, 9, 1, 4, 1, 5, 7, 0, 1, 5, 2, 0, 8, 8, 5, 6, 7, 3, 2, 4, 7, 2, 5, 8, 2, 4, 9, 2, 1, 8, 1, 9, 8, 8, 8, 9, 0, 4, 3, 3, 1, 8, 4, 6, 3, 3, 5, 2, 2, 8, 3, 8, 9, 5, 8, 9, 8, 9, 1, 6, 5, 9, 4, 4, 8, 0, 7, 2, 9, 7, 4, 1, 6, 4, 4, 9, 1, 2, 5, 6, 0, 8, 6, 1, 9, 4, 5, 9, 5, 0, 7, 2, 0, 0, 4, 2, 6, 6, 5, 5, 2, 8, 1, 7, 3, 1, 4, 5, 6, 5, 1, 4, 7, 0, 9, 4, 3, 8, 2, 8, 4, 7, 2, 3, 1, 5, 2, 9, 8, 9, 7, 9, 5, 1, 4, 0, 8, 2, 3, 8, 9, 1, 1, 3, 2, 4, 9, 3, 1, 7, 4, 6, 2, 8, 9, 5, 3, 9, 5, 5, 6, 7, 2, 4, 6, 3, 1, 0, 7, 2, 5, 4, 7, 6, 1, 1, 9, 8, 1, 0, 1, 3, 1, 1, 1, 7, 3, 9, 6, 8, 4, 6, 8, 4, 9, 4, 7, 9, 7, 6, 8, 4, 9, 7, 0, 1, 6, 1, 5, 9, 0, 4, 3, 4, 1, 3, 0, 8, 4, 6, 2, 2, 6, 5, 3, 6, 2, 1, 1, 8, 6, 0, 4, 0, 1, 9, 7, 1, 3, 7, 7, 8, 7, 7, 3, 9, 7, 7, 7, 2, 1, 2, 8, 6, 4, 0, 7, 9, 8, 6, 8, 4, 9, 1, 7, 2, 2, 8, 5, 8, 1, 2, 2, 4, 1, 2, 5, 2, 8, 1, 8, 1, 8, 6, 0, 2, 4, 1, 3, 6, 7, 7, 4, 4, 3, 3, 4, 5, 2, 4, 3, 7, 8, 4, 4, 4, 5, 4, 3, 2, 8, 4, 5, 5, 4, 1, 4, 2, 5, 1, 6, 4, 3, 4, 4, 0, 8, 8, 4, 5, 7, 5, 6, 9, 1, 6, 7, 2, 0, 1, 4, 5, 6, 0, 0, 2, 7, 5, 6, 0, 6, 2, 9, 1, 7, 7, 5, 2, 5, 6, 4, 1, 4, 3, 3, 3, 0, 3, 5, 5, 8, 9, 7, 3, 1, 3, 3, 3, 4, 4, 2, 3, 3, 8, 1, 7, 7, 0, 7, 4, 5, 1, 4, 2, 4, 3, 9, 9, 4, 9, 9, 1, 8, 1, 6, 7, 5, 5, 4, 9, 7, 6, 5, 9, 2, 4, 0, 7, 8, 5, 5, 0, 0, 9, 9, 8, 2, 5, 4, 8, 3, 6, 3, 6, 0, 6, 6, 6, 9, 6, 6, 8, 6, 2, 4, 5, 8, 1, 2, 7, 6, 5, 7, 8, 1, 8, 0, 8, 6, 9, 2, 8, 9, 4, 0, 9, 4, 9, 5, 7, 5, 5, 9, 5, 3, 0, 1, 9, 7, 2, 4, 1, 0, 8, 0, 3, 1, 7, 0, 0, 4, 8, 6, 2, 4, 0, 0, 9, 0, 8, 4, 5, 9, 3, 9, 0, 5, 6, 5, 0, 1, 4, 8, 1, 0, 5, 2, 1, 0, 2, 8, 1, 5, 6, 7, 7, 2, 6, 2, 5, 0, 1, 4, 2, 5, 4, 6, 2, 2, 1, 7, 2, 8, 5, 5, 3, 0, 4, 8, 3, 7, 6, 3, 8, 1, 0, 1, 3, 3, 0, 7, 4, 9, 5, 3, 6, 0, 1, 4, 4, 4, 4, 2, 2, 5, 8, 1, 5, 9, 8, 1, 1, 5, 3, 9, 9, 7, 6, 5, 0, 8, 4, 7, 0, 9, 2, 8, 4, 7, 1, 3, 9, 6, 8, 9, 0, 4, 9, 6, 7, 8, 9, 4, 8, 9, 7, 2, 5, 3, 7, 1, 0, 2, 9, 5, 5, 8, 5, 4, 2, 8, 3, 5, 5, 7, 7, 8, 6, 2, 8, 2, 3, 5, 6, 8, 0, 2, 3, 7, 0, 1, 9, 1, 3, 7, 5, 8, 3, 2, 9, 6, 8, 6, 9, 3, 8, 9, 8, 0, 7, 8, 5, 0, 0, 1, 3, 9, 1, 5, 3, 4, 4, 0, 9, 9, 9, 9, 8, 2, 4, 2, 2, 5, 1, 9, 1, 0, 9, 4, 2, 1, 6, 0, 3, 7, 6, 3, 1, 8, 6, 5, 7, 2, 8, 4, 4, 8, 3, 5, 0, 5, 7, 4, 4, 2, 2, 7, 3, 6, 0, 2, 7, 6, 2, 3, 0, 7, 7, 8, 1, 1, 4, 6, 0, 6, 6, 5, 5, 6, 3, 9, 3, 6, 8, 7, 6, 4, 9, 5, 6, 4, 1, 6, 3, 8, 2, 3, 9, 8, 5, 1, 5, 4, 5, 7, 5, 7, 8, 9, 1, 7, 2, 5, 6, 8, 4, 6, 5, 3, 9, 9, 8, 5, 5, 6, 4, 5, 9, 7, 3, 4, 1, 4, 2, 3, 6, 5, 5, 2, 8, 0, 0, 1, 8, 3, 1, 3, 5, 8, 3, 8, 5, 8, 6, 3, 5, 5, 5, 0, 9, 5, 5, 7, 1, 8, 2, 2, 7, 3, 4, 2, 9, 6, 2, 2, 4, 3, 0, 2, 0, 1, 3, 2, 2, 7, 0, 1, 0, 7, 7, 2, 0, 1, 6, 5, 0, 2, 2, 0, 1, 2, 6, 0, 1, 6, 6, 5, 3, 4, 0, 0, 9, 1, 0, 2, 5, 9, 7, 8, 6, 4, 6, 0, 2, 0, 1, 9, 2, 4, 9, 0, 7, 2, 3, 4, 8, 0, 2, 6, 8, 9, 7, 1, 9, 3, 7, 2, 7, 9, 6, 9, 5, 7, 8, 5, 9, 8, 3, 9, 8, 0, 5, 5, 7, 1, 2, 0, 7, 5, 8, 2, 2, 5, 3, 9, 3, 1, 9, 3, 1, 4, 3, 4, 4, 9, 0, 9, 5, 9, 2, 9, 4, 0, 2, 8, 4, 8, 6, 8, 2, 0, 5, 9, 6, 9, 5, 1, 3, 4, 4, 2, 7, 2, 4, 4, 0, 2, 8, 4, 5, 1, 2, 6, 8, 1, 7, 2, 8, 7, 4, 3, 3, 0, 3, 7, 2, 5, 6, 1, 7, 9, 0, 2, 3, 9, 8, 9, 5, 0, 0, 7, 6, 3, 3, 8, 1, 4, 0, 1, 5, 4, 3, 2, 6, 0, 8, 8, 6, 3, 3, 2, 9, 7, 5, 1, 6, 0, 5, 9, 9, 4, 5, 9, 4, 8, 3, 3, 2, 5, 1, 9, 5, 5, 8, 1, 8, 9, 7, 0, 6, 3, 2, 0, 2, 6, 9, 3, 9, 1, 6, 6, 7, 2, 6, 3, 2, 5, 5, 2, 7, 5, 2, 0, 8, 0, 7, 7, 1, 7, 4, 0, 2, 2, 6, 1, 5, 9, 7, 6, 2, 7, 0, 5, 6, 0, 1, 1, 8, 4, 5, 3, 1, 2, 4, 8, 9, 8, 1, 7, 2, 7, 2, 3, 2, 6, 7, 9, 4, 0, 1, 0, 4, 5, 0, 8, 0, 7, 6, 1, 0, 8, 5, 9, 2, 5, 4, 4, 9, 0, 6, 1, 2, 5, 1, 6, 7, 1, 5, 8, 8, 0, 3, 9, 4, 0, 3, 4, 9, 2, 4, 3, 0, 6, 4, 5, 6, 6, 7, 8, 4, 8, 8, 3, 2, 8, 0, 2, 5, 6, 8, 7, 8, 9, 9, 0, 6, 6, 8, 1, 1, 7, 4, 4, 2, 3, 6, 9, 6, 2, 4, 1, 8, 2, 3, 1, 6, 8, 6, 8, 5, 9, 0, 1, 0, 2, 9, 2, 9, 0, 9, 7, 8, 5, 0, 6, 6, 8, 1, 6, 5, 8, 7, 9, 2, 1, 6, 7, 5, 6, 3, 0, 9, 8, 9, 5, 9, 9, 9, 3, 6, 4, 4, 8, 8, 1, 7, 3, 0, 6, 2, 4, 8, 2, 2, 9, 2, 2, 9, 7, 4, 1, 9, 1, 4, 3, 5, 3, 8, 9, 3, 6, 2, 0, 8, 9, 0, 5, 1, 5, 8, 2, 1, 2, 3, 2, 4, 8, 4, 0, 6, 4, 2, 9, 8, 4, 7, 6, 2, 4, 7, 7, 6, 4, 2, 2, 3, 2, 4, 9, 0, 0, 9, 6, 5, 8, 5, 2, 4, 8, 8, 6, 4, 5, 7, 6, 3, 7, 0, 4, 0, 5, 8, 2, 8, 0, 4, 9, 2, 3, 6, 8, 1, 6, 0, 8, 4, 3, 1, 4, 5, 2, 4, 3, 6, 0, 7, 1, 3, 5, 7, 1, 8, 0, 4, 8, 2, 7, 7, 0, 2, 2, 4, 3, 3, 1, 6, 1, 6, 4, 6, 7, 4, 7, 3, 8, 1, 3, 1, 4, 6, 5, 5, 7, 4, 5, 4, 9, 7, 7, 2, 3, 3, 6, 7, 4, 1, 6, 1, 0, 6, 9, 6, 0, 2, 0, 2, 4, 7, 0, 0, 0, 0, 7, 5, 3, 2, 7, 8, 5, 5, 2, 2, 8, 9, 1, 2, 2, 0, 3, 4, 9, 1, 6, 9, 0, 8, 3, 6, 4, 6, 7, 5, 1, 8, 9, 0, 5, 0, 5, 4, 3, 8, 5, 2, 0, 8, 5, 9, 2, 5, 6, 5, 7, 3, 7, 2, 8, 8, 4, 2, 1, 6, 2, 9, 9, 8, 2, 3, 1, 0, 5, 2, 3, 7, 9, 5, 9, 1, 1, 3, 2, 7, 4, 4, 1, 9, 4, 5, 5, 2, 7, 7, 6, 1, 2, 3, 7, 5, 4, 3, 7, 7, 0, 0, 1, 4, 4, 3, 7, 9, 8, 7, 0, 9, 0, 3, 7, 6, 3, 8, 4, 5, 6, 5, 3, 4, 2, 9, 2, 4, 9, 2, 0, 1, 1, 3, 7, 9, 5, 1, 6, 0, 3, 3, 7, 2, 4, 5, 2, 3, 6, 3, 3, 0, 4, 4, 3, 8, 1, 2, 3, 2, 7, 1, 4, 5, 6, 8, 6, 6, 5, 4, 2, 9, 9, 3, 2, 0, 4, 1, 5, 5, 6, 6, 5, 6, 9, 7, 9, 4, 8, 3, 1, 9, 8, 1, 9, 0, 3, 0, 4, 7, 7, 2, 6, 5, 6, 9, 7, 7, 5, 7, 0, 8, 6, 7, 8, 3, 8, 9, 3, 2, 9, 2, 7, 4, 1, 9, 7, 0, 8, 1, 2, 0, 6, 5, 1, 4, 2, 8, 2, 8, 3, 3, 1, 4, 9, 8, 1, 1, 7, 9, 9, 4, 6, 8, 5, 3, 2, 2, 3, 8, 5, 1, 9, 7, 9, 1, 5, 3, 1, 0, 3, 8, 9, 2, 0, 8, 0, 7, 9, 4, 8, 3, 0, 7, 0, 7, 0, 5, 5, 4, 3, 0, 9, 9, 0, 2, 2, 0, 8, 4, 4, 5, 2, 2, 1, 1, 5, 5, 4, 3, 4, 0, 8, 4, 8, 2, 5, 6, 5, 1, 7, 2, 4, 0, 5, 6, 8, 7, 6, 3, 1, 3, 6, 6, 4, 5, 5, 5, 1, 8, 7, 3, 0, 2, 5, 1, 1, 1, 6, 7, 2, 1, 2, 3, 9, 8, 3, 1, 7, 4, 8, 4, 7, 5, 8, 6, 0, 3, 0, 8, 3, 4, 4, 9, 4, 6, 1, 5, 7, 7, 9, 0, 1, 3, 1, 3, 2, 4, 0, 7, 8, 3, 1, 6, 2, 1, 8, 8, 1, 9, 7, 5, 3, 2, 9, 0, 6, 8, 4, 1, 5, 7, 2, 4, 7, 0, 4, 9, 0, 7, 0, 6, 7, 1, 8, 5, 8, 8, 7, 0, 0, 3, 2, 5, 7, 0, 6, 4, 4, 9, 1, 8, 6, 3, 9, 4, 9, 3, 3, 7, 5, 9, 7, 7, 4, 5, 8, 2, 8, 9, 5, 3, 1, 9, 2, 2, 0, 1, 1, 8, 1, 1, 9, 8, 9, 9, 0, 2, 6, 9, 1, 9, 0, 1, 9, 2, 9, 9, 9, 0, 9, 9, 2, 1, 7, 0, 5, 6, 3, 9, 8, 3, 0, 2, 7, 7, 4, 8, 3, 0, 5, 2, 3, 5, 7, 6, 6, 6, 5, 6, 5, 4, 5, 8, 8, 0, 9, 7, 9, 0, 6, 9, 6, 1, 4, 7, 9, 0, 3, 5, 4, 7, 6, 9, 8, 2, 3, 9, 3, 3, 7, 8, 3, 5, 5, 9, 6, 1, 4, 7, 4, 8, 7, 7, 1, 3, 0, 3, 2, 5, 4, 9, 3, 5, 4, 7, 0, 3, 7, 0, 2, 1, 5, 8, 7, 3, 5, 7, 8, 5, 7, 8, 1, 5, 4, 7, 0, 8, 3, 2, 9, 7, 4, 1, 6, 5, 9, 8, 5, 5, 4, 1, 0, 9, 4, 4, 3, 0, 4, 8, 0, 8, 2, 9, 5, 9, 7, 4, 6, 7, 9, 2, 9, 3, 7, 7, 8, 2, 2, 0, 2, 5, 3, 6, 4, 7, 2, 3, 7, 8, 7, 2, 5, 0, 0, 7, 0, 9, 6, 1, 0, 3, 9, 7, 4, 9, 1, 6, 8, 1, 2, 3, 3, 5, 4, 8, 9, 7, 4, 4, 1, 2, 4, 9, 8, 7, 9, 5, 1, 2, 1, 6, 6, 4, 5, 7, 4, 5, 8, 5, 2, 8, 7, 8, 2, 3, 6, 1, 3, 3, 1, 5, 1, 9, 0, 9, 2, 0, 6, 2, 4, 8, 5, 7, 6, 1, 2, 9, 4, 5, 0, 3, 3, 7, 7, 7, 1, 4, 5, 0, 2, 8, 5, 0, 0, 6, 2, 0, 8, 4, 5, 4, 5, 6, 4, 7, 9, 4, 2, 0, 6, 4, 0, 0, 6, 4, 6, 1, 9, 5, 5, 2, 2, 6, 3, 4, 5, 9, 1, 7, 2, 3, 9, 6, 5, 0, 2, 9, 7, 1, 7, 2, 2, 0, 8, 6, 4, 3, 2, 7, 7, 0, 4, 1, 6, 5, 1, 3, 0, 3, 9, 0, 0, 2, 5, 0, 4, 0, 1, 9, 8, 4, 9, 4, 2, 4, 3, 3, 4, 0, 4, 3, 2, 8, 9, 1, 5, 8, 1, 8, 2, 4, 5, 2, 4, 1, 1, 6, 6, 8, 5, 2, 2, 5, 0, 8, 2, 3, 6, 2, 9, 6, 1, 4, 5, 9, 0, 1, 0, 0, 8, 1, 1, 6, 6, 9, 5, 4, 1, 7, 8, 6, 9, 1, 7, 6, 0, 9, 3, 5, 3, 2, 5, 3, 4, 9, 7, 1, 4, 4, 6, 1, 3, 8, 8, 0, 6, 7, 7, 6, 7, 2, 3, 2, 2, 6, 2, 7, 4, 0, 3, 6, 2, 6, 3, 3, 0, 9, 5, 1, 1, 5, 3, 6, 4, 3, 4, 1, 0, 4, 5, 5, 2, 8, 9, 4, 3, 1, 8, 0, 1, 3, 3, 4, 4, 2, 9, 7, 6, 8, 1, 8, 9, 1, 3, 1, 7, 3, 0, 0, 2, 8, 3, 9, 2, 7, 2, 6, 0, 1, 6, 1, 6, 7, 5, 5, 2, 5, 9, 4, 0, 2, 3, 4, 9, 4, 1, 0, 0, 2, 3, 8, 9, 2, 8, 9, 5, 7, 9, 1, 4, 6, 2, 8, 4, 4, 8, 9, 3, 1, 1, 6, 5, 8, 4, 6, 4, 5, 2, 6, 4, 2, 3, 1, 3, 6, 8, 5, 2, 2, 7, 1, 6, 2, 5, 9, 2, 8, 1, 6, 9, 2, 7, 5, 3, 2, 9, 7, 0, 2, 9, 3, 4, 1, 7, 9, 5, 8, 9, 7, 3, 4, 0, 9, 7, 4, 2, 4, 7, 0, 1, 8, 1, 0, 4, 6, 1, 9, 9, 2, 1, 2, 5, 6, 9, 7, 7, 3, 4, 2, 0, 2, 5, 6, 7, 3, 7, 9, 4, 2, 0, 6, 1, 7, 5, 6, 5, 3, 9, 2, 7, 8, 5, 9, 5, 8, 5, 4, 3, 7, 9, 8, 1, 2, 2, 8, 9, 3, 0, 8, 4, 0, 2, 0, 1, 4, 1, 8, 5, 5, 7, 9, 8, 3, 7, 9, 1, 5, 6, 9, 8, 7, 2, 0, 9, 0, 8, 5, 9, 4, 2, 9, 8, 1, 9, 1, 8, 3, 7, 6, 4, 2, 3, 7, 0, 3, 5, 8, 8, 8, 7, 9, 6, 2, 7, 4, 5, 7, 6, 7, 1, 7, 3, 6, 8, 2, 6, 6, 7, 1, 5, 9, 7, 1, 7, 0, 1, 6, 3, 3, 9, 0, 1, 2, 3, 2, 2, 5, 4, 9, 8, 7, 4, 4, 9, 7, 6, 7, 7, 1, 2, 3, 5, 1, 9, 0, 3, 3, 1, 5, 6, 6, 2, 4, 6, 8, 8, 9, 6, 6, 1, 0, 7, 5, 8, 2, 1, 5, 8, 1, 4, 7, 5, 0, 3, 9, 9, 5, 2, 8, 4, 1, 9, 0, 4, 4, 8, 2, 9, 0, 7, 9, 8, 7, 1, 3, 2, 9, 9, 5, 9, 7, 6, 7, 7, 1, 1, 2, 4, 2, 0, 6, 8, 7, 6, 2, 2, 9, 8, 2, 4, 2, 0, 5, 8, 6, 8, 2, 7, 7, 3, 1, 8, 1, 6, 5, 9, 7, 8, 9, 6, 4, 8, 1, 9, 4, 0, 4, 1, 4, 3, 6, 2, 2, 7, 0, 0, 7, 0, 7, 4, 3, 6, 7, 7, 4, 5, 4, 3, 5, 5, 4, 7, 1, 0, 7, 7, 1, 6, 5, 0, 7, 7, 4, 6, 1, 8, 5, 9, 3, 5, 6, 2, 2, 7, 3, 5, 8, 1, 0, 6, 8, 7, 8, 8, 5, 7, 5, 4, 9, 7, 3, 3, 8, 8, 3, 9, 4, 7, 2, 0, 8, 0, 7, 3, 3, 2, 5, 2, 4, 4, 0, 4, 8, 2, 4, 0, 6, 4, 5, 6, 0, 8, 8, 0, 6, 1, 1, 6, 1, 4, 2, 1, 1, 2, 4, 4, 5, 5, 8, 8, 5, 1, 8, 2, 3, 3, 9, 6, 6, 5, 0, 7, 3, 3, 2, 7, 4, 5, 6, 0, 2, 1, 8, 1, 0, 9, 3, 1, 0, 5, 4, 2, 3, 3, 6, 7, 6, 0, 0, 5, 7, 4, 7, 7, 0, 6, 1, 3, 9, 0, 9, 0, 3, 8, 4, 8, 8, 4, 1, 0, 2, 2, 4, 1, 1, 2, 4, 3, 4, 1, 4, 7, 1, 0, 0, 9, 0, 4, 2, 8, 8, 5, 5, 0, 4, 0, 8, 6, 2, 5, 9, 2, 9, 1, 1, 5, 4, 7, 5, 8, 6, 2, 1, 5, 5, 3, 4, 1, 8, 9, 9, 8, 9, 8, 6, 8, 5, 8, 9, 4, 6, 2, 6, 3, 7, 4, 0, 0, 1, 7, 5, 1, 5, 9, 3, 1, 6, 8, 7, 3, 6, 9, 1, 2, 0, 1, 7, 2, 6, 1, 9, 0, 0, 8, 9, 9, 2, 8, 6, 2, 5, 6, 0, 3, 3, 0, 7, 4, 7, 5, 0, 1, 6, 8, 8, 1, 2, 1, 5, 4, 5, 9, 6, 7, 1, 0, 6, 9, 2, 7, 7, 3, 9, 9, 1, 9, 7, 0, 1, 3, 5, 4, 6, 3, 8, 8, 0, 4, 8, 3, 6, 7, 0, 0, 4, 5, 2, 6, 8, 4, 9, 9, 9, 2, 0, 4, 2, 8, 1, 1, 0, 0, 3, 7, 4, 1, 1, 9, 7, 7, 4, 6, 8, 6, 0, 2, 8, 5, 3, 5, 3, 5, 7, 9, 8, 4, 4, 3, 1, 4, 8, 3, 6, 5, 3, 0, 8, 9, 5, 7, 6, 2, 0, 4, 9, 9, 0, 5, 2, 3, 6, 1, 1, 0, 2, 8, 2, 1, 1, 7, 5, 2, 3, 4, 1, 2, 9, 2, 1, 3, 4, 8, 9, 0, 0, 4, 9, 0, 2, 2, 0, 6, 8, 7, 3, 3, 8, 9, 0, 2, 5, 3, 6, 1, 3, 9, 5, 0, 5, 4, 4, 0, 1, 1, 6, 1, 7, 9, 9, 6, 2, 4, 3, 8, 3, 4, 7, 0, 2, 8, 4, 8, 3, 8, 8, 8, 3, 3, 5, 7, 7, 0, 4, 1, 5, 9, 7, 0, 6, 8, 4, 9, 0, 1, 8, 9, 6, 3, 9, 2, 4, 4, 0, 3, 3, 5, 4, 5, 1, 1, 8, 2, 2, 9, 3, 7, 8, 9, 2, 3, 1, 7, 3, 2, 3, 0, 1, 9, 5, 5, 3, 4, 5, 2, 0, 0, 3, 1, 3, 4, 7, 4, 2, 8, 4, 8, 9, 9, 4, 2, 4, 3, 6, 4, 6, 4, 6, 6, 3, 8, 7, 4, 8, 0, 5, 9, 3, 9, 0, 7, 5, 1, 9, 7, 9, 1, 8, 4, 2, 1, 6, 4, 3, 0, 1, 4, 8, 6, 1, 7, 1, 3, 5, 4, 3, 3, 9, 7, 8, 2, 5, 5, 4, 5, 4, 5, 7, 2, 5, 5, 1, 7, 7, 8, 3, 6, 0, 2, 5, 2, 3, 7, 4, 2, 1, 6, 8, 6, 8, 3, 2, 7, 7, 9, 7, 1, 4, 7, 4, 6, 1, 7, 3, 0, 0, 6, 6, 8, 6, 6, 0, 3, 4, 7, 4, 9, 4, 9, 9, 3, 4, 1, 4, 0, 3, 7, 1, 2, 2, 8, 4, 7, 8, 5, 5, 6, 5, 6, 0, 6, 4, 9, 3, 2, 7, 3, 8, 3, 9, 4, 1, 6, 9, 9, 4, 3, 9, 8, 1, 6, 9, 5, 9, 0, 9, 7, 2, 2, 4, 2, 6, 4, 8, 1, 9, 5, 6, 5, 1, 8, 6, 6, 7, 6, 5, 0, 2, 7, 6, 1, 2, 3, 1, 6, 4, 9, 0, 3, 9, 1, 0, 5, 3, 1, 6, 9, 8, 9, 0, 6, 1, 6, 2, 3, 5, 6, 9, 0, 7, 2, 4, 0, 3, 6, 8, 6, 9, 1, 9, 0, 6, 4, 5, 9, 5, 4, 1, 9, 2, 0, 7, 3, 5, 1, 8, 3, 0, 5, 2, 8, 8, 3, 9, 6, 0, 3, 5, 3, 4, 1, 5, 0, 7, 3, 9, 4, 5, 3, 1, 4, 2, 4, 9, 9, 7, 1, 7, 0, 1, 2, 1, 5, 3, 8, 4, 1, 5, 1, 9, 9, 7, 0, 1, 7, 6, 2, 6, 5, 0, 3, 1, 3, 8, 9, 9, 0, 8, 8, 7, 9, 2, 9, 1, 3, 6, 7, 6, 0, 8, 6, 2, 4, 2, 3, 5, 5, 4, 1, 6, 7, 1, 6, 1, 7, 1, 6, 2, 3, 0, 4, 2, 9, 7, 5, 5, 6, 0, 8, 8, 1, 1, 3, 5, 6, 5, 3, 8, 7, 5, 0, 7, 7, 5, 7, 1, 9, 9, 1, 9, 9, 3, 5, 5, 3, 0, 3, 0, 6, 6, 5, 6, 8, 9, 4, 5, 1, 1, 2, 7, 9, 0, 1, 2, 5, 4, 4, 7, 4, 8, 3, 3, 5, 3, 5, 7, 0, 1, 2, 9, 8, 1, 7, 3, 5, 9, 1, 9, 1, 1, 3, 6, 7, 4, 8, 3, 5, 6, 7, 0, 1, 7, 7, 2, 3, 3, 5, 1, 7, 6, 8, 4, 4, 5, 7, 3, 4, 7, 7, 3, 6, 0, 7, 2, 6, 7, 4, 1, 8, 0, 2, 2, 1, 5, 4, 0, 9, 3, 4, 4, 2, 3, 8, 5, 0, 0, 4, 6, 3, 9, 2, 0, 5, 7, 5, 5, 1, 7, 3, 1, 6, 7, 9, 0, 1, 2, 1, 4, 6, 1, 5, 9, 5, 0, 4, 9, 4, 9, 7, 1, 6, 8, 0, 6, 5, 0, 8, 1, 7, 5, 6, 9, 3, 2, 3, 9, 8, 6, 1, 0, 9, 0, 9, 8, 7, 7, 5, 2, 3, 5, 5, 7, 8, 7, 6, 9, 1, 9, 8, 6, 5, 6, 7, 5, 6, 7, 2, 5, 9, 6, 6, 7, 0, 1, 0, 1, 3, 2, 5, 6, 1, 2, 5, 1, 9, 9, 8, 6, 8, 6, 8, 9, 0, 4, 0, 3, 3, 6, 4, 9, 9, 7, 2, 3, 5, 6, 4, 6, 0, 3, 7, 5, 0, 2, 9, 2, 7, 2, 9, 2, 4, 0, 6, 6, 3, 4, 5, 5, 9, 1, 1, 4, 4, 3, 5, 4, 8, 0, 0, 3, 9, 4, 7, 4, 2, 8, 3, 6, 3, 1, 9, 6, 3, 8, 3, 8, 4, 7, 5, 7, 5, 3, 1, 2, 6, 1, 3, 2, 0, 7, 5, 0, 0, 0, 1, 4, 3, 5, 8, 4, 3, 1, 7, 1, 0, 4, 2, 4, 1, 4, 0, 1, 2, 1, 7, 7, 9, 8, 7, 5, 4, 0, 9, 0, 0, 8, 2, 0, 0, 2, 4, 8, 6, 2, 4, 6, 3, 5, 1, 5, 3, 7, 2, 2, 9, 8, 0, 0, 0, 3, 4, 4, 6, 1, 6, 7, 4, 4, 3, 9, 4, 0, 8, 0, 4, 6, 5, 7, 9, 7, 0, 5, 7, 7, 3, 1, 9, 3, 0, 9, 5, 3, 7, 9, 4, 4, 1, 7, 7, 1, 4, 1, 2, 8, 7, 0, 0, 4, 7, 2, 9, 7, 6, 9, 3, 5, 8, 0, 3, 6, 8, 3, 2, 4, 7, 1, 1, 3, 9, 7, 5, 1, 0, 8, 7, 0, 1, 6, 9, 3, 2, 7, 7, 8, 1, 0, 3, 4, 6, 7, 5, 2, 0, 1, 5, 5, 1, 4, 1, 3, 0, 8, 6, 2, 1, 3, 6, 4, 1, 9, 0, 4, 1, 0, 1, 9, 8, 6, 9, 2, 4, 7, 2, 2, 7, 4, 9, 1, 3, 2, 6, 3, 4, 4, 9, 4, 8, 2, 6, 6, 1, 6, 3, 6, 5, 8, 4, 6, 7, 1, 9, 3, 6, 7, 6, 0, 7, 1, 9, 5, 2, 6, 7, 7, 6, 5, 9, 1, 5, 6, 0, 2, 0, 9, 1, 8, 3, 5, 0, 0, 0, 5, 7, 7, 8, 5, 5, 5, 1, 6, 1, 5, 1, 0, 6, 2, 3, 2, 1, 7, 5, 1, 9, 8, 3, 6, 9, 7, 3, 0, 2, 3, 9, 4, 4, 3, 9, 6, 8, 6, 6, 8, 5, 4, 3, 6, 7, 7, 4, 3, 9, 6, 2, 4, 0, 1, 3, 6, 4, 9, 2, 6, 0, 3, 8, 7, 5, 3, 3, 8, 3, 2, 6, 3, 6, 2, 7, 4, 5, 7, 9, 0, 0, 6, 7, 2, 8, 5, 5, 7, 5, 5, 9, 4, 6, 4, 7, 3, 3, 6, 4, 1, 6, 3, 1, 6, 7, 0, 5, 0, 1, 9, 7, 3, 5, 2, 3, 9, 5, 6, 4, 0, 0, 0, 8, 0, 3, 2, 4, 5, 3, 7, 9, 6, 9, 3, 1, 2, 6, 7, 4, 5, 1, 3, 7, 6, 9, 5, 8, 5, 8, 5, 8, 5, 6, 5, 0, 8, 3, 8, 1, 8, 1, 5, 0, 9, 8, 6, 3, 6, 3, 4, 4, 7, 4, 7, 4, 3, 2, 4, 5, 5, 7, 5, 4, 5, 8, 0, 5, 4, 0, 5, 4, 3, 3, 2, 4, 2, 9, 4, 8, 8, 6, 2, 6, 1, 7, 0, 4, 3, 8, 5, 9, 7, 6, 7, 1, 0, 2, 3, 5, 6, 7, 1, 6, 2, 8, 3, 7, 2, 5, 7, 5, 7, 7, 1, 7, 4, 3, 3, 4, 0, 4, 2, 7, 0, 2, 2, 6, 6, 2, 5, 2, 6, 0, 6, 1, 2, 9, 0, 0, 1, 5, 5, 1, 6, 7, 8, 5, 6, 3, 3, 6, 0, 9, 9, 2, 2, 6, 1, 4, 6, 2, 5, 7, 8, 8, 5, 6, 4, 3, 2, 3, 4, 4, 4, 8, 9, 2, 6, 0, 9, 7, 9, 8, 7, 7, 3, 8, 2, 9, 3, 5, 7, 5, 8, 7, 3, 7, 0, 7, 1, 6, 2, 4, 0, 0, 2, 9, 8, 2, 8, 7, 7, 5, 5, 0, 1, 2, 9, 6, 1, 0, 1, 0, 6, 5, 0, 5, 7, 4, 4, 8, 3, 5, 3, 7, 2, 5, 8, 3, 5, 7, 3, 7, 0, 5, 4, 5, 6, 9, 3, 5, 3, 8, 2, 4, 2, 2, 6, 7, 6, 0, 5, 5, 8, 4, 5, 6, 1, 3, 5, 4, 7, 3, 0, 7, 2, 0, 1, 2, 4, 9, 6, 4, 5, 9, 7, 7, 6, 7, 4, 3, 1, 6, 9, 4, 8, 0, 3, 1, 6, 4, 4, 2, 1, 4, 6, 3, 0, 8, 9, 7, 6, 8, 4, 8, 1, 4, 5, 9, 4, 7, 1, 4, 5, 3, 1, 2, 6, 4, 7, 1, 5, 9, 3, 1, 4, 8, 7, 7, 0, 4, 3, 4, 6, 7, 7, 5, 4, 4, 4, 3, 6, 6, 1, 9, 9, 7, 9, 4, 3, 2, 9, 8, 5, 0, 6, 9, 0, 9, 7, 8, 5, 4, 4, 9, 4, 2, 6, 6, 9, 9, 7, 9, 9, 0, 5, 1, 1, 8, 6, 9, 9, 5, 6, 5, 5, 9, 7, 9, 4, 5, 4, 3, 3, 9, 8, 8, 3, 4, 8, 4, 0, 4, 0, 7, 2, 8, 0, 2, 0, 7, 4, 0, 6, 3, 3, 1, 7, 4, 6, 5, 0, 4, 9, 5, 6, 6, 3, 0, 5, 2, 6, 3, 3, 8, 0, 8, 5, 4, 2, 9, 5, 0, 5, 4, 8, 2, 7, 6, 5, 7, 8, 2, 0, 1, 8, 2, 4, 8, 4, 3, 0, 4, 0, 1, 9, 3, 0, 3, 6, 5, 5, 2, 8, 5, 0, 8, 7, 5, 2, 4, 3, 7, 0, 2, 3, 1, 0, 0, 2, 1, 2, 1, 4, 6, 7, 1, 0, 5, 2, 5, 9, 2, 5, 6, 7, 1, 9, 3, 6, 1, 0, 2, 9, 4, 2, 9, 3, 8, 2, 9, 8, 5, 1, 0, 1, 5, 2, 5, 6, 8, 8, 3, 5, 0, 4, 1, 3, 7, 0, 3, 3, 9, 2, 3, 9, 9, 8, 5, 9, 7, 2, 0, 9, 4, 7, 1, 7, 6, 4, 4, 8, 9, 0, 7, 1, 2, 4, 0, 3, 7, 5, 1, 9, 3, 5, 2, 4, 1, 1, 3, 3, 9, 2, 5, 8, 0, 8, 1, 5, 1, 5, 9, 0, 9, 2, 4, 0, 6, 9, 1, 1, 3, 4, 9, 5, 3, 3, 3, 3, 4, 1, 5, 9, 8, 7, 4, 8, 7, 3, 5, 2, 5, 8, 9, 7, 2, 0, 0, 7, 5, 3, 5, 7, 4, 6, 2, 8, 2, 7, 7, 6, 1, 3, 8, 6, 2, 0, 4, 4, 8, 6, 4, 0, 2, 5, 4, 1, 2, 5, 4, 6, 9, 5, 0, 5, 2, 0, 8, 2, 6, 4, 7, 9, 5, 7, 2, 6, 2, 1, 9, 9, 7, 2, 5, 1, 8, 1, 6, 3, 0, 8, 8, 5, 6, 9, 9, 9, 6, 3, 0, 8, 8, 5, 3, 3, 1, 1, 0, 7, 0, 6, 0, 4, 4, 6, 5, 3, 2, 9, 6, 6, 7, 9, 7, 7, 0, 8, 4, 2, 7, 7, 7, 4, 0, 1, 6, 0, 5, 3, 0, 2, 4, 9, 7, 3, 3, 2, 8, 8, 5, 3, 8, 0, 8, 0, 0, 0, 2, 2, 7, 0, 7, 7, 7, 2, 2, 0, 4, 0, 3, 7, 8, 4, 7, 9, 6, 1, 1, 6, 9, 3, 8, 9, 5, 8, 3, 9, 4, 3, 7, 5, 5, 2, 7, 5, 7, 9, 6, 3, 0, 8, 4, 5, 6, 1, 0, 4, 8, 4, 7, 1, 3, 2, 0, 9, 1, 8, 8, 6, 8, 1, 7, 1, 0, 9, 7, 6, 4, 5, 8, 2, 1, 2, 5, 8, 1, 1, 8, 8, 0, 9, 0, 0, 4, 3, 3, 5, 6, 6, 3, 1, 4, 4, 7, 8, 0, 1, 4, 8, 4, 6, 2, 2, 2, 6, 3, 4, 0, 8, 1, 3, 8, 3, 8, 9, 1, 6, 1, 9, 8, 2, 0, 4, 7, 4, 0, 0, 7, 6, 8, 9, 8, 6, 2, 8, 8, 0, 1, 1, 0, 7, 7, 4, 4, 7, 7, 2, 6, 6, 7, 4, 5, 4, 0, 9, 4, 7, 2, 5, 3, 2, 2, 7, 6, 2, 6, 4, 9, 6, 8, 3, 8, 5, 5, 2, 3, 4, 5, 2, 7, 5, 1, 5, 3, 7, 8, 8, 9, 6, 0, 9, 2, 6, 0, 0, 1, 4, 1, 3, 5, 1, 8, 9, 6, 2, 6, 9, 5, 6, 5, 9, 1, 4, 2, 8, 9, 5, 4, 7, 0, 3, 7, 1, 6, 9, 1, 1, 4, 0, 5, 1, 6, 3, 0, 2, 5, 5, 5, 2, 8, 2, 3, 1, 6, 2, 7, 0, 8, 9, 2, 6, 4, 7, 5, 5, 8, 8, 7, 8, 5, 7, 4, 4, 0, 0, 7, 0, 4, 0, 4, 4, 2, 5, 4, 0, 7, 7, 7, 0, 4, 6, 2, 9, 1, 1, 5, 0, 9, 1, 0, 6, 5, 3, 0, 9, 0, 6, 2, 0, 4, 1, 6, 7, 6, 1, 0, 4, 6, 0, 4, 4, 2, 7, 6, 5, 3, 5, 9, 4, 5, 2, 0, 5, 7, 2, 3, 9, 4, 5, 8, 1, 9, 3, 1, 8, 5, 8, 6, 6, 3, 4, 0, 2, 3, 2, 6, 1, 8, 2, 1, 3, 6, 2, 2, 3, 3, 5, 0, 2, 1, 2, 8, 0, 8, 2, 2, 7, 3, 5, 9, 8, 3, 6, 1, 0, 8, 6, 3, 5, 8, 9, 4, 8, 0, 0, 2, 9, 1, 8, 3, 7, 2, 8, 0, 9, 4, 8, 9, 4, 8, 9, 5, 4, 8, 1, 5, 5, 7, 2, 5, 8, 8, 1, 2, 3, 1, 5, 0, 2, 3, 0, 8, 2, 2, 8, 7, 3, 5, 3, 9, 6, 3, 5, 1, 1, 7, 7, 3, 3, 8, 9, 6, 0, 8, 0, 6, 6, 4, 6, 9, 1, 1, 7, 0, 6, 8, 9, 0, 6, 9, 0, 1, 1, 7, 2, 1, 0, 4, 5, 0, 3, 6, 3, 3, 8, 1, 8, 1, 3, 1, 5, 4, 5, 1, 8, 9, 1, 3, 1, 7, 2, 9, 8, 9, 4, 6, 0, 9, 4, 0, 4, 6, 2, 1, 3, 0, 8, 5, 6, 0, 3, 4, 6, 9, 5, 7, 9, 0, 3, 6, 5, 7, 0, 5, 1, 2, 2, 9, 7, 0, 0, 1, 4, 4, 5, 5, 9, 6, 3, 6, 2, 6, 9, 3, 2, 3, 2, 4, 9, 5, 2, 1, 6, 6, 4, 7, 6, 3, 3, 8, 1, 4, 6, 4, 4, 5, 6, 2, 0, 5, 2, 7, 5, 2, 5, 2, 5, 9, 0, 6, 7, 9, 8, 3, 2, 1, 4, 3, 4, 5, 5, 6, 8, 6, 0, 8, 9, 8, 0, 7, 7, 6, 6, 7, 5, 9, 8, 7, 9, 5, 6, 0, 4, 8, 2, 0, 9, 1, 3, 9, 8, 3, 7, 4, 5, 0, 2, 1, 9, 1, 0, 5, 8, 4, 7, 3, 1, 4, 5, 3, 1, 0, 8, 8, 8, 2, 1, 3, 7, 3, 1, 6, 9, 1, 6, 0, 7, 7, 1, 3, 3, 3, 1, 0, 2, 7, 1, 2, 2, 9, 6, 3, 5, 9, 4, 8, 0, 4, 8, 0, 1, 3, 7, 0, 4, 7, 4, 8, 6, 4, 3, 9, 8, 2, 2, 8, 3, 1, 1, 2, 8, 2, 6, 9, 4, 8, 4, 4, 1, 5, 2, 6, 9, 2, 0, 7, 1, 8, 9, 3, 9, 9, 0, 7, 7, 5, 4, 2, 6, 4, 5, 7, 7, 8, 7, 2, 6, 2, 2, 4, 4, 0, 7, 1, 3, 9, 6, 0, 0, 2, 3, 8, 2, 2, 4, 3, 5, 2, 9, 1, 0, 0, 6, 5, 5, 7, 9, 9, 6, 5, 5, 0, 5, 7, 1, 6, 6, 4, 1, 4, 4, 1, 5, 0, 0, 4, 5, 8, 4, 8, 3, 0, 5, 0, 5, 3, 1, 6, 7, 0, 9, 1, 5, 7, 6, 5, 5, 5, 6, 0, 0, 1, 7, 5, 1, 9, 2, 4, 1, 3, 7, 8, 2, 0, 9, 6, 6, 0, 6, 5, 8, 2, 7, 4, 0, 2, 7, 7, 8, 8, 7, 0, 4, 9, 1, 4, 4, 3, 5, 4, 6, 2, 3, 1, 0, 3, 3, 3, 6, 3, 1, 2, 8, 9, 7, 9, 3, 8, 7, 3, 1, 7, 7, 3, 2, 2, 8, 9, 5, 9, 2, 1, 7, 4, 4, 0, 5, 7, 1, 5, 4, 0, 8, 4, 9, 8, 7, 8, 4, 2, 3, 4, 0, 5, 4, 1, 8, 2, 5, 4, 5, 2, 5, 3, 7, 9, 7, 1, 4, 1, 3, 1, 4, 5, 5, 1, 7, 1, 3, 0, 1, 2, 5, 7, 0, 6, 3, 5, 7, 5, 5, 8, 9, 4, 6, 3, 6, 6, 8, 2, 6, 4, 8, 4, 1, 3, 1, 2, 3, 3, 0, 1, 6, 4, 2, 8, 2, 4, 3, 1, 4, 4, 4, 4, 1, 5, 5, 7, 6, 5, 4, 5, 6, 5, 6, 2, 4, 7, 7, 4, 6, 5, 0, 2, 3, 9, 2, 3, 8, 0, 7, 0, 6, 8, 1, 2, 8, 9, 1, 5, 4, 2, 3, 5, 5, 3, 6, 5, 0, 3, 2, 1, 3, 3, 7, 7, 4, 9, 4, 3, 9, 5, 1, 7, 6, 6, 4, 8, 5, 1, 2, 8, 4, 5, 3, 3, 3, 0, 4, 8, 7, 7, 9, 4, 8, 4, 5, 9, 1, 8, 3, 1, 3, 8, 0, 3, 5, 4, 6, 9, 2, 7, 2, 0, 5, 2, 9, 7, 5, 0, 7, 0, 3, 5, 5, 3, 8, 7, 7, 9, 6, 5, 8, 9, 0, 1, 9, 4, 0, 0, 1, 7, 2, 2, 8, 5, 9, 8, 2, 8, 0, 6, 6, 8, 6, 9, 6, 1, 1, 5, 3, 5, 0, 7, 6, 1, 4, 4, 1, 1, 8, 1, 1, 2, 3, 4, 9, 9, 5, 2, 7, 3, 3, 6, 9, 6, 9, 8, 8, 6, 7, 4, 7, 2, 3, 8, 0, 9, 0, 7, 8, 1, 2, 3, 2, 4, 2, 9, 0, 3, 8, 9, 6, 5, 5, 2, 4, 1, 0, 6, 1, 8, 4, 5, 5, 5, 0, 8, 9, 0, 5, 7, 9, 6, 3, 4, 6, 4, 9, 7, 1, 2, 5, 2, 8, 0, 2, 2, 9, 8, 1, 9, 7, 7, 3, 1, 4, 1, 1, 3, 8, 8, 1, 9, 3, 8, 9, 5, 1, 1, 6, 2, 7, 2, 6, 2, 6, 9, 6, 0, 1, 3, 9, 3, 8, 8, 8, 2, 9, 1, 2, 6, 0, 5, 0, 7, 7, 7, 9, 4, 5, 0, 2, 3, 5, 5, 8, 9, 1, 2, 7, 1, 3, 4, 6, 9, 1, 0, 7, 1, 9, 5, 8, 1, 9, 9, 7, 9, 8, 3, 0, 2, 6, 0, 2, 2, 4, 0, 8, 4, 8, 1, 2, 7, 2, 7, 9, 5, 2, 2, 9, 2, 6, 5, 7, 2, 5, 6, 5, 1, 8, 2, 6, 8, 6, 3, 0, 8, 0, 0, 9, 9, 6, 8, 0, 6, 6, 0, 7, 9, 8, 0, 5, 0, 9, 6, 0, 4, 7, 1, 7, 8, 8, 2, 3, 9, 6, 5, 5, 3, 1, 5, 3, 0, 2, 5, 2, 7, 3, 8, 4, 4, 6, 1, 9, 4, 1, 7, 0, 1, 4, 3, 0, 2, 9, 4, 5, 0, 3, 4, 7, 2, 3, 0, 1, 3, 7, 9, 9, 0, 7, 5, 6, 7, 1, 2, 2, 7, 4, 6, 8, 4, 9, 8, 4, 9, 2, 3, 4, 0, 2, 5, 6, 0, 5, 3, 5, 8, 3, 7, 4, 9, 5, 6, 3, 8, 6, 9, 8, 5, 5, 8, 3, 5, 9, 0, 4, 2, 0, 5, 9, 9, 3, 8, 0, 6, 0, 2, 3, 7, 0, 0, 6, 9, 1, 5, 2, 2, 7, 9, 3, 9, 3, 5, 2, 2, 2, 8, 8, 5, 0, 0, 7, 0, 3, 1, 6, 5, 0, 9, 2, 6, 7, 4, 2, 0, 0, 5, 3, 3, 2, 6, 4, 2, 7, 8, 0, 1, 0, 1, 3, 6, 4, 8, 0, 6, 0, 9, 1, 6, 2, 1, 0, 1, 3, 0, 3, 7, 9, 9, 3, 7, 5, 7, 1, 6, 6, 1, 1, 1, 4, 4, 2, 1, 7, 0, 1, 2, 1, 1, 3, 2, 6, 9, 1, 3, 2, 0, 8, 7, 3, 4, 6, 4, 6, 9, 4, 8, 9, 3, 0, 5, 7, 2, 0, 2, 9, 9, 3, 8, 7, 1, 1, 2, 2, 2, 5, 9, 1, 2, 6, 1, 2, 1, 8, 9, 2, 3, 1, 9, 9, 4, 4, 5, 5, 0, 3, 3, 7, 1, 7, 7, 9, 8, 6, 3, 5, 5, 1, 6, 2, 7, 8, 4, 3, 3, 5, 9, 6, 8, 5, 1, 0, 6, 7, 0, 9, 6, 2, 0, 8, 7, 1, 2, 6, 9, 1, 6, 4, 7, 1, 9, 0, 0, 5, 2, 8, 3, 8, 2, 8, 4, 0, 8, 3, 6, 1, 2, 3, 0, 5, 0, 4, 1, 7, 2, 0, 1, 3, 9, 1, 6, 1, 6, 1, 2, 8, 7, 0, 9, 5, 8, 0, 0, 1, 7, 9, 7, 1, 9, 2, 1, 9, 4, 3, 6, 0, 2, 0, 0, 9, 9, 8, 9, 4, 5, 4, 3, 0, 7, 8, 7, 3, 7, 5, 4, 6, 5, 9, 5, 2, 4, 2, 7, 9, 6, 7, 4, 7, 1, 2, 3, 1, 1, 3, 6, 8, 3, 7, 7, 0, 8, 1, 5, 2, 5, 5, 3, 6, 3, 5, 9, 8, 4, 6, 8, 0, 4, 1, 7, 8, 4, 9, 7, 2, 6, 3, 8, 8, 6, 7, 3, 8, 1, 1, 5, 3, 7, 9, 9, 9, 8, 5, 9, 9, 6, 8, 8, 4, 8, 1, 0, 1, 8, 8, 6, 5, 9, 0, 6, 1, 2, 6, 6, 3, 5, 6, 5, 5, 3, 3, 6, 8, 9, 4, 4, 3, 8, 3, 6, 0, 8, 5, 7, 8, 4, 6, 5, 3, 1, 8, 3, 0, 4, 4, 3, 3, 5, 3, 3, 2, 7, 7, 8, 2, 0, 5, 5, 6, 1, 1, 3, 9, 9, 3, 6, 7, 1, 8, 3, 9, 8, 7, 8, 8, 0, 3, 2, 4, 8, 7, 5, 7, 1, 8, 7, 3, 5, 4, 4, 3, 8, 6, 1, 1, 6, 3, 2, 2, 8, 9, 8, 3, 3, 8, 1, 1, 0, 5, 2, 0, 5, 0, 5, 8, 6, 3, 9, 6, 6, 3, 9, 4, 8, 3, 4, 3, 1, 1, 2, 9, 7, 8, 5, 5, 8, 6, 9, 0, 8, 3, 5, 1, 3, 3, 5, 5, 3, 8, 1, 4, 6, 4, 2, 4, 3, 8, 9, 6, 6, 6, 5, 5, 2, 7, 7, 4, 4, 9, 3, 8, 3, 7, 7, 8, 5, 3, 9, 1, 6, 7, 3, 3, 3, 8, 5, 6, 1, 3, 7, 9, 6, 1, 6, 4, 9, 0, 5, 7, 4, 9, 1, 0, 0, 2, 7, 8, 3, 2, 7, 6, 1, 6, 6, 4, 4, 2, 1, 8, 4, 4, 7, 8, 5, 8, 9, 4, 3, 2, 2, 9, 3, 0, 1, 1, 1, 1, 6, 8, 7, 1, 3, 0, 4, 5, 0, 3, 0, 6, 2, 0, 9, 8, 6, 8, 5, 8, 2, 9, 6, 0, 6, 1, 8, 7, 3, 2, 2, 6, 5, 6, 9, 2, 5, 4, 9, 8, 5, 3, 9, 3, 5, 7, 1, 8, 5, 8, 6, 2, 5, 1, 3, 0, 4, 1, 9, 5, 4, 9, 2, 1, 4, 2, 5, 9, 8, 7, 2, 1, 6, 9, 7, 3, 6, 5, 8, 0, 2, 2, 4, 9, 0, 5, 5, 4, 2, 3, 1, 0, 3, 0, 4, 4, 9, 1, 3, 3, 0, 2, 1, 1, 0, 4, 1, 9, 4, 8, 1, 1, 1, 5, 9, 8, 1, 6, 7, 2, 9, 9, 7, 8, 8, 1, 9, 7, 8, 9, 1, 6, 6, 3, 3, 1, 3, 0, 8, 8, 3, 6, 6, 7, 1, 0, 7, 6, 4, 8, 2, 0, 6, 6, 8, 6, 3, 1, 1, 8, 6, 7, 0, 5, 4, 3, 2, 1, 7, 8, 2, 0, 1, 7, 4, 8, 7, 6, 6, 7, 0, 6, 4, 9, 2, 3, 2, 1, 3, 8, 6, 8, 1, 9, 6, 7, 6, 5, 0, 6, 0, 1, 3, 1, 1, 5, 3, 4, 3, 3, 8, 1, 6, 6, 1, 8, 8, 6, 2, 7, 4, 6, 8, 9, 3, 3, 5, 5, 3, 1, 4, 1, 9, 5, 1, 7, 7, 7, 5, 2, 3, 3, 6, 6, 6, 4, 0, 7, 1, 7, 3, 0, 8, 1, 2, 4, 1, 2, 2, 4, 9, 8, 2, 8, 7, 6, 3, 4, 7, 2, 3, 1, 5, 3, 0, 4, 3, 4, 9, 4, 7, 9, 1, 7, 8, 3, 1, 8, 3, 2, 5, 7, 2, 7, 9, 6, 8, 6, 8, 6, 5, 9, 0, 4, 8, 5, 6, 4, 3, 8, 0, 4, 8, 6, 7, 2, 7, 1, 7, 4, 1, 2, 4, 2, 2, 8, 7, 2, 2, 6, 7, 5, 6, 8, 9, 9, 6, 5, 2, 9, 8, 7, 2, 3, 3, 7, 4, 3, 2, 1, 9, 0, 1, 5, 3, 2, 6, 5, 9, 1, 5, 4, 3, 6, 2, 8, 9, 7, 8, 0, 8, 9, 1, 2, 5, 7, 2, 0, 6, 6, 1, 6, 3, 1, 5, 0, 3, 7, 4, 6, 5, 6, 4, 8, 3, 4, 5, 5, 0, 6, 6, 7, 5, 0, 9, 9, 6, 1, 0, 4, 6, 3, 6, 9, 3, 6, 6, 8, 2, 1, 0, 1, 9, 3, 7, 4, 3, 0, 2, 7, 6, 4, 3, 0, 8, 2, 0, 0, 9, 6, 6, 6, 8, 7, 4, 1, 8, 1, 2, 2, 4, 8, 5, 2, 6, 5, 3, 9, 1, 0, 7, 2, 4, 4, 0, 0, 6, 2, 2, 4, 0, 5, 9, 7, 1, 8, 4, 5, 5, 9, 8, 5, 7, 8, 0, 9, 8, 9, 1, 6, 3, 8, 0, 3, 4, 4, 8, 4, 8, 9, 8, 6, 0, 0, 8, 2, 7, 4, 2, 5, 6, 0, 5, 8, 4, 1, 9, 0, 1, 4, 4, 8, 4, 9, 6, 0, 7, 7, 6, 8, 9, 6, 2, 0, 4, 9, 4, 9, 3, 9, 6, 6, 7, 0, 9, 7, 1, 8, 6, 0, 6, 7, 4, 1, 9, 4, 6, 7, 9, 8, 3, 9, 2, 1, 2, 7, 6, 1, 0, 0, 5, 6, 0, 4, 3, 2, 8, 8, 0, 6, 9, 5, 2, 8, 7, 0, 6, 5, 9, 7, 2, 3, 6, 9, 6, 2, 2, 4, 1, 0, 5, 0, 8, 9, 3, 5, 9, 3, 8, 1, 6, 3, 7, 5, 6, 2, 0, 2, 8, 2, 8, 7, 7, 8, 1, 0, 8, 9, 7, 0, 3, 8, 0, 5, 9, 5, 8, 4, 2, 0, 9, 2, 2, 4, 4, 9, 2, 2, 2, 5, 1, 3, 2, 0, 0, 4, 0, 6, 5, 8, 0, 5, 8, 6, 4, 8, 5, 2, 9, 7, 9, 7, 1, 0, 1, 9, 6, 9, 2, 7, 9, 4, 4, 0, 6, 2, 4, 1, 3, 7, 2, 8, 5, 9, 0, 3, 2, 3, 2, 7, 6, 3, 2, 5, 9, 0, 5, 9, 9, 8, 7, 7, 4, 8, 6, 5, 2, 3, 1, 0, 4, 1, 8, 8, 4, 9, 4, 4, 3, 3, 9, 2, 0, 1, 1, 8, 4, 4, 8, 3, 2, 9, 5, 7, 6, 2, 5, 4, 7, 3, 3, 9, 0, 1, 5, 9, 3, 7, 6, 0, 4, 2, 2, 5, 6, 3, 8, 9, 5, 6, 1, 4, 5, 4, 6, 7, 2, 1, 0, 2, 0, 4, 9, 8, 8, 9, 1, 1, 5, 0, 0, 8, 7, 1, 7, 4, 5, 4, 3, 3, 2, 0, 6, 6, 0, 1, 3, 9, 8, 3, 7, 8, 9, 4, 8, 9, 0, 9, 7, 1, 6, 2, 9, 5, 6, 9, 3, 9, 8, 7, 7, 1, 6, 5, 3, 1, 3, 1, 2, 7, 1, 8, 2, 0, 9, 7, 9, 8, 8, 6, 7, 3, 7, 1, 3, 9, 0, 9, 3, 6, 7, 2, 7, 3, 0, 5, 9, 7, 5, 5, 0, 6, 5, 1, 8, 2, 7, 5, 9, 0, 0, 0, 8, 8, 7, 3, 7, 8, 9, 3, 7, 9, 7, 8, 7, 9, 8, 5, 4, 8, 3, 7, 6, 3, 8, 2, 1, 9, 5, 7, 3, 9, 5, 5, 8, 7, 3, 5, 3, 5, 9, 7, 6, 7, 3, 6, 4, 3, 9, 4, 2, 1, 9, 6, 0, 2, 6, 7, 4, 7, 9, 0, 7, 4, 3, 5, 3, 1, 1, 2, 6, 8, 2, 1, 7, 8, 5, 9, 6, 1, 1, 5, 0, 6, 0, 9, 2, 6, 5, 8, 9, 5, 5, 6, 2, 9, 1, 5, 8, 8, 7, 1, 7, 3, 5, 4, 9, 7, 5, 2, 9, 9, 4, 7, 4, 1, 3, 8, 7, 9, 0, 4, 5, 7, 5, 2, 8, 7, 6, 9, 6, 9, 3, 8, 5, 6, 6, 9, 5, 7, 8, 0, 5, 0, 7, 4, 8, 2, 5, 1, 3, 2, 2, 6, 2, 1, 7, 4, 6, 3, 1, 3, 7, 2, 1, 3, 7, 0, 8, 4, 4, 5, 7, 9, 5, 4, 3, 9, 6, 8, 2, 3, 3, 1, 6, 1, 7, 0, 3, 4, 2, 9, 4, 5, 8, 2, 7, 0, 9, 6, 8, 0, 8, 2, 8, 5, 7, 7, 2, 2, 0, 0, 0, 7, 4, 1, 6, 6, 8, 8, 9, 0, 9, 0, 1, 3, 3, 0, 9, 6, 6, 2, 6, 3, 4, 0, 8, 4, 1, 4, 0, 6, 5, 0, 9, 9, 9, 9, 1, 2, 3, 5, 4, 2, 9, 6, 0, 9, 6, 6, 8, 0, 6, 1, 4, 6, 8, 0, 5, 4, 1, 2, 0, 9, 6, 4, 2, 4, 6, 5, 9, 7, 7, 4, 6, 5, 0, 1, 9, 0, 3, 1, 9, 0, 9, 7, 8, 6, 7, 6, 8, 2, 4, 5, 3, 0, 3, 2, 1, 7, 5, 9, 3, 4, 5, 7, 1, 5, 0, 1, 1, 1, 9, 7, 5, 4, 9, 7, 8, 1, 0, 2, 8, 5, 6, 7, 0, 1, 4, 8, 4, 4, 6, 6, 5, 8, 1, 8, 4, 6, 5, 9, 2, 2, 1, 4, 9, 1, 6, 7, 2, 0, 1, 7, 6, 5, 2, 2, 5, 6, 0, 9, 0, 1, 5, 3, 3, 5, 8, 7, 5, 6, 5, 8, 0, 5, 9, 4, 6, 5, 1, 1, 0, 3, 3, 9, 4, 8, 1, 7, 7, 9, 9, 4, 3, 6, 3, 2, 8, 2, 7, 6, 7, 0, 2, 1, 2, 9, 4, 6, 9, 6, 1, 0, 1, 8, 7, 0, 0, 4, 7, 4, 2, 6, 9, 5, 9, 0, 7, 4, 5, 8, 1, 4, 7, 9, 9, 8, 8, 6, 3, 7, 0, 8, 9, 6, 2, 4, 6, 2, 9, 7, 4, 6, 8, 5, 6, 1, 3, 5, 9, 9, 1, 3, 2, 0, 3, 0, 2, 0, 7, 3, 9, 3, 5, 7, 6, 5, 9, 5, 6, 1, 2, 4, 0, 2, 7, 8, 4, 4, 0, 9, 5, 9, 2, 9, 3, 2, 4, 3, 2, 2, 8, 8, 6, 8, 1, 6, 8, 9, 8, 2, 1, 4, 9, 1, 5, 7, 1, 6, 0, 1, 5, 2, 8, 1, 1, 3, 8, 1, 3, 1, 8, 5, 1, 9, 0, 3, 0, 4, 0, 5, 1, 2, 0, 4, 9, 5, 1, 2, 2, 7, 8, 7, 2, 4, 5, 3, 4, 0, 6, 1, 5, 9, 8, 0, 2, 0, 7, 6, 0, 5, 9, 7, 5, 0, 4, 6, 0, 6, 3, 6, 8, 1, 1, 8, 9, 7, 2, 9, 0, 2, 2, 9, 0, 6, 5, 7, 7, 9, 1, 7, 9, 8, 4, 5, 0, 8, 0, 2, 5, 2, 1, 4, 4, 8, 9, 7, 8, 3, 6, 6, 0, 1, 1, 1, 8, 1, 4, 4, 0, 7, 8, 2, 1, 2, 5, 4, 6, 0, 5, 7, 4, 4, 3, 9, 5, 8, 8, 0, 8, 7, 4, 1, 8, 4, 9, 5, 4, 1, 7, 7, 7, 7, 0, 3, 8, 3, 3, 0, 5, 7, 0, 8, 0, 0, 9, 2, 2, 3, 4, 8, 2, 2, 6, 3, 3, 6, 2, 9, 4, 0, 1, 7, 5, 5, 7, 3, 0, 4, 2, 0, 7, 5, 8, 0, 8, 2, 7, 0, 3, 5, 3, 8, 3, 5, 1, 7]\n",
            "Predicted Labels: [3, 8, 8, 8, 6, 6, 1, 6, 4, 1, 0, 9, 3, 7, 9, 6, 5, 7, 8, 6, 7, 0, 0, 1, 4, 2, 5, 2, 1, 6, 6, 4, 6, 5, 9, 3, 4, 1, 9, 5, 0, 6, 5, 5, 0, 9, 3, 9, 4, 4, 0, 8, 6, 6, 8, 8, 7, 3, 8, 5, 7, 5, 6, 3, 6, 6, 8, 2, 3, 1, 0, 4, 8, 8, 9, 4, 0, 3, 5, 8, 8, 1, 2, 0, 3, 9, 1, 0, 9, 9, 0, 4, 8, 6, 4, 6, 6, 0, 0, 7, 4, 5, 6, 5, 1, 1, 8, 6, 8, 7, 4, 8, 2, 6, 1, 2, 0, 7, 4, 7, 0, 5, 9, 2, 0, 2, 8, 5, 3, 0, 4, 1, 9, 1, 9, 3, 1, 7, 4, 8, 6, 2, 6, 5, 8, 2, 6, 7, 5, 2, 1, 9, 6, 0, 8, 3, 5, 9, 3, 4, 2, 1, 3, 6, 0, 7, 8, 4, 9, 4, 9, 0, 8, 8, 9, 9, 0, 7, 3, 0, 0, 5, 6, 4, 2, 8, 6, 5, 2, 0, 6, 8, 0, 1, 6, 2, 9, 8, 5, 8, 3, 9, 0, 7, 8, 5, 0, 2, 7, 0, 3, 0, 0, 7, 8, 3, 2, 1, 0, 6, 5, 3, 9, 5, 5, 1, 4, 2, 3, 3, 5, 9, 5, 0, 8, 0, 4, 9, 5, 5, 1, 3, 0, 9, 0, 5, 1, 0, 2, 1, 5, 3, 7, 1, 2, 8, 6, 8, 8, 9, 8, 1, 5, 3, 0, 8, 0, 4, 7, 0, 2, 4, 6, 3, 8, 5, 1, 6, 4, 7, 9, 1, 6, 1, 9, 9, 0, 8, 7, 9, 1, 2, 6, 1, 5, 2, 6, 0, 0, 6, 6, 6, 2, 0, 2, 0, 1, 2, 1, 2, 0, 6, 8, 0, 4, 7, 7, 7, 5, 5, 5, 3, 2, 4, 3, 1, 7, 5, 0, 6, 1, 9, 6, 6, 6, 1, 6, 0, 0, 0, 6, 6, 2, 5, 0, 5, 3, 6, 8, 9, 9, 1, 1, 0, 6, 6, 2, 2, 8, 0, 9, 5, 8, 0, 9, 0, 1, 3, 0, 8, 2, 0, 9, 4, 6, 7, 0, 4, 4, 6, 6, 9, 0, 0, 5, 0, 7, 5, 3, 5, 1, 0, 2, 5, 3, 6, 2, 1, 0, 9, 9, 8, 4, 8, 8, 6, 0, 0, 8, 4, 8, 8, 5, 6, 1, 9, 5, 6, 5, 9, 4, 5, 8, 0, 2, 8, 3, 5, 6, 7, 3, 5, 4, 5, 9, 3, 6, 4, 3, 1, 6, 6, 9, 8, 5, 4, 4, 0, 4, 2, 7, 1, 3, 5, 0, 2, 6, 5, 6, 0, 2, 6, 0, 5, 4, 4, 7, 4, 5, 0, 2, 7, 8, 0, 5, 7, 6, 1, 5, 7, 1, 6, 8, 5, 5, 0, 9, 9, 4, 0, 0, 0, 8, 8, 0, 8, 2, 2, 4, 0, 6, 6, 5, 4, 9, 2, 4, 9, 0, 4, 5, 6, 6, 9, 5, 3, 8, 0, 9, 8, 5, 9, 0, 1, 0, 4, 0, 0, 8, 6, 9, 8, 7, 5, 6, 6, 6, 2, 9, 1, 9, 7, 6, 7, 5, 9, 1, 6, 6, 5, 2, 5, 8, 3, 9, 9, 6, 3, 3, 2, 0, 7, 6, 4, 4, 5, 9, 3, 1, 6, 5, 7, 1, 1, 2, 6, 8, 8, 7, 5, 4, 8, 8, 4, 0, 9, 8, 4, 8, 9, 2, 1, 6, 6, 9, 8, 8, 7, 3, 5, 8, 5, 0, 2, 1, 6, 3, 5, 3, 1, 6, 0, 8, 8, 5, 1, 2, 9, 2, 0, 5, 7, 1, 0, 5, 9, 9, 4, 4, 1, 2, 5, 2, 2, 7, 6, 9, 8, 9, 0, 5, 6, 0, 7, 8, 0, 3, 4, 4, 5, 5, 1, 5, 2, 3, 2, 1, 3, 4, 1, 9, 4, 7, 2, 3, 0, 1, 0, 9, 2, 6, 5, 2, 6, 2, 8, 6, 9, 0, 2, 9, 6, 9, 0, 7, 4, 6, 6, 6, 6, 4, 2, 2, 7, 8, 2, 8, 2, 4, 5, 0, 0, 4, 0, 4, 4, 0, 3, 8, 8, 6, 8, 8, 7, 2, 2, 3, 9, 6, 8, 7, 8, 8, 1, 8, 0, 1, 5, 2, 5, 1, 8, 7, 9, 8, 2, 0, 0, 1, 5, 5, 7, 8, 7, 7, 4, 2, 6, 4, 5, 9, 0, 9, 1, 4, 4, 6, 8, 2, 1, 7, 2, 6, 0, 1, 2, 4, 9, 5, 7, 6, 9, 6, 6, 0, 2, 5, 6, 2, 6, 9, 1, 7, 6, 9, 0, 3, 9, 4, 8, 2, 0, 5, 2, 7, 7, 1, 4, 5, 4, 7, 1, 2, 7, 4, 4, 8, 4, 9, 4, 5, 3, 7, 5, 0, 8, 9, 4, 4, 2, 9, 4, 8, 8, 7, 4, 7, 6, 5, 0, 1, 4, 2, 5, 2, 1, 9, 4, 9, 2, 7, 0, 7, 2, 1, 1, 6, 0, 2, 4, 5, 9, 0, 1, 0, 9, 7, 8, 7, 8, 4, 6, 6, 2, 8, 1, 3, 5, 0, 0, 2, 1, 4, 2, 5, 8, 4, 2, 2, 7, 8, 6, 0, 0, 9, 0, 8, 1, 0, 6, 1, 6, 5, 3, 1, 1, 6, 4, 7, 5, 6, 4, 6, 5, 0, 0, 1, 6, 8, 8, 6, 5, 3, 5, 1, 1, 5, 0, 8, 4, 4, 1, 5, 7, 1, 3, 8, 2, 0, 8, 4, 2, 7, 5, 7, 0, 2, 0, 9, 8, 1, 9, 7, 6, 8, 5, 0, 1, 6, 8, 5, 9, 6, 8, 6, 7, 0, 3, 5, 8, 1, 2, 1, 6, 6, 3, 9, 9, 1, 1, 1, 4, 6, 1, 0, 0, 6, 0, 3, 1, 6, 8, 7, 4, 5, 8, 3, 1, 6, 0, 1, 3, 0, 2, 6, 5, 8, 1, 6, 8, 5, 8, 9, 4, 8, 1, 1, 0, 1, 2, 0, 8, 6, 1, 5, 4, 1, 6, 0, 0, 1, 7, 0, 0, 5, 3, 2, 0, 6, 6, 5, 0, 3, 2, 3, 6, 2, 8, 2, 2, 5, 5, 2, 4, 8, 5, 2, 9, 1, 7, 7, 6, 0, 3, 5, 5, 3, 7, 6, 8, 9, 8, 2, 4, 5, 3, 1, 2, 9, 6, 5, 6, 1, 7, 3, 8, 0, 0, 0, 7, 6, 6, 8, 4, 4, 7, 4, 6, 5, 6, 8, 8, 4, 8, 3, 6, 7, 5, 1, 2, 8, 8, 8, 8, 9, 4, 9, 7, 2, 8, 0, 8, 5, 8, 9, 1, 3, 5, 4, 7, 5, 3, 8, 5, 2, 6, 0, 0, 3, 0, 0, 9, 7, 2, 0, 6, 1, 8, 3, 8, 6, 1, 8, 6, 9, 6, 4, 4, 6, 1, 0, 2, 8, 9, 6, 9, 1, 7, 9, 0, 0, 8, 7, 5, 8, 0, 5, 4, 5, 1, 2, 9, 5, 3, 0, 7, 0, 1, 2, 3, 3, 6, 0, 8, 4, 0, 4, 8, 0, 2, 1, 1, 5, 4, 0, 2, 2, 0, 7, 9, 0, 7, 7, 0, 6, 0, 0, 8, 0, 7, 1, 6, 1, 0, 0, 7, 0, 5, 8, 5, 4, 9, 1, 0, 6, 6, 6, 5, 4, 1, 0, 1, 0, 4, 1, 4, 2, 0, 1, 3, 3, 0, 8, 8, 5, 6, 3, 8, 0, 6, 5, 7, 5, 0, 8, 4, 8, 2, 7, 8, 9, 1, 8, 8, 8, 1, 8, 4, 3, 5, 1, 8, 5, 6, 3, 5, 1, 3, 2, 0, 5, 8, 9, 5, 1, 7, 8, 9, 1, 6, 5, 0, 6, 6, 8, 0, 7, 0, 1, 9, 4, 1, 6, 2, 1, 9, 3, 0, 4, 6, 0, 8, 6, 1, 9, 0, 5, 1, 5, 0, 7, 2, 8, 0, 3, 2, 6, 6, 3, 4, 2, 0, 1, 4, 2, 0, 4, 2, 6, 3, 0, 4, 7, 0, 1, 2, 6, 8, 3, 8, 6, 7, 5, 4, 1, 3, 4, 8, 8, 9, 7, 9, 2, 0, 4, 0, 8, 4, 3, 8, 1, 1, 8, 5, 0, 4, 9, 8, 0, 4, 4, 6, 0, 8, 9, 5, 3, 9, 5, 4, 6, 4, 2, 6, 4, 3, 8, 0, 0, 0, 5, 2, 7, 6, 1, 1, 9, 8, 1, 0, 1, 7, 9, 1, 1, 7, 5, 9, 2, 8, 6, 6, 9, 7, 1, 3, 7, 9, 7, 6, 8, 4, 1, 3, 0, 3, 3, 6, 5, 9, 0, 4, 5, 6, 1, 7, 0, 8, 4, 6, 4, 6, 3, 6, 5, 0, 4, 1, 0, 8, 6, 9, 4, 8, 8, 0, 7, 1, 5, 5, 0, 8, 7, 7, 7, 9, 7, 7, 4, 3, 1, 2, 8, 6, 4, 0, 4, 1, 8, 6, 8, 6, 8, 7, 5, 0, 2, 8, 5, 8, 9, 2, 2, 5, 8, 2, 4, 1, 8, 1, 4, 0, 8, 6, 0, 4, 6, 1, 5, 6, 7, 6, 4, 6, 3, 8, 4, 8, 2, 6, 8, 4, 0, 2, 6, 4, 3, 4, 9, 6, 8, 4, 5, 5, 4, 1, 6, 0, 3, 1, 6, 6, 5, 4, 2, 0, 9, 8, 6, 5, 7, 6, 6, 0, 1, 6, 7, 6, 9, 1, 4, 3, 5, 0, 0, 2, 4, 6, 6, 0, 9, 9, 0, 5, 9, 2, 5, 0, 5, 6, 4, 6, 7, 5, 4, 6, 2, 3, 5, 5, 7, 9, 7, 5, 0, 2, 3, 7, 4, 4, 0, 3, 3, 1, 1, 2, 7, 0, 3, 4, 7, 0, 4, 2, 4, 2, 8, 9, 4, 0, 9, 1, 8, 8, 2, 7, 5, 5, 4, 9, 5, 6, 2, 9, 6, 4, 0, 7, 8, 6, 5, 0, 0, 9, 9, 8, 3, 5, 0, 8, 5, 6, 3, 6, 0, 6, 6, 6, 9, 6, 6, 8, 6, 2, 4, 3, 8, 1, 2, 7, 6, 4, 7, 0, 0, 6, 8, 0, 7, 9, 5, 8, 1, 8, 0, 9, 0, 9, 5, 7, 5, 5, 0, 5, 5, 2, 1, 9, 0, 6, 6, 1, 0, 1, 0, 2, 9, 7, 8, 0, 4, 0, 6, 5, 4, 0, 0, 8, 0, 8, 0, 3, 1, 3, 1, 8, 2, 6, 3, 9, 0, 5, 8, 1, 0, 5, 2, 1, 0, 2, 8, 9, 5, 6, 7, 7, 5, 6, 2, 0, 0, 3, 4, 0, 7, 4, 6, 4, 8, 8, 7, 6, 0, 5, 5, 0, 0, 4, 8, 5, 9, 6, 5, 0, 1, 0, 9, 0, 5, 2, 4, 6, 9, 2, 5, 6, 0, 1, 6, 8, 0, 4, 2, 3, 1, 0, 1, 7, 1, 0, 1, 1, 5, 5, 0, 7, 7, 6, 3, 0, 8, 6, 2, 7, 0, 2, 8, 4, 7, 0, 6, 9, 6, 8, 1, 3, 4, 6, 3, 7, 7, 1, 4, 8, 9, 7, 2, 4, 5, 7, 0, 0, 7, 9, 5, 5, 8, 5, 5, 3, 8, 3, 3, 8, 7, 8, 8, 6, 5, 0, 3, 3, 2, 6, 8, 0, 2, 3, 7, 0, 1, 9, 8, 4, 4, 4, 3, 5, 2, 9, 6, 8, 6, 9, 3, 0, 9, 9, 0, 7, 8, 5, 2, 0, 1, 0, 3, 9, 5, 6, 4, 6, 0, 5, 9, 9, 8, 8, 6, 4, 2, 0, 5, 1, 9, 1, 0, 1, 4, 8, 8, 2, 0, 5, 0, 7, 9, 7, 0, 2, 2, 0, 4, 8, 3, 4, 8, 3, 0, 0, 5, 7, 4, 4, 4, 7, 7, 9, 6, 0, 5, 9, 6, 0, 5, 0, 7, 7, 8, 9, 1, 3, 2, 0, 6, 1, 5, 5, 6, 6, 9, 2, 6, 2, 7, 6, 6, 1, 5, 4, 7, 8, 6, 5, 8, 2, 3, 0, 2, 3, 6, 5, 7, 3, 0, 2, 7, 8, 0, 1, 2, 4, 5, 6, 8, 6, 6, 6, 2, 0, 9, 0, 5, 5, 1, 4, 5, 4, 7, 4, 4, 1, 4, 4, 4, 6, 3, 3, 2, 1, 0, 0, 1, 1, 3, 1, 3, 5, 0, 7, 8, 5, 8, 6, 5, 5, 5, 8, 0, 8, 5, 3, 7, 8, 8, 5, 4, 9, 6, 9, 6, 9, 8, 6, 2, 4, 3, 0, 3, 2, 1, 6, 0, 0, 7, 2, 0, 0, 7, 7, 0, 2, 6, 6, 5, 7, 1, 0, 0, 1, 6, 6, 0, 1, 5, 6, 5, 3, 5, 0, 1, 9, 8, 0, 5, 5, 9, 9, 8, 6, 8, 6, 0, 6, 0, 1, 0, 6, 6, 9, 2, 7, 2, 7, 4, 8, 9, 2, 6, 0, 9, 7, 1, 1, 2, 4, 2, 3, 1, 6, 9, 4, 4, 0, 8, 0, 8, 3, 1, 8, 0, 5, 8, 7, 1, 0, 2, 5, 5, 8, 2, 5, 4, 8, 9, 7, 1, 5, 3, 0, 4, 0, 4, 6, 9, 0, 5, 6, 9, 2, 9, 7, 8, 0, 8, 6, 8, 6, 8, 2, 0, 5, 9, 6, 1, 7, 1, 3, 4, 2, 8, 7, 4, 6, 2, 8, 5, 8, 4, 5, 1, 2, 6, 8, 1, 7, 6, 8, 7, 4, 5, 5, 3, 5, 1, 0, 5, 6, 1, 7, 9, 0, 6, 3, 9, 0, 7, 5, 8, 0, 7, 5, 3, 2, 8, 8, 4, 8, 1, 5, 7, 6, 9, 6, 1, 8, 0, 3, 3, 6, 4, 8, 7, 5, 1, 6, 0, 5, 9, 9, 8, 5, 0, 4, 8, 5, 7, 7, 6, 1, 9, 5, 3, 1, 0, 8, 1, 7, 0, 2, 4, 4, 0, 4, 6, 2, 3, 7, 1, 6, 6, 4, 2, 2, 5, 2, 2, 5, 2, 9, 2, 3, 0, 1, 4, 0, 7, 1, 7, 6, 0, 4, 0, 6, 1, 5, 9, 7, 6, 2, 7, 0, 7, 6, 8, 1, 1, 8, 4, 0, 5, 1, 6, 4, 9, 1, 8, 1, 3, 4, 5, 2, 6, 2, 6, 5, 1, 4, 0, 1, 0, 8, 5, 0, 8, 8, 9, 4, 1, 8, 8, 5, 1, 4, 5, 0, 2, 9, 0, 2, 9, 2, 2, 9, 2, 0, 9, 2, 8, 8, 0, 8, 9, 2, 7, 6, 4, 9, 2, 4, 3, 8, 6, 6, 3, 3, 6, 7, 0, 4, 8, 8, 4, 2, 0, 0, 0, 0, 6, 0, 9, 8, 9, 1, 0, 2, 6, 8, 0, 1, 0, 4, 6, 0, 3, 6, 5, 6, 6, 5, 1, 8, 2, 4, 6, 4, 0, 6, 0, 5, 9, 0, 1, 0, 6, 9, 0, 8, 0, 0, 7, 8, 3, 0, 6, 6, 8, 1, 6, 2, 8, 4, 1, 2, 1, 6, 4, 5, 6, 2, 0, 0, 0, 1, 7, 9, 9, 8, 5, 2, 4, 4, 8, 8, 1, 1, 5, 8, 6, 1, 4, 8, 5, 2, 8, 4, 3, 9, 7, 3, 1, 3, 1, 6, 8, 0, 2, 0, 9, 6, 3, 5, 1, 3, 8, 6, 5, 1, 2, 9, 6, 1, 8, 5, 2, 4, 8, 6, 0, 4, 6, 6, 9, 8, 7, 1, 6, 5, 4, 7, 7, 6, 4, 6, 2, 5, 6, 4, 1, 0, 4, 7, 6, 6, 8, 4, 6, 1, 8, 8, 6, 6, 5, 7, 6, 5, 7, 0, 6, 2, 8, 8, 4, 8, 9, 4, 0, 5, 5, 4, 8, 1, 2, 0, 0, 7, 3, 7, 2, 7, 2, 4, 4, 2, 0, 4, 8, 2, 3, 2, 1, 8, 0, 4, 0, 4, 7, 7, 0, 6, 2, 4, 7, 3, 5, 6, 8, 6, 6, 6, 7, 2, 5, 3, 8, 1, 3, 1, 3, 6, 9, 0, 7, 0, 5, 4, 9, 7, 7, 4, 5, 3, 2, 7, 4, 1, 6, 1, 0, 6, 3, 6, 0, 4, 0, 6, 4, 0, 7, 6, 0, 0, 7, 5, 6, 2, 4, 8, 4, 3, 6, 2, 8, 9, 1, 6, 2, 8, 5, 6, 9, 0, 4, 0, 8, 8, 3, 6, 6, 2, 7, 5, 1, 8, 0, 0, 5, 4, 3, 5, 6, 9, 5, 2, 0, 8, 5, 9, 5, 2, 6, 5, 7, 3, 7, 2, 9, 0, 4, 2, 1, 6, 7, 7, 9, 8, 7, 0, 1, 0, 5, 7, 5, 7, 6, 7, 3, 7, 1, 3, 2, 7, 2, 4, 1, 1, 4, 2, 2, 4, 8, 9, 6, 1, 7, 7, 4, 5, 4, 1, 7, 7, 3, 0, 0, 6, 7, 3, 2, 9, 8, 7, 0, 1, 0, 3, 7, 6, 5, 8, 6, 0, 6, 5, 8, 4, 0, 2, 5, 6, 7, 3, 0, 1, 9, 9, 7, 9, 7, 1, 6, 7, 2, 3, 7, 6, 4, 5, 2, 0, 6, 1, 2, 0, 4, 5, 3, 8, 0, 2, 5, 2, 4, 5, 3, 2, 6, 8, 6, 6, 5, 4, 4, 0, 1, 3, 2, 0, 4, 6, 3, 3, 6, 6, 5, 6, 7, 6, 9, 2, 0, 3, 1, 9, 8, 8, 1, 0, 4, 8, 4, 7, 7, 4, 6, 5, 7, 0, 3, 5, 3, 7, 0, 8, 6, 5, 8, 3, 3, 0, 5, 0, 9, 0, 7, 4, 3, 9, 4, 0, 8, 1, 6, 8, 7, 2, 1, 4, 4, 8, 2, 8, 3, 5, 1, 7, 9, 0, 1, 1, 5, 1, 9, 4, 6, 8, 5, 3, 2, 2, 2, 8, 5, 8, 9, 7, 9, 1, 0, 5, 8, 0, 3, 8, 1, 2, 0, 8, 9, 0, 9, 4, 8, 8, 0, 7, 2, 2, 0, 3, 5, 4, 3, 0, 9, 4, 8, 4, 2, 0, 1, 2, 4, 7, 2, 9, 8, 1, 5, 5, 4, 2, 9, 0, 8, 2, 8, 5, 5, 6, 5, 1, 7, 2, 4, 0, 5, 6, 8, 7, 6, 7, 1, 3, 2, 6, 2, 5, 5, 5, 1, 8, 7, 8, 0, 6, 7, 1, 7, 1, 6, 3, 6, 9, 2, 7, 9, 8, 5, 1, 7, 4, 8, 2, 7, 5, 8, 4, 0, 5, 2, 0, 2, 5, 8, 1, 4, 6, 1, 9, 4, 7, 9, 2, 8, 3, 8, 4, 0, 4, 5, 6, 1, 5, 1, 3, 6, 9, 8, 8, 0, 9, 3, 5, 4, 2, 1, 0, 4, 8, 4, 0, 5, 7, 0, 6, 1, 7, 4, 1, 0, 7, 8, 0, 7, 2, 8, 3, 4, 8, 5, 0, 0, 2, 0, 2, 7, 0, 6, 6, 2, 1, 1, 8, 6, 5, 9, 6, 1, 5, 3, 4, 8, 1, 7, 7, 4, 5, 8, 8, 8, 9, 5, 3, 1, 3, 2, 2, 8, 9, 1, 0, 1, 1, 1, 8, 9, 9, 0, 4, 1, 1, 1, 5, 2, 1, 1, 2, 8, 9, 9, 1, 0, 1, 8, 5, 7, 0, 2, 3, 6, 9, 8, 4, 0, 6, 9, 7, 3, 8, 0, 2, 2, 4, 5, 4, 7, 6, 2, 6, 5, 2, 5, 4, 5, 8, 0, 2, 1, 2, 9, 1, 6, 9, 3, 9, 7, 7, 9, 1, 9, 5, 7, 7, 6, 9, 8, 4, 5, 8, 5, 9, 2, 8, 5, 5, 3, 9, 6, 1, 8, 7, 4, 8, 7, 7, 1, 5, 0, 3, 6, 5, 4, 0, 0, 5, 4, 3, 7, 3, 0, 0, 5, 1, 8, 8, 7, 5, 5, 7, 8, 5, 4, 8, 9, 2, 7, 7, 0, 0, 3, 2, 9, 3, 7, 1, 6, 5, 8, 8, 5, 5, 4, 1, 0, 1, 6, 4, 4, 0, 4, 8, 9, 8, 2, 9, 4, 9, 3, 9, 4, 1, 5, 2, 1, 6, 4, 7, 0, 2, 7, 2, 5, 8, 6, 3, 4, 4, 2, 3, 0, 8, 7, 2, 2, 8, 0, 7, 7, 5, 6, 1, 8, 5, 8, 7, 2, 9, 0, 2, 8, 1, 2, 3, 8, 9, 2, 8, 9, 3, 2, 7, 1, 6, 6, 9, 8, 9, 0, 5, 1, 2, 1, 2, 6, 4, 5, 7, 4, 4, 8, 5, 4, 8, 7, 8, 6, 3, 6, 7, 5, 4, 1, 5, 1, 8, 5, 2, 0, 0, 1, 2, 6, 8, 3, 7, 6, 1, 2, 9, 2, 5, 2, 8, 7, 3, 0, 7, 1, 4, 3, 0, 6, 8, 5, 4, 0, 6, 3, 0, 0, 4, 5, 4, 5, 6, 4, 7, 9, 6, 4, 0, 2, 2, 0, 3, 5, 4, 6, 1, 7, 5, 3, 2, 0, 3, 6, 4, 5, 0, 7, 5, 0, 5, 0, 6, 5, 0, 4, 1, 4, 1, 7, 6, 2, 0, 8, 6, 4, 5, 2, 0, 7, 0, 4, 1, 6, 5, 1, 3, 8, 5, 9, 4, 3, 7, 0, 9, 1, 0, 1, 0, 3, 4, 1, 4, 6, 4, 3, 3, 4, 9, 4, 7, 5, 8, 9, 0, 5, 8, 1, 8, 2, 6, 4, 2, 4, 7, 9, 6, 6, 9, 5, 6, 5, 5, 8, 0, 2, 3, 6, 2, 9, 6, 1, 4, 5, 9, 0, 1, 4, 0, 8, 1, 9, 4, 6, 8, 5, 4, 9, 5, 8, 2, 9, 1, 7, 6, 0, 6, 3, 3, 6, 2, 8, 3, 5, 9, 7, 1, 4, 4, 6, 1, 5, 8, 8, 0, 2, 7, 7, 6, 7, 2, 5, 4, 4, 6, 2, 4, 2, 5, 5, 3, 2, 6, 9, 0, 0, 1, 3, 1, 9, 5, 5, 2, 4, 3, 2, 8, 0, 0, 5, 5, 4, 8, 9, 1, 3, 0, 8, 8, 1, 3, 5, 4, 6, 2, 1, 7, 2, 0, 1, 8, 1, 1, 3, 7, 7, 3, 0, 0, 0, 8, 9, 8, 2, 6, 4, 6, 0, 1, 6, 1, 6, 4, 5, 2, 6, 7, 0, 4, 0, 8, 3, 0, 1, 5, 1, 8, 8, 2, 6, 8, 9, 2, 8, 9, 5, 4, 9, 9, 4, 4, 4, 8, 2, 6, 8, 9, 3, 1, 0, 3, 7, 8, 4, 6, 6, 5, 4, 6, 6, 5, 3, 1, 6, 6, 8, 5, 2, 2, 7, 1, 3, 2, 6, 9, 6, 8, 7, 9, 9, 3, 5, 4, 7, 2, 9, 7, 0, 2, 1, 3, 6, 1, 6, 9, 4, 1, 0, 7, 5, 6, 0, 0, 7, 0, 6, 4, 7, 8, 1, 0, 0, 0, 9, 6, 8, 0, 9, 0, 8, 5, 5, 6, 9, 7, 4, 2, 6, 2, 5, 5, 5, 6, 4, 2, 7, 1, 4, 4, 0, 3, 0, 7, 5, 3, 5, 7, 9, 0, 7, 8, 5, 9, 6, 8, 8, 4, 1, 7, 9, 8, 8, 2, 2, 8, 9, 9, 2, 3, 4, 0, 4, 0, 2, 4, 7, 0, 5, 3, 7, 9, 8, 6, 7, 9, 1, 5, 6, 9, 0, 3, 5, 0, 9, 0, 0, 4, 1, 2, 2, 3, 8, 9, 9, 1, 8, 3, 7, 6, 4, 0, 9, 7, 0, 7, 4, 8, 8, 8, 5, 1, 6, 7, 7, 4, 5, 9, 5, 7, 1, 7, 6, 6, 8, 2, 6, 6, 7, 1, 5, 9, 3, 1, 2, 0, 1, 4, 0, 1, 8, 0, 9, 7, 5, 7, 2, 5, 2, 8, 8, 7, 4, 4, 9, 0, 2, 5, 7, 0, 2, 7, 4, 1, 9, 5, 6, 3, 1, 5, 6, 3, 6, 7, 6, 8, 8, 9, 3, 6, 3, 0, 7, 5, 0, 0, 8, 5, 8, 1, 4, 7, 5, 0, 4, 4, 9, 5, 2, 1, 4, 5, 8, 0, 4, 6, 0, 2, 7, 0, 7, 9, 8, 7, 1, 6, 6, 1, 1, 3, 9, 2, 6, 7, 7, 9, 7, 2, 4, 6, 0, 6, 8, 5, 6, 3, 2, 1, 2, 6, 8, 0, 0, 3, 8, 3, 8, 2, 4, 8, 7, 1, 8, 1, 2, 3, 1, 7, 8, 9, 6, 7, 0, 1, 8, 4, 0, 4, 1, 6, 3, 6, 2, 5, 8, 8, 1, 7, 0, 7, 0, 3, 2, 7, 7, 7, 1, 4, 2, 8, 7, 4, 0, 0, 0, 7, 5, 1, 6, 5, 8, 4, 7, 4, 6, 1, 8, 5, 1, 0, 5, 6, 2, 4, 7, 7, 5, 8, 1, 8, 6, 8, 7, 4, 0, 3, 7, 5, 4, 9, 7, 5, 5, 9, 2, 6, 1, 6, 7, 2, 0, 0, 0, 7, 0, 7, 1, 5, 6, 1, 5, 0, 6, 0, 6, 8, 2, 8, 0, 3, 6, 0, 0, 2, 0, 6, 0, 1, 6, 1, 6, 3, 1, 2, 2, 4, 6, 8, 5, 8, 8, 5, 1, 8, 4, 5, 3, 9, 6, 4, 5, 0, 7, 7, 1, 0, 4, 4, 3, 6, 0, 6, 1, 8, 8, 0, 9, 3, 1, 0, 5, 2, 2, 7, 5, 3, 7, 2, 8, 0, 5, 7, 4, 7, 7, 0, 6, 1, 7, 9, 8, 0, 0, 3, 0, 4, 0, 8, 4, 1, 0, 2, 6, 4, 1, 1, 3, 7, 5, 4, 1, 4, 7, 1, 0, 2, 9, 0, 0, 2, 0, 0, 4, 3, 8, 4, 8, 8, 2, 4, 5, 9, 4, 1, 1, 3, 5, 4, 7, 5, 8, 6, 7, 1, 5, 5, 5, 4, 1, 8, 9, 1, 8, 9, 8, 6, 0, 5, 8, 8, 4, 6, 2, 2, 4, 7, 3, 4, 4, 1, 7, 0, 1, 4, 9, 5, 1, 6, 8, 4, 5, 6, 9, 0, 0, 1, 1, 7, 3, 2, 1, 1, 2, 0, 1, 9, 9, 8, 8, 6, 5, 5, 6, 0, 3, 2, 0, 5, 4, 7, 2, 6, 1, 2, 8, 8, 1, 6, 9, 5, 7, 5, 9, 6, 7, 1, 0, 5, 8, 4, 8, 7, 7, 8, 9, 8, 0, 7, 0, 1, 0, 5, 7, 6, 3, 8, 8, 0, 7, 8, 5, 6, 7, 2, 0, 4, 5, 2, 2, 8, 4, 7, 9, 9, 2, 8, 3, 3, 8, 1, 1, 0, 0, 5, 4, 2, 0, 8, 9, 7, 4, 4, 6, 8, 6, 0, 0, 8, 5, 8, 5, 9, 5, 7, 9, 8, 2, 4, 6, 1, 4, 8, 5, 6, 7, 3, 2, 8, 1, 5, 7, 6, 3, 0, 4, 9, 9, 0, 5, 3, 3, 2, 0, 9, 0, 6, 0, 2, 0, 1, 7, 5, 0, 5, 4, 5, 2, 3, 7, 1, 1, 4, 8, 0, 3, 8, 6, 9, 0, 0, 2, 0, 6, 8, 7, 3, 2, 8, 9, 0, 5, 1, 4, 6, 1, 3, 9, 5, 8, 3, 4, 4, 0, 0, 5, 3, 1, 7, 9, 1, 6, 2, 4, 7, 3, 3, 2, 7, 8, 2, 8, 4, 8, 5, 0, 8, 8, 2, 3, 5, 7, 3, 0, 4, 1, 5, 9, 7, 0, 6, 8, 5, 9, 0, 9, 8, 9, 6, 2, 1, 2, 4, 4, 0, 5, 6, 4, 4, 0, 1, 1, 0, 6, 2, 9, 6, 5, 8, 9, 2, 2, 1, 7, 6, 0, 2, 0, 1, 6, 5, 5, 7, 7, 5, 0, 0, 0, 6, 8, 5, 4, 2, 4, 5, 0, 4, 8, 0, 8, 4, 4, 6, 5, 6, 4, 6, 8, 6, 2, 5, 8, 4, 0, 0, 0, 5, 9, 3, 2, 0, 1, 5, 1, 1, 4, 9, 5, 1, 3, 2, 1, 4, 4, 3, 2, 5, 4, 9, 0, 1, 7, 9, 7, 4, 4, 3, 5, 8, 3, 8, 4, 5, 4, 4, 5, 4, 5, 5, 4, 5, 4, 1, 5, 4, 1, 5, 6, 2, 4, 2, 2, 5, 3, 4, 5, 0, 6, 0, 6, 0, 9, 4, 4, 3, 9, 7, 1, 4, 7, 3, 6, 1, 7, 3, 0, 0, 6, 6, 8, 6, 6, 0, 2, 4, 9, 4, 8, 6, 0, 1, 3, 4, 9, 4, 8, 3, 7, 1, 2, 2, 8, 4, 7, 8, 3, 7, 6, 2, 6, 0, 6, 7, 9, 2, 4, 7, 2, 8, 7, 9, 4, 1, 6, 1, 9, 5, 3, 9, 0, 1, 3, 9, 0, 9, 0, 9, 7, 2, 2, 5, 4, 6, 6, 8, 0, 9, 0, 6, 5, 9, 0, 6, 2, 0, 6, 5, 1, 5, 1, 6, 7, 0, 8, 1, 6, 7, 3, 0, 2, 7, 1, 0, 5, 6, 1, 3, 3, 8, 9, 0, 6, 1, 6, 5, 5, 5, 5, 1, 0, 9, 2, 8, 8, 3, 8, 8, 6, 9, 1, 9, 0, 7, 2, 5, 1, 5, 9, 0, 9, 4, 0, 7, 5, 3, 1, 0, 3, 0, 5, 0, 8, 8, 2, 9, 6, 8, 9, 4, 2, 2, 3, 4, 0, 7, 6, 9, 2, 3, 5, 1, 4, 2, 4, 9, 1, 7, 1, 4, 0, 1, 0, 8, 5, 0, 5, 6, 1, 7, 8, 9, 0, 9, 0, 1, 7, 6, 2, 6, 5, 1, 0, 1, 3, 1, 9, 0, 0, 8, 8, 4, 7, 0, 9, 0, 2, 6, 6, 6, 0, 8, 6, 5, 2, 6, 3, 3, 3, 7, 1, 6, 4, 1, 2, 1, 0, 1, 6, 0, 3, 8, 4, 2, 1, 7, 3, 5, 2, 0, 9, 8, 1, 9, 5, 5, 6, 1, 2, 8, 7, 5, 0, 7, 7, 5, 5, 8, 1, 9, 7, 8, 9, 5, 5, 5, 2, 1, 7, 0, 6, 6, 2, 6, 8, 1, 6, 3, 8, 8, 2, 6, 9, 0, 8, 8, 2, 4, 4, 7, 3, 8, 5, 2, 4, 4, 3, 1, 0, 1, 2, 1, 0, 1, 7, 3, 3, 9, 9, 9, 1, 0, 5, 3, 5, 4, 9, 4, 5, 6, 7, 0, 0, 9, 7, 5, 5, 3, 4, 9, 7, 6, 8, 4, 4, 7, 0, 3, 4, 0, 7, 3, 6, 2, 9, 2, 4, 1, 7, 1, 0, 0, 2, 1, 8, 3, 4, 0, 1, 3, 6, 0, 0, 3, 8, 5, 0, 0, 4, 6, 1, 9, 2, 9, 6, 0, 5, 5, 1, 4, 3, 1, 6, 5, 9, 0, 2, 4, 0, 8, 2, 3, 4, 9, 5, 8, 4, 9, 4, 8, 5, 1, 6, 8, 8, 4, 4, 0, 8, 1, 7, 5, 3, 9, 0, 6, 5, 1, 4, 6, 1, 0, 9, 0, 1, 8, 7, 7, 9, 2, 3, 3, 4, 9, 8, 7, 3, 1, 1, 0, 8, 6, 2, 2, 0, 1, 6, 5, 2, 5, 8, 6, 3, 2, 0, 5, 9, 1, 4, 6, 0, 6, 0, 6, 3, 1, 9, 9, 8, 6, 8, 6, 8, 9, 8, 4, 4, 1, 5, 6, 6, 3, 9, 7, 6, 5, 0, 4, 4, 6, 9, 3, 3, 5, 0, 2, 8, 2, 7, 6, 9, 4, 5, 2, 6, 6, 5, 6, 2, 5, 6, 1, 9, 6, 3, 3, 5, 4, 8, 0, 8, 3, 2, 2, 4, 4, 2, 8, 8, 3, 3, 0, 9, 3, 3, 8, 3, 8, 4, 7, 8, 8, 5, 3, 1, 3, 2, 1, 5, 2, 4, 7, 5, 8, 0, 8, 9, 6, 4, 5, 8, 7, 5, 1, 7, 7, 8, 6, 0, 0, 1, 6, 0, 0, 4, 0, 7, 7, 1, 8, 7, 5, 4, 0, 9, 2, 8, 8, 2, 1, 0, 7, 4, 8, 6, 5, 4, 2, 2, 5, 1, 3, 4, 3, 6, 2, 9, 8, 9, 9, 0, 3, 4, 6, 6, 1, 6, 3, 6, 2, 5, 8, 7, 0, 8, 0, 4, 6, 3, 7, 1, 7, 0, 5, 5, 5, 3, 1, 0, 0, 2, 9, 5, 7, 6, 9, 6, 4, 0, 7, 2, 9, 4, 1, 7, 0, 7, 4, 8, 4, 3, 2, 9, 2, 6, 1, 2, 4, 8, 0, 5, 6, 9, 3, 2, 4, 8, 1, 8, 3, 1, 2, 5, 1, 4, 8, 7, 0, 1, 6, 9, 0, 2, 7, 1, 1, 9, 2, 4, 2, 0, 7, 8, 2, 8, 8, 5, 5, 1, 0, 1, 3, 0, 8, 6, 7, 1, 6, 4, 4, 1, 1, 0, 4, 1, 0, 0, 0, 4, 3, 0, 0, 4, 7, 2, 0, 7, 7, 0, 1, 5, 6, 6, 5, 6, 4, 1, 7, 8, 6, 6, 6, 1, 6, 3, 6, 5, 8, 6, 6, 7, 1, 9, 5, 4, 7, 6, 2, 4, 1, 0, 1, 0, 6, 1, 2, 3, 5, 9, 1, 5, 6, 0, 2, 0, 1, 1, 8, 6, 3, 2, 3, 0, 5, 1, 0, 3, 6, 5, 4, 1, 6, 1, 5, 1, 0, 6, 0, 3, 4, 1, 3, 2, 9, 9, 8, 3, 1, 9, 5, 5, 0, 0, 3, 9, 7, 2, 2, 9, 6, 8, 6, 6, 8, 2, 4, 4, 6, 7, 7, 4, 6, 9, 6, 0, 8, 8, 7, 8, 6, 5, 1, 4, 2, 0, 7, 8, 7, 4, 9, 2, 8, 5, 2, 4, 4, 6, 0, 7, 6, 5, 7, 9, 0, 5, 2, 4, 0, 9, 2, 3, 1, 9, 5, 8, 4, 6, 6, 3, 5, 5, 6, 4, 1, 6, 6, 1, 6, 7, 5, 5, 7, 1, 3, 7, 3, 5, 4, 8, 7, 3, 5, 7, 0, 0, 2, 0, 0, 3, 2, 4, 5, 3, 7, 0, 6, 9, 0, 1, 2, 6, 0, 2, 4, 1, 5, 7, 0, 9, 7, 1, 7, 0, 5, 8, 8, 6, 5, 1, 8, 2, 1, 3, 8, 1, 5, 4, 1, 1, 6, 8, 5, 1, 2, 2, 7, 1, 4, 6, 0, 5, 4, 4, 5, 7, 5, 0, 5, 8, 4, 3, 6, 0, 5, 2, 7, 4, 3, 4, 5, 9, 4, 8, 1, 6, 0, 6, 0, 7, 1, 6, 3, 8, 7, 8, 2, 6, 7, 2, 0, 5, 5, 5, 2, 4, 1, 6, 8, 8, 3, 4, 2, 5, 7, 5, 7, 7, 9, 7, 4, 5, 5, 4, 4, 7, 2, 7, 4, 3, 2, 6, 6, 2, 5, 2, 2, 0, 2, 1, 6, 9, 0, 0, 1, 5, 8, 1, 6, 7, 0, 9, 3, 3, 5, 6, 0, 9, 9, 2, 6, 6, 0, 6, 4, 2, 5, 7, 0, 8, 3, 6, 6, 2, 2, 5, 5, 0, 4, 8, 9, 2, 6, 8, 1, 7, 9, 0, 9, 7, 3, 8, 5, 9, 6, 3, 4, 3, 8, 7, 4, 7, 9, 7, 9, 6, 2, 2, 2, 0, 2, 0, 0, 2, 9, 1, 7, 5, 3, 0, 1, 4, 9, 6, 9, 9, 3, 8, 6, 5, 0, 5, 7, 6, 4, 8, 3, 3, 4, 7, 0, 3, 0, 2, 5, 9, 3, 7, 0, 5, 4, 3, 3, 5, 5, 5, 1, 1, 5, 6, 6, 2, 6, 7, 6, 8, 2, 5, 8, 4, 1, 4, 7, 6, 5, 4, 5, 2, 0, 7, 2, 8, 1, 3, 4, 1, 6, 4, 7, 8, 5, 7, 6, 6, 7, 4, 0, 9, 1, 2, 0, 0, 7, 7, 6, 7, 4, 2, 1, 5, 6, 7, 0, 8, 0, 5, 6, 1, 4, 8, 1, 5, 3, 9, 0, 7, 1, 4, 4, 1, 9, 3, 6, 4, 7, 1, 6, 9, 5, 1, 4, 8, 2, 4, 0, 7, 3, 0, 6, 4, 7, 2, 4, 4, 4, 5, 6, 4, 3, 9, 1, 5, 9, 4, 5, 4, 0, 8, 5, 0, 6, 1, 0, 1, 7, 8, 2, 9, 8, 1, 0, 6, 6, 6, 9, 9, 7, 9, 9, 2, 5, 1, 1, 0, 6, 1, 9, 5, 4, 5, 5, 9, 4, 9, 6, 5, 4, 7, 2, 9, 8, 8, 3, 4, 8, 6, 0, 2, 0, 7, 2, 1, 1, 2, 0, 9, 4, 2, 6, 2, 4, 1, 2, 2, 6, 4, 8, 6, 9, 6, 6, 6, 5, 0, 3, 3, 4, 6, 3, 0, 0, 8, 5, 4, 4, 9, 3, 0, 5, 4, 8, 7, 9, 8, 5, 4, 8, 4, 0, 1, 8, 0, 2, 8, 4, 5, 8, 4, 0, 1, 9, 2, 9, 6, 6, 3, 7, 6, 8, 4, 0, 9, 0, 5, 2, 9, 2, 6, 2, 4, 2, 1, 2, 8, 1, 1, 6, 9, 6, 6, 4, 1, 8, 5, 6, 5, 9, 2, 5, 6, 0, 1, 9, 3, 2, 1, 0, 2, 9, 4, 2, 9, 0, 9, 3, 9, 8, 7, 1, 0, 1, 5, 5, 3, 2, 8, 0, 3, 2, 0, 2, 8, 4, 2, 0, 8, 3, 2, 5, 2, 9, 9, 8, 7, 1, 5, 3, 1, 9, 6, 7, 1, 4, 6, 7, 7, 8, 7, 4, 4, 1, 8, 6, 0, 3, 4, 6, 1, 0, 7, 4, 2, 4, 0, 0, 0, 2, 9, 3, 4, 8, 0, 8, 1, 7, 1, 5, 9, 9, 0, 0, 2, 9, 6, 9, 8, 1, 0, 4, 0, 5, 0, 5, 6, 3, 7, 1, 5, 9, 8, 7, 5, 0, 4, 6, 5, 2, 5, 8, 6, 7, 5, 8, 0, 7, 5, 2, 5, 3, 7, 6, 4, 9, 1, 7, 7, 1, 9, 2, 8, 6, 6, 8, 0, 6, 8, 7, 7, 0, 0, 4, 4, 0, 2, 4, 6, 2, 9, 2, 0, 5, 8, 2, 0, 0, 6, 6, 7, 9, 5, 1, 6, 6, 6, 0, 1, 9, 7, 4, 5, 1, 4, 1, 6, 6, 0, 8, 0, 5, 6, 9, 1, 9, 6, 7, 0, 8, 8, 5, 4, 4, 1, 1, 9, 9, 0, 6, 0, 7, 4, 6, 5, 3, 5, 9, 6, 5, 9, 0, 4, 7, 0, 8, 7, 2, 7, 7, 4, 6, 0, 1, 6, 0, 5, 5, 2, 2, 0, 9, 8, 4, 2, 5, 0, 8, 2, 2, 8, 0, 8, 0, 0, 0, 2, 1, 9, 8, 9, 7, 7, 2, 4, 8, 7, 0, 0, 9, 0, 5, 7, 2, 3, 1, 5, 2, 1, 4, 8, 9, 5, 8, 7, 1, 5, 2, 6, 5, 8, 4, 7, 5, 7, 9, 5, 2, 9, 8, 6, 5, 2, 9, 1, 2, 9, 4, 7, 3, 7, 4, 0, 9, 1, 8, 0, 6, 0, 1, 7, 1, 0, 0, 5, 6, 4, 4, 0, 0, 8, 2, 5, 4, 7, 0, 8, 4, 8, 9, 8, 5, 4, 4, 2, 3, 4, 6, 5, 1, 4, 7, 7, 8, 0, 2, 4, 8, 6, 6, 6, 5, 2, 6, 3, 4, 0, 0, 7, 2, 5, 6, 8, 9, 1, 6, 0, 9, 4, 2, 0, 7, 7, 4, 0, 2, 7, 6, 8, 1, 3, 6, 0, 8, 0, 3, 1, 8, 2, 4, 7, 2, 4, 6, 4, 7, 5, 6, 4, 1, 5, 0, 0, 1, 7, 7, 4, 5, 2, 2, 2, 7, 3, 6, 6, 4, 1, 6, 0, 3, 8, 5, 9, 2, 3, 4, 7, 3, 7, 7, 1, 8, 3, 4, 0, 8, 9, 5, 8, 0, 2, 6, 8, 0, 0, 4, 9, 3, 5, 1, 8, 9, 6, 4, 6, 9, 5, 6, 5, 0, 9, 4, 5, 8, 0, 5, 4, 3, 8, 5, 3, 1, 6, 9, 1, 1, 0, 0, 6, 1, 6, 3, 0, 6, 5, 4, 5, 0, 8, 8, 5, 9, 6, 6, 7, 0, 8, 0, 5, 5, 2, 7, 8, 5, 0, 8, 5, 8, 2, 7, 7, 4, 0, 0, 7, 8, 4, 0, 4, 2, 2, 3, 4, 8, 7, 5, 7, 0, 5, 3, 4, 9, 1, 8, 3, 9, 9, 1, 0, 6, 0, 7, 0, 0, 8, 6, 2, 2, 6, 0, 5, 7, 6, 1, 0, 4, 6, 0, 4, 4, 4, 7, 6, 4, 3, 5, 9, 4, 3, 5, 2, 5, 2, 4, 5, 7, 4, 5, 8, 1, 8, 6, 0, 0, 7, 8, 6, 6, 5, 6, 0, 4, 6, 4, 2, 1, 8, 6, 9, 6, 3, 2, 4, 5, 3, 5, 2, 2, 1, 6, 0, 0, 8, 2, 4, 5, 5, 2, 9, 8, 6, 7, 0, 5, 8, 6, 9, 5, 0, 8, 4, 9, 0, 0, 4, 0, 0, 8, 3, 6, 5, 8, 6, 9, 2, 8, 0, 6, 8, 9, 5, 4, 8, 0, 5, 7, 2, 4, 5, 8, 8, 1, 4, 3, 1, 5, 9, 2, 3, 0, 8, 4, 2, 1, 7, 6, 1, 6, 9, 6, 3, 5, 1, 8, 3, 7, 9, 5, 8, 0, 6, 0, 8, 8, 6, 6, 4, 6, 9, 1, 1, 7, 8, 6, 8, 9, 8, 6, 9, 0, 8, 1, 7, 8, 1, 5, 4, 3, 0, 3, 4, 5, 3, 9, 1, 8, 9, 3, 8, 7, 7, 5, 0, 3, 1, 9, 0, 1, 7, 4, 9, 8, 1, 4, 6, 0, 9, 5, 1, 4, 4, 2, 0, 5, 0, 0, 3, 6, 1, 6, 3, 6, 0, 3, 5, 9, 2, 2, 2, 5, 7, 8, 2, 0, 1, 0, 1, 7, 0, 1, 1, 4, 4, 5, 5, 0, 6, 6, 6, 2, 6, 8, 5, 2, 1, 9, 4, 9, 0, 4, 3, 6, 6, 2, 7, 6, 7, 6, 8, 1, 7, 3, 7, 2, 4, 6, 6, 0, 1, 2, 3, 0, 4, 5, 0, 3, 1, 7, 6, 7, 9, 8, 3, 2, 1, 3, 3, 4, 7, 2, 6, 8, 6, 0, 8, 3, 8, 9, 0, 7, 6, 6, 4, 4, 8, 2, 7, 2, 5, 3, 8, 4, 8, 4, 8, 9, 1, 5, 9, 1, 5, 7, 3, 4, 8, 6, 1, 9, 1, 4, 5, 0, 4, 4, 3, 0, 7, 5, 4, 1, 0, 0, 0, 0, 0, 1, 6, 2, 0, 9, 6, 9, 9, 6, 0, 5, 7, 3, 2, 1, 3, 9, 8, 2, 1, 0, 0, 2, 1, 6, 7, 3, 4, 4, 1, 0, 4, 8, 0, 9, 5, 7, 0, 4, 0, 2, 8, 6, 4, 1, 9, 8, 2, 2, 1, 4, 1, 0, 5, 0, 2, 6, 9, 4, 8, 4, 6, 6, 5, 2, 6, 9, 0, 0, 4, 1, 8, 9, 0, 1, 1, 8, 7, 7, 8, 9, 8, 6, 4, 5, 7, 4, 0, 7, 2, 2, 2, 4, 4, 4, 0, 5, 1, 5, 9, 2, 2, 0, 1, 2, 8, 6, 5, 4, 3, 5, 0, 9, 1, 8, 0, 1, 5, 0, 2, 1, 1, 6, 5, 3, 8, 1, 5, 1, 6, 2, 7, 8, 6, 4, 1, 5, 0, 0, 4, 3, 8, 4, 8, 3, 0, 5, 0, 2, 0, 8, 6, 9, 8, 9, 1, 5, 7, 6, 4, 5, 5, 6, 0, 0, 1, 7, 3, 0, 1, 2, 6, 2, 6, 7, 8, 2, 8, 7, 6, 4, 0, 2, 4, 8, 7, 7, 4, 8, 2, 9, 7, 8, 8, 7, 0, 3, 8, 1, 4, 8, 3, 5, 4, 6, 2, 4, 1, 0, 6, 2, 3, 4, 5, 1, 4, 6, 0, 7, 0, 4, 8, 1, 9, 0, 7, 7, 3, 3, 2, 8, 1, 7, 0, 4, 9, 4, 2, 4, 8, 3, 6, 0, 5, 4, 0, 9, 4, 9, 1, 7, 8, 4, 2, 3, 4, 0, 5, 4, 0, 0, 2, 2, 4, 5, 4, 6, 5, 4, 1, 2, 1, 4, 1, 9, 3, 6, 5, 5, 8, 2, 1, 4, 0, 8, 0, 7, 7, 0, 6, 3, 3, 7, 4, 5, 8, 7, 4, 6, 8, 6, 2, 0, 6, 6, 7, 8, 4, 0, 3, 0, 2, 3, 7, 9, 1, 6, 6, 2, 8, 2, 4, 3, 0, 4, 6, 4, 4, 1, 0, 7, 7, 6, 5, 0, 2, 6, 5, 6, 2, 4, 7, 5, 6, 6, 5, 0, 0, 4, 9, 2, 3, 8, 0, 7, 0, 6, 8, 1, 7, 0, 1, 1, 5, 4, 5, 5, 5, 0, 2, 6, 5, 0, 5, 9, 1, 4, 5, 7, 7, 4, 9, 2, 5, 9, 5, 1, 7, 6, 6, 2, 8, 3, 1, 5, 8, 4, 3, 5, 5, 3, 9, 6, 8, 7, 6, 9, 5, 8, 8, 4, 9, 1, 8, 2, 9, 6, 0, 2, 0, 0, 3, 6, 1, 2, 7, 5, 0, 3, 6, 0, 0, 5, 0, 3, 0, 5, 5, 3, 3, 8, 2, 6, 1, 3, 6, 0, 1, 2, 1, 9, 4, 1, 0, 1, 9, 4, 5, 8, 5, 9, 1, 0, 9, 0, 6, 6, 8, 6, 9, 3, 0, 6, 5, 5, 3, 0, 5, 6, 8, 4, 6, 1, 9, 8, 0, 1, 0, 5, 6, 7, 1, 5, 2, 7, 4, 8, 6, 9, 3, 9, 1, 9, 4, 7, 4, 7, 4, 7, 8, 0, 9, 9, 4, 8, 1, 2, 6, 8, 4, 2, 9, 0, 9, 8, 1, 4, 5, 5, 0, 4, 1, 9, 6, 0, 1, 4, 5, 3, 5, 0, 9, 9, 0, 2, 9, 9, 4, 5, 4, 4, 7, 4, 5, 1, 2, 4, 2, 1, 0, 2, 0, 9, 0, 1, 9, 7, 5, 6, 1, 6, 1, 0, 0, 8, 8, 9, 9, 5, 0, 9, 3, 9, 1, 6, 2, 2, 7, 6, 4, 6, 9, 6, 8, 8, 5, 8, 3, 8, 9, 8, 6, 9, 0, 6, 6, 0, 4, 9, 5, 6, 7, 9, 4, 3, 0, 2, 5, 5, 2, 8, 1, 0, 4, 9, 8, 3, 7, 3, 9, 0, 7, 7, 1, 9, 2, 4, 0, 1, 8, 5, 1, 9, 5, 0, 2, 6, 8, 3, 2, 4, 0, 4, 4, 0, 1, 7, 7, 5, 7, 9, 3, 6, 5, 9, 4, 4, 5, 4, 2, 3, 6, 5, 9, 4, 6, 6, 8, 4, 3, 0, 8, 0, 0, 0, 9, 6, 8, 0, 4, 6, 0, 7, 9, 8, 0, 7, 0, 9, 6, 0, 2, 0, 1, 4, 8, 8, 2, 4, 7, 4, 5, 8, 3, 1, 5, 5, 0, 0, 2, 2, 6, 6, 8, 6, 2, 6, 0, 1, 4, 1, 7, 0, 1, 0, 7, 0, 2, 9, 2, 5, 0, 0, 8, 7, 0, 3, 0, 9, 6, 9, 9, 9, 0, 7, 5, 6, 4, 1, 9, 4, 7, 3, 3, 8, 6, 9, 8, 7, 9, 0, 3, 6, 0, 2, 5, 6, 5, 5, 8, 5, 8, 5, 3, 0, 9, 5, 6, 7, 8, 6, 1, 8, 6, 3, 8, 6, 5, 1, 0, 6, 2, 0, 5, 4, 8, 3, 8, 0, 6, 0, 2, 0, 1, 1, 5, 6, 9, 8, 5, 0, 6, 4, 1, 6, 1, 7, 7, 0, 1, 6, 8, 8, 4, 0, 0, 7, 8, 2, 1, 6, 4, 0, 9, 2, 3, 5, 6, 0, 0, 8, 2, 2, 3, 6, 6, 4, 2, 7, 8, 9, 1, 0, 1, 5, 6, 4, 8, 8, 6, 0, 9, 1, 6, 3, 1, 0, 1, 6, 0, 4, 2, 0, 9, 3, 7, 5, 7, 0, 6, 6, 9, 8, 9, 6, 2, 8, 1, 7, 0, 1, 2, 1, 1, 5, 4, 5, 9, 9, 3, 2, 2, 0, 4, 3, 2, 4, 7, 6, 8, 2, 8, 1, 3, 8, 3, 4, 2, 0, 0, 9, 0, 6, 8, 4, 8, 1, 2, 2, 6, 2, 9, 8, 2, 6, 1, 5, 0, 8, 1, 2, 0, 8, 9, 9, 3, 7, 4, 0, 0, 6, 6, 7, 0, 7, 7, 1, 8, 6, 3, 5, 3, 1, 4, 5, 7, 8, 2, 3, 5, 5, 9, 8, 8, 5, 8, 0, 6, 3, 0, 9, 6, 2, 0, 8, 7, 1, 3, 6, 9, 1, 2, 3, 2, 1, 9, 1, 0, 6, 2, 8, 6, 8, 2, 8, 6, 0, 8, 2, 3, 1, 5, 3, 0, 5, 8, 7, 1, 4, 0, 0, 1, 5, 9, 1, 4, 0, 2, 1, 2, 6, 7, 2, 9, 5, 8, 8, 0, 9, 6, 0, 7, 1, 9, 2, 7, 9, 1, 5, 6, 0, 4, 0, 0, 2, 0, 8, 5, 2, 3, 3, 5, 0, 5, 8, 7, 5, 3, 3, 2, 6, 5, 9, 5, 4, 5, 5, 7, 9, 6, 1, 8, 7, 1, 2, 3, 1, 1, 3, 6, 0, 7, 7, 1, 0, 8, 1, 5, 6, 6, 5, 5, 6, 4, 6, 1, 0, 0, 5, 8, 0, 3, 1, 7, 1, 5, 9, 5, 4, 6, 3, 8, 8, 6, 7, 3, 8, 1, 0, 5, 3, 4, 3, 1, 0, 1, 5, 0, 1, 6, 8, 8, 8, 1, 1, 8, 1, 8, 8, 2, 5, 1, 0, 6, 3, 6, 6, 6, 6, 3, 6, 2, 7, 3, 4, 6, 9, 9, 4, 4, 3, 8, 5, 2, 0, 8, 7, 7, 8, 6, 6, 3, 2, 1, 8, 9, 0, 6, 4, 2, 9, 6, 3, 6, 2, 1, 7, 9, 6, 0, 5, 6, 6, 9, 1, 3, 1, 7, 2, 4, 7, 0, 8, 6, 0, 8, 7, 8, 3, 0, 8, 5, 6, 0, 7, 1, 7, 5, 8, 7, 0, 5, 4, 4, 5, 8, 6, 0, 0, 6, 5, 2, 2, 0, 9, 8, 3, 0, 1, 1, 1, 0, 5, 6, 0, 3, 8, 4, 8, 6, 2, 1, 6, 0, 7, 9, 4, 0, 3, 7, 5, 8, 1, 4, 9, 6, 8, 5, 5, 2, 6, 9, 5, 8, 5, 3, 9, 0, 6, 5, 4, 4, 0, 4, 2, 2, 4, 5, 6, 3, 8, 1, 6, 6, 6, 4, 4, 7, 7, 4, 4, 4, 9, 7, 8, 4, 7, 7, 8, 5, 6, 3, 1, 6, 3, 5, 5, 2, 8, 3, 6, 1, 5, 7, 1, 3, 9, 6, 4, 9, 5, 3, 7, 4, 8, 1, 4, 0, 6, 7, 0, 7, 9, 9, 3, 1, 6, 6, 4, 2, 2, 1, 9, 4, 6, 7, 8, 2, 8, 1, 3, 5, 2, 3, 1, 2, 0, 1, 1, 1, 3, 4, 8, 7, 0, 4, 0, 6, 4, 9, 0, 0, 6, 4, 2, 0, 8, 3, 8, 3, 0, 6, 9, 6, 0, 6, 1, 8, 2, 6, 5, 2, 6, 5, 6, 9, 0, 6, 4, 8, 0, 5, 5, 9, 8, 5, 7, 9, 8, 3, 8, 6, 8, 5, 0, 8, 0, 3, 1, 8, 2, 4, 8, 0, 1, 4, 4, 5, 9, 8, 2, 7, 1, 4, 1, 7, 3, 6, 1, 8, 0, 2, 0, 4, 0, 2, 3, 5, 7, 2, 5, 0, 0, 1, 0, 4, 6, 9, 9, 8, 7, 9, 2, 1, 1, 0, 4, 9, 9, 4, 0, 1, 1, 1, 3, 8, 0, 9, 9, 7, 2, 1, 1, 7, 8, 8, 7, 9, 7, 1, 8, 1, 2, 6, 6, 7, 3, 2, 9, 8, 0, 2, 6, 6, 5, 0, 0, 5, 6, 4, 1, 6, 0, 6, 6, 0, 6, 3, 9, 1, 8, 0, 6, 0, 5, 0, 6, 2, 1, 7, 8, 6, 7, 1, 7, 0, 8, 9, 6, 6, 9, 0, 2, 4, 9, 0, 6, 5, 1, 2, 9, 6, 8, 1, 9, 6, 7, 6, 4, 0, 6, 0, 1, 6, 1, 8, 5, 2, 4, 4, 3, 0, 8, 1, 5, 1, 8, 1, 6, 2, 2, 4, 4, 0, 9, 6, 4, 3, 5, 2, 1, 4, 1, 9, 3, 5, 7, 7, 7, 5, 6, 8, 3, 3, 6, 6, 4, 0, 0, 1, 4, 6, 8, 7, 1, 6, 4, 8, 2, 5, 8, 0, 8, 3, 0, 7, 7, 3, 4, 5, 6, 3, 1, 5, 6, 0, 7, 6, 6, 9, 3, 7, 9, 0, 7, 0, 5, 8, 1, 4, 0, 5, 7, 5, 7, 8, 6, 2, 6, 8, 6, 4, 9, 8, 4, 8, 5, 6, 5, 3, 9, 8, 4, 0, 6, 4, 0, 4, 1, 7, 2, 1, 8, 4, 0, 4, 0, 4, 8, 0, 5, 8, 4, 3, 8, 1, 0, 2, 3, 2, 9, 8, 2, 2, 7, 4, 5, 1, 2, 2, 0, 1, 0, 1, 5, 8, 2, 6, 7, 9, 0, 5, 4, 3, 3, 2, 6, 7, 5, 8, 0, 8, 9, 1, 4, 4, 7, 2, 8, 6, 6, 9, 4, 7, 1, 5, 0, 4, 7, 4, 6, 5, 5, 4, 0, 7, 6, 5, 5, 7, 6, 6, 7, 5, 0, 0, 9, 6, 0, 0, 2, 6, 5, 2, 9, 2, 6, 6, 2, 2, 7, 0, 0, 9, 2, 4, 2, 3, 0, 2, 4, 6, 7, 6, 0, 8, 2, 5, 0, 9, 4, 7, 3, 8, 7, 4, 1, 8, 1, 7, 0, 4, 0, 5, 2, 6, 4, 7, 9, 1, 5, 7, 4, 0, 4, 8, 9, 2, 4, 2, 3, 2, 4, 9, 7, 8, 8, 6, 6, 5, 9, 0, 6, 5, 8, 9, 9, 7, 0, 1, 6, 5, 1, 0, 5, 5, 4, 0, 4, 8, 1, 1, 6, 2, 0, 8, 2, 0, 4, 4, 7, 6, 0, 7, 1, 4, 3, 9, 0, 1, 4, 7, 8, 4, 9, 6, 0, 0, 7, 6, 0, 7, 6, 2, 0, 4, 9, 8, 1, 3, 9, 2, 6, 5, 8, 3, 2, 8, 3, 5, 0, 6, 5, 1, 1, 9, 4, 7, 7, 9, 8, 3, 9, 6, 9, 0, 1, 6, 1, 0, 0, 7, 6, 0, 4, 4, 1, 8, 8, 9, 6, 3, 5, 4, 8, 3, 0, 6, 3, 8, 4, 2, 2, 6, 0, 6, 2, 2, 3, 1, 0, 5, 9, 8, 7, 7, 5, 9, 0, 8, 1, 6, 6, 7, 5, 4, 2, 8, 2, 0, 6, 1, 5, 5, 8, 9, 0, 8, 9, 7, 2, 5, 8, 0, 6, 8, 5, 8, 8, 2, 8, 9, 2, 6, 7, 4, 1, 4, 6, 5, 3, 1, 0, 2, 7, 0, 7, 8, 6, 2, 8, 0, 5, 8, 6, 5, 8, 5, 2, 9, 7, 9, 7, 1, 0, 0, 8, 6, 2, 2, 3, 9, 6, 2, 0, 6, 2, 4, 0, 0, 7, 5, 0, 5, 1, 0, 6, 4, 3, 6, 7, 4, 5, 2, 5, 1, 0, 3, 9, 9, 8, 4, 4, 4, 0, 6, 9, 2, 3, 1, 0, 4, 0, 8, 8, 4, 9, 4, 2, 3, 3, 9, 2, 0, 1, 0, 1, 6, 4, 8, 5, 5, 0, 5, 7, 6, 2, 5, 4, 4, 3, 3, 9, 0, 1, 5, 3, 5, 0, 6, 0, 4, 2, 2, 5, 6, 5, 0, 9, 3, 6, 0, 6, 5, 0, 3, 7, 2, 0, 9, 2, 1, 2, 1, 8, 3, 9, 1, 1, 5, 0, 0, 8, 4, 0, 2, 4, 5, 3, 4, 3, 2, 0, 6, 6, 0, 9, 3, 1, 8, 3, 7, 8, 0, 4, 8, 9, 0, 1, 7, 1, 6, 7, 9, 5, 4, 1, 5, 9, 8, 4, 7, 1, 6, 3, 3, 9, 7, 1, 8, 7, 5, 8, 6, 0, 9, 2, 9, 8, 8, 6, 7, 5, 7, 1, 3, 9, 8, 9, 5, 3, 4, 0, 5, 3, 0, 5, 9, 7, 3, 5, 4, 6, 5, 1, 8, 6, 7, 2, 9, 0, 0, 2, 8, 8, 7, 3, 7, 8, 0, 0, 3, 9, 7, 8, 0, 0, 8, 5, 4, 8, 3, 2, 5, 5, 1, 4, 1, 9, 6, 5, 5, 9, 3, 7, 8, 7, 2, 5, 6, 3, 9, 7, 6, 0, 4, 6, 4, 3, 9, 4, 5, 1, 9, 4, 0, 2, 6, 7, 4, 0, 9, 0, 7, 9, 5, 3, 3, 8, 0, 3, 6, 1, 3, 8, 5, 8, 2, 0, 6, 1, 1, 4, 0, 6, 8, 9, 2, 2, 0, 1, 9, 3, 5, 6, 8, 9, 9, 4, 1, 0, 7, 8, 7, 4, 5, 4, 9, 7, 5, 5, 9, 8, 4, 5, 6, 1, 3, 8, 7, 9, 3, 6, 5, 9, 4, 2, 3, 7, 6, 2, 6, 1, 2, 8, 3, 6, 6, 1, 5, 4, 8, 5, 5, 1, 5, 4, 8, 2, 5, 9, 3, 2, 2, 6, 6, 1, 3, 6, 6, 3, 1, 5, 5, 5, 2, 5, 9, 8, 8, 4, 7, 2, 7, 7, 5, 6, 5, 0, 6, 8, 2, 3, 6, 1, 6, 9, 7, 8, 3, 6, 2, 8, 1, 7, 8, 1, 2, 7, 1, 6, 8, 0, 8, 6, 8, 5, 7, 1, 2, 5, 2, 8, 9, 7, 0, 1, 6, 6, 8, 8, 9, 0, 9, 0, 1, 6, 6, 0, 2, 0, 6, 4, 6, 4, 6, 8, 8, 4, 1, 7, 8, 3, 0, 0, 9, 1, 1, 9, 9, 6, 7, 5, 6, 2, 0, 3, 8, 9, 6, 6, 8, 0, 6, 3, 4, 6, 8, 8, 5, 5, 1, 2, 2, 0, 6, 4, 2, 4, 6, 0, 1, 7, 7, 4, 4, 1, 0, 9, 9, 0, 5, 7, 1, 0, 8, 2, 8, 6, 7, 6, 8, 4, 4, 5, 5, 0, 3, 6, 1, 7, 7, 9, 2, 4, 3, 9, 0, 5, 0, 1, 1, 9, 0, 7, 5, 7, 9, 7, 8, 7, 0, 4, 9, 5, 9, 7, 0, 6, 4, 8, 8, 4, 6, 6, 6, 8, 1, 8, 4, 4, 8, 9, 2, 0, 1, 2, 9, 1, 3, 2, 2, 0, 9, 6, 6, 1, 5, 4, 0, 3, 0, 8, 9, 1, 4, 2, 3, 5, 8, 7, 8, 2, 5, 8, 8, 3, 8, 4, 7, 5, 1, 1, 8, 5, 4, 9, 7, 8, 1, 7, 7, 1, 9, 6, 2, 6, 2, 5, 8, 2, 7, 5, 4, 2, 2, 9, 5, 1, 2, 6, 0, 6, 6, 0, 9, 8, 7, 9, 0, 4, 7, 0, 5, 4, 9, 2, 1, 9, 5, 4, 5, 8, 1, 6, 4, 8, 9, 8, 8, 6, 1, 7, 0, 1, 9, 2, 2, 6, 6, 2, 9, 7, 4, 8, 8, 3, 2, 1, 6, 5, 8, 1, 1, 3, 7, 0, 7, 0, 6, 8, 1, 3, 9, 6, 7, 3, 3, 2, 9, 5, 6, 1, 2, 4, 0, 6, 7, 0, 6, 4, 8, 9, 3, 9, 4, 3, 3, 2, 4, 3, 2, 6, 0, 8, 0, 0, 1, 4, 0, 3, 1, 5, 0, 4, 8, 0, 8, 7, 1, 3, 0, 1, 5, 0, 8, 1, 1, 4, 8, 2, 3, 1, 8, 2, 8, 1, 0, 5, 8, 4, 0, 5, 9, 4, 6, 4, 9, 5, 0, 0, 4, 7, 8, 7, 2, 4, 5, 6, 7, 8, 6, 1, 3, 9, 8, 8, 2, 2, 4, 4, 8, 4, 9, 7, 3, 1, 6, 3, 2, 6, 2, 6, 0, 0, 9, 0, 0, 1, 3, 1, 0, 1, 2, 1, 0, 6, 4, 7, 8, 7, 9, 3, 8, 8, 4, 5, 0, 0, 1, 3, 5, 2, 1, 2, 4, 8, 8, 7, 0, 0, 8, 6, 0, 1, 1, 9, 8, 1, 7, 9, 8, 7, 8, 2, 8, 2, 5, 4, 6, 8, 3, 1, 8, 4, 4, 8, 5, 8, 4, 0, 8, 4, 4, 1, 8, 4, 9, 5, 5, 1, 9, 0, 7, 7, 0, 2, 8, 7, 7, 8, 5, 7, 0, 8, 0, 0, 1, 5, 0, 5, 7, 8, 6, 7, 6, 4, 5, 6, 4, 9, 4, 8, 1, 7, 5, 5, 4, 3, 0, 4, 6, 0, 4, 5, 0, 0, 8, 4, 7, 0, 3, 5, 5, 5, 5, 5, 2, 7]\n"
          ]
        },
        {
          "output_type": "stream",
          "name": "stderr",
          "text": [
            "\n"
          ]
        }
      ]
    },
    {
      "cell_type": "code",
      "source": [
        "import numpy as np\n",
        "import matplotlib.pyplot as plt\n",
        "\n",
        "# Convert the lists to numpy arrays\n",
        "true_labels = np.array(true_labels)\n",
        "predicted_labels = np.array(predicted_labels)\n",
        "\n",
        "# Count the occurrences of each label\n",
        "true_label_counts = np.bincount(true_labels)\n",
        "predicted_label_counts = np.bincount(predicted_labels)\n",
        "\n",
        "# Get the unique labels\n",
        "labels = np.unique(np.concatenate((true_labels, predicted_labels)))\n",
        "\n",
        "# Set the bar width\n",
        "bar_width = 0.35\n",
        "\n",
        "# Set the x positions for the bars\n",
        "x = np.arange(len(labels))\n",
        "\n",
        "# Plot the true label counts\n",
        "plt.bar(x, true_label_counts, width=bar_width, label='True Labels')\n",
        "\n",
        "# Plot the predicted label counts\n",
        "plt.bar(x + bar_width, predicted_label_counts, width=bar_width, label='Predicted Labels')\n",
        "\n",
        "# Set the x-axis labels\n",
        "plt.xticks(x + bar_width / 2, labels)\n",
        "\n",
        "# Set the plot title and axes labels\n",
        "plt.title('True and Predicted Labels')\n",
        "plt.xlabel('Label')\n",
        "plt.ylabel('Count')\n",
        "\n",
        "# Display the legend\n",
        "plt.legend()\n",
        "\n",
        "# Show the plot\n",
        "plt.show()\n"
      ],
      "metadata": {
        "id": "NL3GDjRU9c-q",
        "colab": {
          "base_uri": "https://localhost:8080/",
          "height": 472
        },
        "outputId": "f50d263f-b707-4c1c-df90-60535aeb9349"
      },
      "execution_count": null,
      "outputs": [
        {
          "output_type": "display_data",
          "data": {
            "text/plain": [
              "<Figure size 640x480 with 1 Axes>"
            ],
            "image/png": "[encoded data removed]"
          },
          "metadata": {}
        }
      ]
    },
    {
      "cell_type": "code",
      "source": [
        "import numpy as np\n",
        "import matplotlib.pyplot as plt\n",
        "\n",
        "# Convert the lists to numpy arrays\n",
        "true_labels = np.array(true_labels)\n",
        "predicted_labels = np.array(predicted_labels)\n",
        "\n",
        "# Plot the true and predicted values\n",
        "plt.scatter(true_labels, predicted_labels, alpha=0.5)\n",
        "\n",
        "# Set the plot title and axes labels\n",
        "plt.title('True vs Predicted Labels')\n",
        "plt.xlabel('True Labels')\n",
        "plt.ylabel('Predicted Labels')\n",
        "\n",
        "# Set the plot limits\n",
        "min_value = min(np.min(true_labels), np.min(predicted_labels))\n",
        "max_value = max(np.max(true_labels), np.max(predicted_labels))\n",
        "plt.xlim(min_value, max_value)\n",
        "plt.ylim(min_value, max_value)\n",
        "\n",
        "# Add a diagonal line for reference\n",
        "plt.plot([min_value, max_value], [min_value, max_value], color='red', linestyle='--')\n",
        "\n",
        "# Show the plot\n",
        "plt.show()\n"
      ],
      "metadata": {
        "colab": {
          "base_uri": "https://localhost:8080/",
          "height": 472
        },
        "id": "ZoT0El3u4Yrj",
        "outputId": "bf437300-c12f-44b2-e6a7-67bcecdd17d4"
      },
      "execution_count": null,
      "outputs": [
        {
          "output_type": "display_data",
          "data": {
            "text/plain": [
              "<Figure size 640x480 with 1 Axes>"
            ],
            "image/png": "[encoded data removed]"
          },
          "metadata": {}
        }
      ]
    },
    {
      "cell_type": "code",
      "source": [
        "import numpy as np\n",
        "import matplotlib.pyplot as plt\n",
        "\n",
        "# Convert the lists to numpy arrays\n",
        "true_labels = np.array(true_labels)\n",
        "predicted_labels = np.array(predicted_labels)\n",
        "\n",
        "# Generate the x-axis values (indices of the data points)\n",
        "x = np.arange(len(true_labels))\n",
        "\n",
        "# Plot the true labels\n",
        "plt.plot(x, true_labels, label='True Labels')\n",
        "\n",
        "# Plot the predicted labels\n",
        "plt.plot(x, predicted_labels, label='Predicted Labels')\n",
        "\n",
        "# Set the plot title and axes labels\n",
        "plt.title('True and Predicted Labels')\n",
        "plt.xlabel('Data Points')\n",
        "plt.ylabel('Labels')\n",
        "\n",
        "# Add a legend\n",
        "plt.legend()\n",
        "\n",
        "# Show the plot\n",
        "plt.show()\n"
      ],
      "metadata": {
        "colab": {
          "base_uri": "https://localhost:8080/",
          "height": 472
        },
        "id": "100gEQDG4nrs",
        "outputId": "20c6129a-9584-4778-d462-8f6cfe1c275b"
      },
      "execution_count": null,
      "outputs": [
        {
          "output_type": "display_data",
          "data": {
            "text/plain": [
              "<Figure size 640x480 with 1 Axes>"
            ],
            "image/png": "[encoded data removed]"
          },
          "metadata": {}
        }
      ]
    },
    {
      "cell_type": "code",
      "source": [],
      "metadata": {
        "id": "Xfq81yah5bvz"
      },
      "execution_count": null,
      "outputs": []
    }
  ]
}